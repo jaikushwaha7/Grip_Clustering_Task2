{
 "cells": [
  {
   "cell_type": "code",
   "execution_count": 3,
   "metadata": {},
   "outputs": [],
   "source": [
    "import pandas as pd\n",
    "import numpy as np\n",
    "import seaborn as sns\n",
    "from sklearn.cluster import KMeans \n",
    "import matplotlib.pyplot as plt\n",
    "%matplotlib inline"
   ]
  },
  {
   "cell_type": "code",
   "execution_count": 4,
   "metadata": {},
   "outputs": [],
   "source": [
    "# loading dataset\n",
    "data_df = pd.read_csv(\"iris.csv\")"
   ]
  },
  {
   "cell_type": "code",
   "execution_count": 39,
   "metadata": {},
   "outputs": [
    {
     "name": "stdout",
     "output_type": "stream",
     "text": [
      "Setup Succesfully Completed!\n"
     ]
    },
    {
     "data": {
      "text/html": [
       "<style  type=\"text/css\" >\n",
       "</style><table id=\"T_93d37174_0d41_11eb_aca3_9828a61be8b1\" ><thead>    <tr>        <th class=\"blank level0\" ></th>        <th class=\"col_heading level0 col0\" >Description</th>        <th class=\"col_heading level0 col1\" >Value</th>    </tr></thead><tbody>\n",
       "                <tr>\n",
       "                        <th id=\"T_93d37174_0d41_11eb_aca3_9828a61be8b1level0_row0\" class=\"row_heading level0 row0\" >0</th>\n",
       "                        <td id=\"T_93d37174_0d41_11eb_aca3_9828a61be8b1row0_col0\" class=\"data row0 col0\" >session_id </td>\n",
       "                        <td id=\"T_93d37174_0d41_11eb_aca3_9828a61be8b1row0_col1\" class=\"data row0 col1\" >420</td>\n",
       "            </tr>\n",
       "            <tr>\n",
       "                        <th id=\"T_93d37174_0d41_11eb_aca3_9828a61be8b1level0_row1\" class=\"row_heading level0 row1\" >1</th>\n",
       "                        <td id=\"T_93d37174_0d41_11eb_aca3_9828a61be8b1row1_col0\" class=\"data row1 col0\" >Original Data </td>\n",
       "                        <td id=\"T_93d37174_0d41_11eb_aca3_9828a61be8b1row1_col1\" class=\"data row1 col1\" >(150, 4)</td>\n",
       "            </tr>\n",
       "            <tr>\n",
       "                        <th id=\"T_93d37174_0d41_11eb_aca3_9828a61be8b1level0_row2\" class=\"row_heading level0 row2\" >2</th>\n",
       "                        <td id=\"T_93d37174_0d41_11eb_aca3_9828a61be8b1row2_col0\" class=\"data row2 col0\" >Missing Values </td>\n",
       "                        <td id=\"T_93d37174_0d41_11eb_aca3_9828a61be8b1row2_col1\" class=\"data row2 col1\" >False</td>\n",
       "            </tr>\n",
       "            <tr>\n",
       "                        <th id=\"T_93d37174_0d41_11eb_aca3_9828a61be8b1level0_row3\" class=\"row_heading level0 row3\" >3</th>\n",
       "                        <td id=\"T_93d37174_0d41_11eb_aca3_9828a61be8b1row3_col0\" class=\"data row3 col0\" >Numeric Features </td>\n",
       "                        <td id=\"T_93d37174_0d41_11eb_aca3_9828a61be8b1row3_col1\" class=\"data row3 col1\" >4</td>\n",
       "            </tr>\n",
       "            <tr>\n",
       "                        <th id=\"T_93d37174_0d41_11eb_aca3_9828a61be8b1level0_row4\" class=\"row_heading level0 row4\" >4</th>\n",
       "                        <td id=\"T_93d37174_0d41_11eb_aca3_9828a61be8b1row4_col0\" class=\"data row4 col0\" >Categorical Features </td>\n",
       "                        <td id=\"T_93d37174_0d41_11eb_aca3_9828a61be8b1row4_col1\" class=\"data row4 col1\" >0</td>\n",
       "            </tr>\n",
       "            <tr>\n",
       "                        <th id=\"T_93d37174_0d41_11eb_aca3_9828a61be8b1level0_row5\" class=\"row_heading level0 row5\" >5</th>\n",
       "                        <td id=\"T_93d37174_0d41_11eb_aca3_9828a61be8b1row5_col0\" class=\"data row5 col0\" >Ordinal Features </td>\n",
       "                        <td id=\"T_93d37174_0d41_11eb_aca3_9828a61be8b1row5_col1\" class=\"data row5 col1\" >False</td>\n",
       "            </tr>\n",
       "            <tr>\n",
       "                        <th id=\"T_93d37174_0d41_11eb_aca3_9828a61be8b1level0_row6\" class=\"row_heading level0 row6\" >6</th>\n",
       "                        <td id=\"T_93d37174_0d41_11eb_aca3_9828a61be8b1row6_col0\" class=\"data row6 col0\" >High Cardinality Features </td>\n",
       "                        <td id=\"T_93d37174_0d41_11eb_aca3_9828a61be8b1row6_col1\" class=\"data row6 col1\" >False</td>\n",
       "            </tr>\n",
       "            <tr>\n",
       "                        <th id=\"T_93d37174_0d41_11eb_aca3_9828a61be8b1level0_row7\" class=\"row_heading level0 row7\" >7</th>\n",
       "                        <td id=\"T_93d37174_0d41_11eb_aca3_9828a61be8b1row7_col0\" class=\"data row7 col0\" >Transformed Data </td>\n",
       "                        <td id=\"T_93d37174_0d41_11eb_aca3_9828a61be8b1row7_col1\" class=\"data row7 col1\" >(150, 4)</td>\n",
       "            </tr>\n",
       "            <tr>\n",
       "                        <th id=\"T_93d37174_0d41_11eb_aca3_9828a61be8b1level0_row8\" class=\"row_heading level0 row8\" >8</th>\n",
       "                        <td id=\"T_93d37174_0d41_11eb_aca3_9828a61be8b1row8_col0\" class=\"data row8 col0\" >Numeric Imputer </td>\n",
       "                        <td id=\"T_93d37174_0d41_11eb_aca3_9828a61be8b1row8_col1\" class=\"data row8 col1\" >mean</td>\n",
       "            </tr>\n",
       "            <tr>\n",
       "                        <th id=\"T_93d37174_0d41_11eb_aca3_9828a61be8b1level0_row9\" class=\"row_heading level0 row9\" >9</th>\n",
       "                        <td id=\"T_93d37174_0d41_11eb_aca3_9828a61be8b1row9_col0\" class=\"data row9 col0\" >Categorical Imputer </td>\n",
       "                        <td id=\"T_93d37174_0d41_11eb_aca3_9828a61be8b1row9_col1\" class=\"data row9 col1\" >constant</td>\n",
       "            </tr>\n",
       "            <tr>\n",
       "                        <th id=\"T_93d37174_0d41_11eb_aca3_9828a61be8b1level0_row10\" class=\"row_heading level0 row10\" >10</th>\n",
       "                        <td id=\"T_93d37174_0d41_11eb_aca3_9828a61be8b1row10_col0\" class=\"data row10 col0\" >Normalize </td>\n",
       "                        <td id=\"T_93d37174_0d41_11eb_aca3_9828a61be8b1row10_col1\" class=\"data row10 col1\" >False</td>\n",
       "            </tr>\n",
       "            <tr>\n",
       "                        <th id=\"T_93d37174_0d41_11eb_aca3_9828a61be8b1level0_row11\" class=\"row_heading level0 row11\" >11</th>\n",
       "                        <td id=\"T_93d37174_0d41_11eb_aca3_9828a61be8b1row11_col0\" class=\"data row11 col0\" >Normalize Method </td>\n",
       "                        <td id=\"T_93d37174_0d41_11eb_aca3_9828a61be8b1row11_col1\" class=\"data row11 col1\" >None</td>\n",
       "            </tr>\n",
       "            <tr>\n",
       "                        <th id=\"T_93d37174_0d41_11eb_aca3_9828a61be8b1level0_row12\" class=\"row_heading level0 row12\" >12</th>\n",
       "                        <td id=\"T_93d37174_0d41_11eb_aca3_9828a61be8b1row12_col0\" class=\"data row12 col0\" >Transformation </td>\n",
       "                        <td id=\"T_93d37174_0d41_11eb_aca3_9828a61be8b1row12_col1\" class=\"data row12 col1\" >False</td>\n",
       "            </tr>\n",
       "            <tr>\n",
       "                        <th id=\"T_93d37174_0d41_11eb_aca3_9828a61be8b1level0_row13\" class=\"row_heading level0 row13\" >13</th>\n",
       "                        <td id=\"T_93d37174_0d41_11eb_aca3_9828a61be8b1row13_col0\" class=\"data row13 col0\" >Transformation Method </td>\n",
       "                        <td id=\"T_93d37174_0d41_11eb_aca3_9828a61be8b1row13_col1\" class=\"data row13 col1\" >None</td>\n",
       "            </tr>\n",
       "            <tr>\n",
       "                        <th id=\"T_93d37174_0d41_11eb_aca3_9828a61be8b1level0_row14\" class=\"row_heading level0 row14\" >14</th>\n",
       "                        <td id=\"T_93d37174_0d41_11eb_aca3_9828a61be8b1row14_col0\" class=\"data row14 col0\" >PCA </td>\n",
       "                        <td id=\"T_93d37174_0d41_11eb_aca3_9828a61be8b1row14_col1\" class=\"data row14 col1\" >False</td>\n",
       "            </tr>\n",
       "            <tr>\n",
       "                        <th id=\"T_93d37174_0d41_11eb_aca3_9828a61be8b1level0_row15\" class=\"row_heading level0 row15\" >15</th>\n",
       "                        <td id=\"T_93d37174_0d41_11eb_aca3_9828a61be8b1row15_col0\" class=\"data row15 col0\" >PCA Method </td>\n",
       "                        <td id=\"T_93d37174_0d41_11eb_aca3_9828a61be8b1row15_col1\" class=\"data row15 col1\" >None</td>\n",
       "            </tr>\n",
       "            <tr>\n",
       "                        <th id=\"T_93d37174_0d41_11eb_aca3_9828a61be8b1level0_row16\" class=\"row_heading level0 row16\" >16</th>\n",
       "                        <td id=\"T_93d37174_0d41_11eb_aca3_9828a61be8b1row16_col0\" class=\"data row16 col0\" >PCA components </td>\n",
       "                        <td id=\"T_93d37174_0d41_11eb_aca3_9828a61be8b1row16_col1\" class=\"data row16 col1\" >None</td>\n",
       "            </tr>\n",
       "            <tr>\n",
       "                        <th id=\"T_93d37174_0d41_11eb_aca3_9828a61be8b1level0_row17\" class=\"row_heading level0 row17\" >17</th>\n",
       "                        <td id=\"T_93d37174_0d41_11eb_aca3_9828a61be8b1row17_col0\" class=\"data row17 col0\" >Ignore Low Variance </td>\n",
       "                        <td id=\"T_93d37174_0d41_11eb_aca3_9828a61be8b1row17_col1\" class=\"data row17 col1\" >False</td>\n",
       "            </tr>\n",
       "            <tr>\n",
       "                        <th id=\"T_93d37174_0d41_11eb_aca3_9828a61be8b1level0_row18\" class=\"row_heading level0 row18\" >18</th>\n",
       "                        <td id=\"T_93d37174_0d41_11eb_aca3_9828a61be8b1row18_col0\" class=\"data row18 col0\" >Combine Rare Levels </td>\n",
       "                        <td id=\"T_93d37174_0d41_11eb_aca3_9828a61be8b1row18_col1\" class=\"data row18 col1\" >False</td>\n",
       "            </tr>\n",
       "            <tr>\n",
       "                        <th id=\"T_93d37174_0d41_11eb_aca3_9828a61be8b1level0_row19\" class=\"row_heading level0 row19\" >19</th>\n",
       "                        <td id=\"T_93d37174_0d41_11eb_aca3_9828a61be8b1row19_col0\" class=\"data row19 col0\" >Rare Level Threshold </td>\n",
       "                        <td id=\"T_93d37174_0d41_11eb_aca3_9828a61be8b1row19_col1\" class=\"data row19 col1\" >None</td>\n",
       "            </tr>\n",
       "            <tr>\n",
       "                        <th id=\"T_93d37174_0d41_11eb_aca3_9828a61be8b1level0_row20\" class=\"row_heading level0 row20\" >20</th>\n",
       "                        <td id=\"T_93d37174_0d41_11eb_aca3_9828a61be8b1row20_col0\" class=\"data row20 col0\" >Numeric Binning </td>\n",
       "                        <td id=\"T_93d37174_0d41_11eb_aca3_9828a61be8b1row20_col1\" class=\"data row20 col1\" >False</td>\n",
       "            </tr>\n",
       "            <tr>\n",
       "                        <th id=\"T_93d37174_0d41_11eb_aca3_9828a61be8b1level0_row21\" class=\"row_heading level0 row21\" >21</th>\n",
       "                        <td id=\"T_93d37174_0d41_11eb_aca3_9828a61be8b1row21_col0\" class=\"data row21 col0\" >Remove Multicollinearity </td>\n",
       "                        <td id=\"T_93d37174_0d41_11eb_aca3_9828a61be8b1row21_col1\" class=\"data row21 col1\" >False</td>\n",
       "            </tr>\n",
       "            <tr>\n",
       "                        <th id=\"T_93d37174_0d41_11eb_aca3_9828a61be8b1level0_row22\" class=\"row_heading level0 row22\" >22</th>\n",
       "                        <td id=\"T_93d37174_0d41_11eb_aca3_9828a61be8b1row22_col0\" class=\"data row22 col0\" >Multicollinearity Threshold </td>\n",
       "                        <td id=\"T_93d37174_0d41_11eb_aca3_9828a61be8b1row22_col1\" class=\"data row22 col1\" >None</td>\n",
       "            </tr>\n",
       "            <tr>\n",
       "                        <th id=\"T_93d37174_0d41_11eb_aca3_9828a61be8b1level0_row23\" class=\"row_heading level0 row23\" >23</th>\n",
       "                        <td id=\"T_93d37174_0d41_11eb_aca3_9828a61be8b1row23_col0\" class=\"data row23 col0\" >Group Features </td>\n",
       "                        <td id=\"T_93d37174_0d41_11eb_aca3_9828a61be8b1row23_col1\" class=\"data row23 col1\" >False</td>\n",
       "            </tr>\n",
       "    </tbody></table>"
      ],
      "text/plain": [
       "<pandas.io.formats.style.Styler at 0x148825d78c8>"
      ]
     },
     "metadata": {},
     "output_type": "display_data"
    },
    {
     "name": "stderr",
     "output_type": "stream",
     "text": [
      "INFO:logs:Logging experiment in MLFlow\n",
      "INFO:logs:SubProcess save_model() called ==================================\n",
      "INFO:logs:Initializing save_model()\n",
      "INFO:logs:save_model(model=Pipeline(memory=None,\n",
      "         steps=[('dtypes',\n",
      "                 DataTypes_Auto_infer(categorical_features=[],\n",
      "                                      display_types=True, features_todrop=[],\n",
      "                                      ml_usecase='regression',\n",
      "                                      numerical_features=[],\n",
      "                                      target='dummy_target',\n",
      "                                      time_features=[])),\n",
      "                ('imputer',\n",
      "                 Simple_Imputer(categorical_strategy='not_available',\n",
      "                                numeric_strategy='mean',\n",
      "                                target_variable=None)),\n",
      "                ('new_levels1',\n",
      "                 New_Catagorical_L...\n",
      "                                                    target='dummy_target')),\n",
      "                ('feature_time',\n",
      "                 Make_Time_Features(list_of_features=None, time_feature=[])),\n",
      "                ('group', Empty()), ('scaling', Empty()),\n",
      "                ('P_transform', Empty()), ('binn', Empty()),\n",
      "                ('fix_perfect', Empty()), ('rem_outliers', Empty()),\n",
      "                ('dummy', Dummify(target='dummy_target')),\n",
      "                ('clean_names', Clean_Colum_Names()), ('fix_multi', Empty()),\n",
      "                ('pca', Empty())],\n",
      "         verbose=False), model_name=Transformation Pipeline, verbose=False)\n",
      "INFO:logs:Appending prep pipeline\n",
      "INFO:logs:Transformation Pipeline.pkl saved in current working directory\n",
      "INFO:logs:[Pipeline(memory=None,\n",
      "         steps=[('dtypes',\n",
      "                 DataTypes_Auto_infer(categorical_features=[],\n",
      "                                      display_types=True, features_todrop=[],\n",
      "                                      ml_usecase='regression',\n",
      "                                      numerical_features=[],\n",
      "                                      target='dummy_target',\n",
      "                                      time_features=[])),\n",
      "                ('imputer',\n",
      "                 Simple_Imputer(categorical_strategy='not_available',\n",
      "                                numeric_strategy='mean',\n",
      "                                target_variable=None)),\n",
      "                ('new_levels1',\n",
      "                 New_Catagorical_L...\n",
      "                                                    target='dummy_target')),\n",
      "                ('feature_time',\n",
      "                 Make_Time_Features(list_of_features=None, time_feature=[])),\n",
      "                ('group', Empty()), ('scaling', Empty()),\n",
      "                ('P_transform', Empty()), ('binn', Empty()),\n",
      "                ('fix_perfect', Empty()), ('rem_outliers', Empty()),\n",
      "                ('dummy', Dummify(target='dummy_target')),\n",
      "                ('clean_names', Clean_Colum_Names()), ('fix_multi', Empty()),\n",
      "                ('pca', Empty())],\n",
      "         verbose=False), Pipeline(memory=None,\n",
      "         steps=[('dtypes',\n",
      "                 DataTypes_Auto_infer(categorical_features=[],\n",
      "                                      display_types=True, features_todrop=[],\n",
      "                                      ml_usecase='regression',\n",
      "                                      numerical_features=[],\n",
      "                                      target='dummy_target',\n",
      "                                      time_features=[])),\n",
      "                ('imputer',\n",
      "                 Simple_Imputer(categorical_strategy='not_available',\n",
      "                                numeric_strategy='mean',\n",
      "                                target_variable=None)),\n",
      "                ('new_levels1',\n",
      "                 New_Catagorical_L...\n",
      "                                                    target='dummy_target')),\n",
      "                ('feature_time',\n",
      "                 Make_Time_Features(list_of_features=None, time_feature=[])),\n",
      "                ('group', Empty()), ('scaling', Empty()),\n",
      "                ('P_transform', Empty()), ('binn', Empty()),\n",
      "                ('fix_perfect', Empty()), ('rem_outliers', Empty()),\n",
      "                ('dummy', Dummify(target='dummy_target')),\n",
      "                ('clean_names', Clean_Colum_Names()), ('fix_multi', Empty()),\n",
      "                ('pca', Empty())],\n",
      "         verbose=False)]\n",
      "INFO:logs:save_model() succesfully completed......................................\n",
      "INFO:logs:SubProcess save_model() end ==================================\n",
      "INFO:logs:Pipeline(memory=None,\n",
      "         steps=[('dtypes',\n",
      "                 DataTypes_Auto_infer(categorical_features=[],\n",
      "                                      display_types=True, features_todrop=[],\n",
      "                                      ml_usecase='regression',\n",
      "                                      numerical_features=[],\n",
      "                                      target='dummy_target',\n",
      "                                      time_features=[])),\n",
      "                ('imputer',\n",
      "                 Simple_Imputer(categorical_strategy='not_available',\n",
      "                                numeric_strategy='mean',\n",
      "                                target_variable=None)),\n",
      "                ('new_levels1',\n",
      "                 New_Catagorical_L...\n",
      "                                                    target='dummy_target')),\n",
      "                ('feature_time',\n",
      "                 Make_Time_Features(list_of_features=None, time_feature=[])),\n",
      "                ('group', Empty()), ('scaling', Empty()),\n",
      "                ('P_transform', Empty()), ('binn', Empty()),\n",
      "                ('fix_perfect', Empty()), ('rem_outliers', Empty()),\n",
      "                ('dummy', Dummify(target='dummy_target')),\n",
      "                ('clean_names', Clean_Colum_Names()), ('fix_multi', Empty()),\n",
      "                ('pca', Empty())],\n",
      "         verbose=False)\n",
      "INFO:logs:setup() succesfully completed......................................\n"
     ]
    }
   ],
   "source": [
    "# initializing setup\n",
    "from pycaret.clustering import *\n",
    "clu1 = setup(data_df.iloc[:,1:5], log_experiment = True, experiment_name = 'iris')"
   ]
  },
  {
   "cell_type": "code",
   "execution_count": 40,
   "metadata": {},
   "outputs": [
    {
     "data": {
      "text/html": [
       "<div>\n",
       "<style scoped>\n",
       "    .dataframe tbody tr th:only-of-type {\n",
       "        vertical-align: middle;\n",
       "    }\n",
       "\n",
       "    .dataframe tbody tr th {\n",
       "        vertical-align: top;\n",
       "    }\n",
       "\n",
       "    .dataframe thead th {\n",
       "        text-align: right;\n",
       "    }\n",
       "</style>\n",
       "<table border=\"1\" class=\"dataframe\">\n",
       "  <thead>\n",
       "    <tr style=\"text-align: right;\">\n",
       "      <th></th>\n",
       "      <th>Metric</th>\n",
       "    </tr>\n",
       "  </thead>\n",
       "  <tbody>\n",
       "    <tr>\n",
       "      <th>Silhouette</th>\n",
       "      <td>0.4972</td>\n",
       "    </tr>\n",
       "    <tr>\n",
       "      <th>Calinski-Harabasz</th>\n",
       "      <td>529.1207</td>\n",
       "    </tr>\n",
       "    <tr>\n",
       "      <th>Davies-Bouldin</th>\n",
       "      <td>0.7760</td>\n",
       "    </tr>\n",
       "  </tbody>\n",
       "</table>\n",
       "</div>"
      ],
      "text/plain": [
       "                     Metric\n",
       "Silhouette           0.4972\n",
       "Calinski-Harabasz  529.1207\n",
       "Davies-Bouldin       0.7760"
      ]
     },
     "metadata": {},
     "output_type": "display_data"
    },
    {
     "name": "stderr",
     "output_type": "stream",
     "text": [
      "INFO:logs:KMeans(algorithm='auto', copy_x=True, init='k-means++', max_iter=300,\n",
      "       n_clusters=4, n_init=10, n_jobs=-1, precompute_distances='deprecated',\n",
      "       random_state=420, tol=0.0001, verbose=0)\n",
      "INFO:logs:create_models() succesfully completed......................................\n"
     ]
    }
   ],
   "source": [
    "# create kmeans model\n",
    "kmeans = create_model('kmeans')"
   ]
  },
  {
   "cell_type": "code",
   "execution_count": 41,
   "metadata": {},
   "outputs": [
    {
     "data": {
      "text/html": [
       "<div>\n",
       "<style scoped>\n",
       "    .dataframe tbody tr th:only-of-type {\n",
       "        vertical-align: middle;\n",
       "    }\n",
       "\n",
       "    .dataframe tbody tr th {\n",
       "        vertical-align: top;\n",
       "    }\n",
       "\n",
       "    .dataframe thead th {\n",
       "        text-align: right;\n",
       "    }\n",
       "</style>\n",
       "<table border=\"1\" class=\"dataframe\">\n",
       "  <thead>\n",
       "    <tr style=\"text-align: right;\">\n",
       "      <th></th>\n",
       "      <th>Metric</th>\n",
       "    </tr>\n",
       "  </thead>\n",
       "  <tbody>\n",
       "    <tr>\n",
       "      <th>Silhouette</th>\n",
       "      <td>-0.1673</td>\n",
       "    </tr>\n",
       "    <tr>\n",
       "      <th>Calinski-Harabasz</th>\n",
       "      <td>9.8581</td>\n",
       "    </tr>\n",
       "    <tr>\n",
       "      <th>Davies-Bouldin</th>\n",
       "      <td>4.6042</td>\n",
       "    </tr>\n",
       "  </tbody>\n",
       "</table>\n",
       "</div>"
      ],
      "text/plain": [
       "                   Metric\n",
       "Silhouette        -0.1673\n",
       "Calinski-Harabasz  9.8581\n",
       "Davies-Bouldin     4.6042"
      ]
     },
     "metadata": {},
     "output_type": "display_data"
    },
    {
     "name": "stderr",
     "output_type": "stream",
     "text": [
      "INFO:logs:KModes(cat_dissim=<function matching_dissim at 0x00000148FB5C75E8>, init='Cao',\n",
      "       max_iter=100, n_clusters=4, n_init=1, n_jobs=-1, random_state=420,\n",
      "       verbose=0)\n",
      "INFO:logs:create_models() succesfully completed......................................\n"
     ]
    }
   ],
   "source": [
    "# create kmodes model\n",
    "kmodes = create_model('kmodes')"
   ]
  },
  {
   "cell_type": "code",
   "execution_count": 42,
   "metadata": {},
   "outputs": [
    {
     "name": "stderr",
     "output_type": "stream",
     "text": [
      "INFO:logs:(150, 5)\n",
      "INFO:logs:assign_model() succesfully completed......................................\n"
     ]
    }
   ],
   "source": [
    "# assign labels using trained model\n",
    "kmeans_df = assign_model(kmeans)"
   ]
  },
  {
   "cell_type": "code",
   "execution_count": 43,
   "metadata": {},
   "outputs": [
    {
     "data": {
      "text/html": [
       "<div>\n",
       "<style scoped>\n",
       "    .dataframe tbody tr th:only-of-type {\n",
       "        vertical-align: middle;\n",
       "    }\n",
       "\n",
       "    .dataframe tbody tr th {\n",
       "        vertical-align: top;\n",
       "    }\n",
       "\n",
       "    .dataframe thead th {\n",
       "        text-align: right;\n",
       "    }\n",
       "</style>\n",
       "<table border=\"1\" class=\"dataframe\">\n",
       "  <thead>\n",
       "    <tr style=\"text-align: right;\">\n",
       "      <th></th>\n",
       "      <th>SepalLengthCm</th>\n",
       "      <th>SepalWidthCm</th>\n",
       "      <th>PetalLengthCm</th>\n",
       "      <th>PetalWidthCm</th>\n",
       "      <th>Cluster</th>\n",
       "    </tr>\n",
       "  </thead>\n",
       "  <tbody>\n",
       "    <tr>\n",
       "      <th>0</th>\n",
       "      <td>5.1</td>\n",
       "      <td>3.5</td>\n",
       "      <td>1.4</td>\n",
       "      <td>0.2</td>\n",
       "      <td>Cluster 2</td>\n",
       "    </tr>\n",
       "    <tr>\n",
       "      <th>1</th>\n",
       "      <td>4.9</td>\n",
       "      <td>3.0</td>\n",
       "      <td>1.4</td>\n",
       "      <td>0.2</td>\n",
       "      <td>Cluster 2</td>\n",
       "    </tr>\n",
       "    <tr>\n",
       "      <th>2</th>\n",
       "      <td>4.7</td>\n",
       "      <td>3.2</td>\n",
       "      <td>1.3</td>\n",
       "      <td>0.2</td>\n",
       "      <td>Cluster 2</td>\n",
       "    </tr>\n",
       "    <tr>\n",
       "      <th>3</th>\n",
       "      <td>4.6</td>\n",
       "      <td>3.1</td>\n",
       "      <td>1.5</td>\n",
       "      <td>0.2</td>\n",
       "      <td>Cluster 2</td>\n",
       "    </tr>\n",
       "    <tr>\n",
       "      <th>4</th>\n",
       "      <td>5.0</td>\n",
       "      <td>3.6</td>\n",
       "      <td>1.4</td>\n",
       "      <td>0.2</td>\n",
       "      <td>Cluster 2</td>\n",
       "    </tr>\n",
       "  </tbody>\n",
       "</table>\n",
       "</div>"
      ],
      "text/plain": [
       "   SepalLengthCm  SepalWidthCm  PetalLengthCm  PetalWidthCm    Cluster\n",
       "0            5.1           3.5            1.4           0.2  Cluster 2\n",
       "1            4.9           3.0            1.4           0.2  Cluster 2\n",
       "2            4.7           3.2            1.3           0.2  Cluster 2\n",
       "3            4.6           3.1            1.5           0.2  Cluster 2\n",
       "4            5.0           3.6            1.4           0.2  Cluster 2"
      ]
     },
     "execution_count": 43,
     "metadata": {},
     "output_type": "execute_result"
    }
   ],
   "source": [
    "kmeans_df.head()"
   ]
  },
  {
   "cell_type": "code",
   "execution_count": 44,
   "metadata": {},
   "outputs": [
    {
     "data": {
      "text/html": [
       "<div>\n",
       "<style scoped>\n",
       "    .dataframe tbody tr th:only-of-type {\n",
       "        vertical-align: middle;\n",
       "    }\n",
       "\n",
       "    .dataframe tbody tr th {\n",
       "        vertical-align: top;\n",
       "    }\n",
       "\n",
       "    .dataframe thead th {\n",
       "        text-align: right;\n",
       "    }\n",
       "</style>\n",
       "<table border=\"1\" class=\"dataframe\">\n",
       "  <thead>\n",
       "    <tr style=\"text-align: right;\">\n",
       "      <th></th>\n",
       "      <th>count</th>\n",
       "      <th>unique</th>\n",
       "      <th>top</th>\n",
       "      <th>freq</th>\n",
       "      <th>mean</th>\n",
       "      <th>std</th>\n",
       "      <th>min</th>\n",
       "      <th>20%</th>\n",
       "      <th>40%</th>\n",
       "      <th>50%</th>\n",
       "      <th>60%</th>\n",
       "      <th>80%</th>\n",
       "      <th>max</th>\n",
       "    </tr>\n",
       "  </thead>\n",
       "  <tbody>\n",
       "    <tr>\n",
       "      <th>SepalLengthCm</th>\n",
       "      <td>150</td>\n",
       "      <td>NaN</td>\n",
       "      <td>NaN</td>\n",
       "      <td>NaN</td>\n",
       "      <td>5.84333</td>\n",
       "      <td>0.828066</td>\n",
       "      <td>4.3</td>\n",
       "      <td>5</td>\n",
       "      <td>5.6</td>\n",
       "      <td>5.8</td>\n",
       "      <td>6.1</td>\n",
       "      <td>6.52</td>\n",
       "      <td>7.9</td>\n",
       "    </tr>\n",
       "    <tr>\n",
       "      <th>SepalWidthCm</th>\n",
       "      <td>150</td>\n",
       "      <td>NaN</td>\n",
       "      <td>NaN</td>\n",
       "      <td>NaN</td>\n",
       "      <td>3.054</td>\n",
       "      <td>0.433594</td>\n",
       "      <td>2</td>\n",
       "      <td>2.7</td>\n",
       "      <td>3</td>\n",
       "      <td>3</td>\n",
       "      <td>3.1</td>\n",
       "      <td>3.4</td>\n",
       "      <td>4.4</td>\n",
       "    </tr>\n",
       "    <tr>\n",
       "      <th>PetalLengthCm</th>\n",
       "      <td>150</td>\n",
       "      <td>NaN</td>\n",
       "      <td>NaN</td>\n",
       "      <td>NaN</td>\n",
       "      <td>3.75867</td>\n",
       "      <td>1.76442</td>\n",
       "      <td>1</td>\n",
       "      <td>1.5</td>\n",
       "      <td>3.9</td>\n",
       "      <td>4.35</td>\n",
       "      <td>4.64</td>\n",
       "      <td>5.32</td>\n",
       "      <td>6.9</td>\n",
       "    </tr>\n",
       "    <tr>\n",
       "      <th>PetalWidthCm</th>\n",
       "      <td>150</td>\n",
       "      <td>NaN</td>\n",
       "      <td>NaN</td>\n",
       "      <td>NaN</td>\n",
       "      <td>1.19867</td>\n",
       "      <td>0.763161</td>\n",
       "      <td>0.1</td>\n",
       "      <td>0.2</td>\n",
       "      <td>1.16</td>\n",
       "      <td>1.3</td>\n",
       "      <td>1.5</td>\n",
       "      <td>1.9</td>\n",
       "      <td>2.5</td>\n",
       "    </tr>\n",
       "    <tr>\n",
       "      <th>Cluster</th>\n",
       "      <td>150</td>\n",
       "      <td>4</td>\n",
       "      <td>Cluster 2</td>\n",
       "      <td>50</td>\n",
       "      <td>NaN</td>\n",
       "      <td>NaN</td>\n",
       "      <td>NaN</td>\n",
       "      <td>NaN</td>\n",
       "      <td>NaN</td>\n",
       "      <td>NaN</td>\n",
       "      <td>NaN</td>\n",
       "      <td>NaN</td>\n",
       "      <td>NaN</td>\n",
       "    </tr>\n",
       "  </tbody>\n",
       "</table>\n",
       "</div>"
      ],
      "text/plain": [
       "              count unique        top freq     mean       std  min  20%   40%  \\\n",
       "SepalLengthCm   150    NaN        NaN  NaN  5.84333  0.828066  4.3    5   5.6   \n",
       "SepalWidthCm    150    NaN        NaN  NaN    3.054  0.433594    2  2.7     3   \n",
       "PetalLengthCm   150    NaN        NaN  NaN  3.75867   1.76442    1  1.5   3.9   \n",
       "PetalWidthCm    150    NaN        NaN  NaN  1.19867  0.763161  0.1  0.2  1.16   \n",
       "Cluster         150      4  Cluster 2   50      NaN       NaN  NaN  NaN   NaN   \n",
       "\n",
       "                50%   60%   80%  max  \n",
       "SepalLengthCm   5.8   6.1  6.52  7.9  \n",
       "SepalWidthCm      3   3.1   3.4  4.4  \n",
       "PetalLengthCm  4.35  4.64  5.32  6.9  \n",
       "PetalWidthCm    1.3   1.5   1.9  2.5  \n",
       "Cluster         NaN   NaN   NaN  NaN  "
      ]
     },
     "execution_count": 44,
     "metadata": {},
     "output_type": "execute_result"
    }
   ],
   "source": [
    "# percentile list \n",
    "perc =[.20, .40, .60, .80] \n",
    " \n",
    "# list of dtypes to include \n",
    "include =['object', 'float', 'int'] \n",
    "# calling describe method \n",
    "desc = kmeans_df.describe(percentiles = perc, include = include).T\n",
    "  \n",
    "# display \n",
    "desc \n"
   ]
  },
  {
   "cell_type": "code",
   "execution_count": 45,
   "metadata": {},
   "outputs": [
    {
     "name": "stderr",
     "output_type": "stream",
     "text": [
      "INFO:logs:Initializing plot_model()\n",
      "INFO:logs:plot_model(model=KMeans(algorithm='auto', copy_x=True, init='k-means++', max_iter=300,\n",
      "       n_clusters=4, n_init=10, n_jobs=-1, precompute_distances='deprecated',\n",
      "       random_state=420, tol=0.0001, verbose=0), plot=cluster, feature=None, label=False, save=False, system=True)\n",
      "INFO:logs:Checking exceptions\n",
      "INFO:logs:Importing libraries\n"
     ]
    },
    {
     "data": {
      "text/html": [
       "        <script type=\"text/javascript\">\n",
       "        window.PlotlyConfig = {MathJaxConfig: 'local'};\n",
       "        if (window.MathJax) {MathJax.Hub.Config({SVG: {font: \"STIX-Web\"}});}\n",
       "        if (typeof require !== 'undefined') {\n",
       "        require.undef(\"plotly\");\n",
       "        requirejs.config({\n",
       "            paths: {\n",
       "                'plotly': ['https://cdn.plot.ly/plotly-latest.min']\n",
       "            }\n",
       "        });\n",
       "        require(['plotly'], function(Plotly) {\n",
       "            window._Plotly = Plotly;\n",
       "        });\n",
       "        }\n",
       "        </script>\n",
       "        "
      ]
     },
     "metadata": {},
     "output_type": "display_data"
    },
    {
     "name": "stderr",
     "output_type": "stream",
     "text": [
      "INFO:logs:plot type: cluster\n",
      "INFO:logs:SubProcess assign_model() called ==================================\n",
      "INFO:logs:Initializing assign_model()\n",
      "INFO:logs:assign_model(model=KMeans(algorithm='auto', copy_x=True, init='k-means++', max_iter=300,\n",
      "       n_clusters=4, n_init=10, n_jobs=-1, precompute_distances='deprecated',\n",
      "       random_state=420, tol=0.0001, verbose=0), transformation=True, verbose=False)\n",
      "INFO:logs:Checking exceptions\n",
      "INFO:logs:Preloading libraries\n",
      "INFO:logs:Copying data\n",
      "INFO:logs:Transformation param set to True. Assigned clusters are attached on transformed dataset.\n",
      "INFO:logs:Preparing display monitor\n",
      "INFO:logs:Determining Trained Model\n",
      "INFO:logs:Trained Model : K-Means Clustering\n",
      "INFO:logs:(150, 5)\n",
      "INFO:logs:assign_model() succesfully completed......................................\n",
      "INFO:logs:SubProcess assign_model() end ==================================\n",
      "INFO:logs:Fitting PCA()\n",
      "INFO:logs:Sorting dataframe\n",
      "INFO:logs:Rendering Visual\n"
     ]
    },
    {
     "data": {
      "application/vnd.plotly.v1+json": {
       "config": {
        "plotlyServerURL": "https://plot.ly"
       },
       "data": [
        {
         "customdata": [
          [
           5.2
          ],
          [
           5.8
          ],
          [
           5.5
          ],
          [
           5.5
          ],
          [
           5.6
          ],
          [
           5.4
          ],
          [
           5.8
          ],
          [
           5.5
          ],
          [
           5.5
          ],
          [
           5
          ],
          [
           5.7
          ],
          [
           5.6
          ],
          [
           5.8
          ],
          [
           5.6
          ],
          [
           6
          ],
          [
           5.9
          ],
          [
           5
          ],
          [
           4.9
          ],
          [
           5.5
          ],
          [
           6.1
          ],
          [
           5.6
          ],
          [
           5.7
          ],
          [
           5.7
          ],
          [
           5.7
          ],
          [
           5.7
          ],
          [
           4.9
          ],
          [
           5.1
          ]
         ],
         "hovertemplate": "Cluster=Cluster 0<br>PCA1=%{x}<br>PCA2=%{y}<br>Feature=%{customdata[0]}<extra></extra>",
         "legendgroup": "Cluster 0",
         "marker": {
          "color": "#636efa",
          "opacity": 0.5,
          "symbol": "circle"
         },
         "mode": "markers",
         "name": "Cluster 0",
         "orientation": "v",
         "showlegend": true,
         "textposition": "top center",
         "type": "scatter",
         "x": [
          -0.010190070727852822,
          0.2288790499696479,
          0.4630309888714247,
          0.16451342836925617,
          0.2451951616903462,
          0.5872748535799112,
          0.13499495045137355,
          -0.19188449210314515,
          -0.07034288894927106,
          -0.7070812839208597,
          -0.30733475566340396,
          0.04324640032870497,
          0.23454058625983584,
          -0.1748640019656959,
          0.2623357561531805,
          0.5110980606834775,
          -0.5110861958950897,
          -0.7514671406482263,
          0.1809672063476993,
          0.3567865678304614,
          0.35553303918706386,
          0.6404367495231457,
          0.375238228946766,
          0.33112694733272313,
          0.2978079074069342,
          0.5193832450849368,
          -0.9084633331234948
         ],
         "xaxis": "x",
         "y": [
          -0.7205748667019015,
          -0.4022576201789113,
          -0.6695265465361225,
          -0.6796614693108137,
          -0.266728035661848,
          -0.4832842677174825,
          -0.3117096427033962,
          -0.6774905443743572,
          -0.7025379317307259,
          -1.0084247617784612,
          -0.36508661276616033,
          -0.5814894466123587,
          -0.33192182936212034,
          -0.25181557108017066,
          -0.5478932980253367,
          -0.1022841050459702,
          -1.2624919538621404,
          -1.0011075129743943,
          -0.8256039435761133,
          -0.06682382794136613,
          -0.5032184874026623,
          -0.41732348297002575,
          -0.2916220248087798,
          -0.21118014066262672,
          -0.34701652159856394,
          -1.1913516890506533,
          -0.7515687251694855
         ],
         "yaxis": "y"
        },
        {
         "customdata": [
          [
           6.4
          ],
          [
           7.7
          ],
          [
           6.9
          ],
          [
           6.8
          ],
          [
           6.5
          ],
          [
           6.9
          ],
          [
           7.2
          ],
          [
           6.7
          ],
          [
           6.9
          ],
          [
           6.7
          ],
          [
           7.3
          ],
          [
           6.4
          ],
          [
           7.7
          ],
          [
           7.7
          ],
          [
           6.2
          ],
          [
           6.4
          ],
          [
           7.9
          ],
          [
           7.6
          ],
          [
           6.5
          ],
          [
           6.3
          ],
          [
           7.1
          ],
          [
           7.4
          ],
          [
           6.7
          ],
          [
           7.2
          ],
          [
           6.8
          ],
          [
           6.3
          ],
          [
           7.2
          ],
          [
           6.3
          ],
          [
           6.4
          ],
          [
           7.7
          ],
          [
           6.7
          ],
          [
           6.7
          ]
         ],
         "hovertemplate": "Cluster=Cluster 1<br>PCA1=%{x}<br>PCA2=%{y}<br>Feature=%{customdata[0]}<extra></extra>",
         "legendgroup": "Cluster 1",
         "marker": {
          "color": "#EF553B",
          "opacity": 0.5,
          "symbol": "circle"
         },
         "mode": "markers",
         "name": "Cluster 1",
         "orientation": "v",
         "showlegend": true,
         "textposition": "top center",
         "type": "scatter",
         "x": [
          1.9047435782139124,
          3.488765379656386,
          2.4281672590208476,
          2.165378862953397,
          1.949248781864498,
          1.9224508848357522,
          2.9181342336442513,
          2.314303394629548,
          2.107653731173268,
          2.319672793874053,
          2.932005096991301,
          1.9048629251371318,
          3.4992654842989572,
          3.076521621020662,
          1.901629075288233,
          2.158738373133135,
          3.232342898295874,
          3.3968799206781375,
          2.349757983950943,
          1.970814945906482,
          2.6164846082840434,
          2.840960925285384,
          2.2758536493056933,
          2.3875644023690277,
          2.563322712340809,
          2.5317269804395583,
          2.6141938306983334,
          2.144986856709304,
          2.1228539805083133,
          3.79468686120997,
          1.9440170488777369,
          2.41939121980498
         ],
         "xaxis": "x",
         "y": [
          0.11881899098269857,
          1.1715445442635644,
          0.3767819712541526,
          0.21528028337300723,
          0.040730259427767854,
          0.4092711761786957,
          0.7803806293720322,
          0.1826088507936986,
          0.3714822491771058,
          -0.2455481706069101,
          0.3523770061808598,
          0.048047508231834596,
          0.4567734669640746,
          0.6857644422460568,
          0.11587674824796555,
          -0.21832553156299322,
          1.3705240359763338,
          0.5471680462301528,
          -0.04188254965484184,
          -0.18112569470491371,
          0.3419352869872948,
          0.37274259104902147,
          0.3333865257566422,
          0.46251925072626066,
          0.27597450223983816,
          -0.011842236640300523,
          0.5583669502788224,
          0.13890660887731443,
          -0.2108548845494899,
          0.25326557097253466,
          0.18741522204601396,
          0.30350393770262885
         ],
         "yaxis": "y"
        },
        {
         "customdata": [
          [
           5
          ],
          [
           5
          ],
          [
           4.8
          ],
          [
           5.1
          ],
          [
           4.6
          ],
          [
           5.1
          ],
          [
           5.4
          ],
          [
           5.1
          ],
          [
           5.7
          ],
          [
           5.1
          ],
          [
           5.4
          ],
          [
           5.7
          ],
          [
           5.8
          ],
          [
           4.8
          ],
          [
           4.8
          ],
          [
           5.4
          ],
          [
           4.9
          ],
          [
           4.4
          ],
          [
           5
          ],
          [
           4.6
          ],
          [
           5.4
          ],
          [
           5
          ],
          [
           4.6
          ],
          [
           4.7
          ],
          [
           4.9
          ],
          [
           4.3
          ],
          [
           5.2
          ],
          [
           5.1
          ],
          [
           4.7
          ],
          [
           5
          ],
          [
           5.3
          ],
          [
           4.6
          ],
          [
           5.1
          ],
          [
           4.8
          ],
          [
           5.1
          ],
          [
           5
          ],
          [
           4.4
          ],
          [
           5.2
          ],
          [
           5
          ],
          [
           5.1
          ],
          [
           4.5
          ],
          [
           4.9
          ],
          [
           4.8
          ],
          [
           5.4
          ],
          [
           4.4
          ],
          [
           5.5
          ],
          [
           4.9
          ],
          [
           5.2
          ],
          [
           5.5
          ],
          [
           5
          ]
         ],
         "hovertemplate": "Cluster=Cluster 2<br>PCA1=%{x}<br>PCA2=%{y}<br>Feature=%{customdata[0]}<extra></extra>",
         "legendgroup": "Cluster 2",
         "marker": {
          "color": "#00cc96",
          "opacity": 0.5,
          "symbol": "circle"
         },
         "mode": "markers",
         "name": "Cluster 2",
         "orientation": "v",
         "showlegend": true,
         "textposition": "top center",
         "type": "scatter",
         "x": [
          -2.4690559975451225,
          -2.5079172268378804,
          -2.3561710866838976,
          -2.3031285376638824,
          -3.215857694900105,
          -2.5432349073036953,
          -2.3105317013131335,
          -2.587346188917738,
          -2.1990779614307634,
          -2.6483227324791265,
          -2.6225262031258083,
          -2.3838693237993756,
          -2.643543216941146,
          -2.787433975997097,
          -2.613142718271056,
          -2.5065267893389036,
          -2.6738446867191206,
          -2.887958565335634,
          -2.6264819933238184,
          -2.8208906821806297,
          -2.279897361009598,
          -2.7285929818313144,
          -2.746437197308734,
          -2.889819539617916,
          -2.71539061563413,
          -3.22520044627498,
          -2.5623909468367505,
          -2.6842071251039483,
          -2.632847908030758,
          -2.70391231486365,
          -2.5426857570770482,
          -2.8403212968270086,
          -2.537573371013507,
          -2.715665190747454,
          -2.2088329541767058,
          -2.4055141012847012,
          -2.9982964428323506,
          -2.6398212683765814,
          -2.770138910746324,
          -2.590323025585674,
          -2.8522110815663906,
          -2.6738446867191206,
          -2.588462051303391,
          -2.4100773371215958,
          -2.981842664853908,
          -2.5971594770759183,
          -2.6738446867191206,
          -2.647636673396901,
          -2.625228464680421,
          -2.866999846932534
         ],
         "xaxis": "x",
         "y": [
          0.1378873145904177,
          -0.139056339913174,
          -0.03120958906833842,
          0.10552267842998224,
          0.14161557162558355,
          0.44003175465981526,
          0.397867821588892,
          0.520473638805968,
          0.8792440880917367,
          0.3191366677508846,
          0.8180896745965952,
          1.3447543445598622,
          1.1861948994134495,
          -0.22774018887110628,
          0.021520631960257896,
          0.651935013672572,
          -0.10669170375273856,
          -0.5707980263315918,
          0.17040534896028983,
          -0.082104511024681,
          0.7477827132251336,
          0.33392456356845474,
          -0.31112431575199184,
          -0.13734560960502795,
          -0.16955684755602624,
          -0.5032799094854259,
          0.3746845627501061,
          0.3266073147643885,
          -0.19007583063362415,
          0.11501085217050566,
          0.5862810253439884,
          -0.2205763382764767,
          0.5103675454766059,
          -0.24268148289811298,
          0.4426960304210028,
          0.19591725769606078,
          -0.3343075745907773,
          0.3192900659603219,
          0.2710594197651671,
          0.23605933728887282,
          -0.9328653674695444,
          -0.10669170375273856,
          -0.19739307943769085,
          0.41808000824761615,
          -0.4802500488560767,
          1.1000219280072685,
          -0.10669170375273856,
          0.8199826325595069,
          0.6068000084215864,
          0.07719309572358721
         ],
         "yaxis": "y"
        },
        {
         "customdata": [
          [
           6
          ],
          [
           6.2
          ],
          [
           6.3
          ],
          [
           6.3
          ],
          [
           6.1
          ],
          [
           5.6
          ],
          [
           6.5
          ],
          [
           6.3
          ],
          [
           5.8
          ],
          [
           6.1
          ],
          [
           6.4
          ],
          [
           5.8
          ],
          [
           7
          ],
          [
           6.4
          ],
          [
           6.9
          ],
          [
           6.5
          ],
          [
           6.3
          ],
          [
           6.6
          ],
          [
           6.1
          ],
          [
           6.7
          ],
          [
           5.6
          ],
          [
           6.2
          ],
          [
           5.9
          ],
          [
           6.3
          ],
          [
           6.1
          ],
          [
           6.6
          ],
          [
           6.8
          ],
          [
           6.7
          ],
          [
           6
          ],
          [
           6
          ],
          [
           6
          ],
          [
           6.7
          ],
          [
           6.3
          ],
          [
           6.1
          ],
          [
           6.2
          ],
          [
           5.8
          ],
          [
           6.5
          ],
          [
           6.4
          ],
          [
           5.7
          ],
          [
           6
          ],
          [
           5.9
          ]
         ],
         "hovertemplate": "Cluster=Cluster 3<br>PCA1=%{x}<br>PCA2=%{y}<br>Feature=%{customdata[0]}<extra></extra>",
         "legendgroup": "Cluster 3",
         "marker": {
          "color": "#ab63fa",
          "opacity": 0.5,
          "symbol": "circle"
         },
         "mode": "markers",
         "name": "Cluster 3",
         "orientation": "v",
         "showlegend": true,
         "textposition": "top center",
         "type": "scatter",
         "x": [
          1.1688534694704038,
          1.2576251829251366,
          1.3876682501815556,
          1.4431026043759747,
          1.7796401068985703,
          1.1980973722749628,
          1.764045935526983,
          1.5256636313138727,
          1.4140722251737576,
          1.2906696477376016,
          0.7140082136428333,
          1.585267299308644,
          1.284794587845071,
          0.9324107529829175,
          1.4640613227790753,
          1.0871344872070012,
          1.095223709938478,
          1.0432977807062809,
          0.984044545169431,
          0.9275729420326997,
          0.6595927890562004,
          0.9423617073988423,
          1.1162407237538159,
          1.2964688502855342,
          0.9205026489090096,
          0.8996408632837759,
          1.33104141885472,
          1.557396272070702,
          0.812455548998002,
          1.378736982775583,
          0.8072054966767166,
          1.2204289662446792,
          0.81286779036907,
          0.8901604456511564,
          0.6416902781665432,
          1.4140722251737576,
          1.6619349470194866,
          1.8023404526607334,
          1.3445942175098249,
          1.2983298245678165,
          1.3896661333194171
         ],
         "xaxis": "x",
         "y": [
          -0.16450249981508994,
          -0.17913699742322278,
          -0.20403098657015473,
          -0.14380128908272616,
          -0.5014647947060157,
          -0.6055789617645945,
          0.07851918642935747,
          -0.3750208481918228,
          -0.5749250559123048,
          -0.11642525182937251,
          0.15037915314843728,
          -0.539307053847172,
          0.6854391861329202,
          0.3191980898336488,
          0.5041898329724531,
          0.0753903892887675,
          0.28389121093848035,
          0.22895690877700686,
          -0.12436042022227789,
          0.46823620504311714,
          -0.3519762910603165,
          -0.541822258150014,
          -0.08421401387837349,
          -0.3275615197949442,
          -0.18239036332792097,
          0.32961097958188407,
          0.24466952060228936,
          0.26739258481276484,
          -0.16233157487863326,
          -0.4212051382146283,
          0.19505396377111148,
          0.4080353370010176,
          -0.37067899831890966,
          -0.03381244274676266,
          0.019071176491270835,
          -0.5749250559123048,
          0.2420384010375224,
          -0.21615460662653627,
          -0.7764154251768252,
          -0.7610139365215078,
          -0.28288670917226916
         ],
         "yaxis": "y"
        }
       ],
       "layout": {
        "height": 600,
        "legend": {
         "title": {
          "text": "Cluster"
         },
         "tracegroupgap": 0
        },
        "margin": {
         "t": 60
        },
        "plot_bgcolor": "rgb(240,240,240)",
        "template": {
         "data": {
          "bar": [
           {
            "error_x": {
             "color": "#2a3f5f"
            },
            "error_y": {
             "color": "#2a3f5f"
            },
            "marker": {
             "line": {
              "color": "#E5ECF6",
              "width": 0.5
             }
            },
            "type": "bar"
           }
          ],
          "barpolar": [
           {
            "marker": {
             "line": {
              "color": "#E5ECF6",
              "width": 0.5
             }
            },
            "type": "barpolar"
           }
          ],
          "carpet": [
           {
            "aaxis": {
             "endlinecolor": "#2a3f5f",
             "gridcolor": "white",
             "linecolor": "white",
             "minorgridcolor": "white",
             "startlinecolor": "#2a3f5f"
            },
            "baxis": {
             "endlinecolor": "#2a3f5f",
             "gridcolor": "white",
             "linecolor": "white",
             "minorgridcolor": "white",
             "startlinecolor": "#2a3f5f"
            },
            "type": "carpet"
           }
          ],
          "choropleth": [
           {
            "colorbar": {
             "outlinewidth": 0,
             "ticks": ""
            },
            "type": "choropleth"
           }
          ],
          "contour": [
           {
            "colorbar": {
             "outlinewidth": 0,
             "ticks": ""
            },
            "colorscale": [
             [
              0,
              "#0d0887"
             ],
             [
              0.1111111111111111,
              "#46039f"
             ],
             [
              0.2222222222222222,
              "#7201a8"
             ],
             [
              0.3333333333333333,
              "#9c179e"
             ],
             [
              0.4444444444444444,
              "#bd3786"
             ],
             [
              0.5555555555555556,
              "#d8576b"
             ],
             [
              0.6666666666666666,
              "#ed7953"
             ],
             [
              0.7777777777777778,
              "#fb9f3a"
             ],
             [
              0.8888888888888888,
              "#fdca26"
             ],
             [
              1,
              "#f0f921"
             ]
            ],
            "type": "contour"
           }
          ],
          "contourcarpet": [
           {
            "colorbar": {
             "outlinewidth": 0,
             "ticks": ""
            },
            "type": "contourcarpet"
           }
          ],
          "heatmap": [
           {
            "colorbar": {
             "outlinewidth": 0,
             "ticks": ""
            },
            "colorscale": [
             [
              0,
              "#0d0887"
             ],
             [
              0.1111111111111111,
              "#46039f"
             ],
             [
              0.2222222222222222,
              "#7201a8"
             ],
             [
              0.3333333333333333,
              "#9c179e"
             ],
             [
              0.4444444444444444,
              "#bd3786"
             ],
             [
              0.5555555555555556,
              "#d8576b"
             ],
             [
              0.6666666666666666,
              "#ed7953"
             ],
             [
              0.7777777777777778,
              "#fb9f3a"
             ],
             [
              0.8888888888888888,
              "#fdca26"
             ],
             [
              1,
              "#f0f921"
             ]
            ],
            "type": "heatmap"
           }
          ],
          "heatmapgl": [
           {
            "colorbar": {
             "outlinewidth": 0,
             "ticks": ""
            },
            "colorscale": [
             [
              0,
              "#0d0887"
             ],
             [
              0.1111111111111111,
              "#46039f"
             ],
             [
              0.2222222222222222,
              "#7201a8"
             ],
             [
              0.3333333333333333,
              "#9c179e"
             ],
             [
              0.4444444444444444,
              "#bd3786"
             ],
             [
              0.5555555555555556,
              "#d8576b"
             ],
             [
              0.6666666666666666,
              "#ed7953"
             ],
             [
              0.7777777777777778,
              "#fb9f3a"
             ],
             [
              0.8888888888888888,
              "#fdca26"
             ],
             [
              1,
              "#f0f921"
             ]
            ],
            "type": "heatmapgl"
           }
          ],
          "histogram": [
           {
            "marker": {
             "colorbar": {
              "outlinewidth": 0,
              "ticks": ""
             }
            },
            "type": "histogram"
           }
          ],
          "histogram2d": [
           {
            "colorbar": {
             "outlinewidth": 0,
             "ticks": ""
            },
            "colorscale": [
             [
              0,
              "#0d0887"
             ],
             [
              0.1111111111111111,
              "#46039f"
             ],
             [
              0.2222222222222222,
              "#7201a8"
             ],
             [
              0.3333333333333333,
              "#9c179e"
             ],
             [
              0.4444444444444444,
              "#bd3786"
             ],
             [
              0.5555555555555556,
              "#d8576b"
             ],
             [
              0.6666666666666666,
              "#ed7953"
             ],
             [
              0.7777777777777778,
              "#fb9f3a"
             ],
             [
              0.8888888888888888,
              "#fdca26"
             ],
             [
              1,
              "#f0f921"
             ]
            ],
            "type": "histogram2d"
           }
          ],
          "histogram2dcontour": [
           {
            "colorbar": {
             "outlinewidth": 0,
             "ticks": ""
            },
            "colorscale": [
             [
              0,
              "#0d0887"
             ],
             [
              0.1111111111111111,
              "#46039f"
             ],
             [
              0.2222222222222222,
              "#7201a8"
             ],
             [
              0.3333333333333333,
              "#9c179e"
             ],
             [
              0.4444444444444444,
              "#bd3786"
             ],
             [
              0.5555555555555556,
              "#d8576b"
             ],
             [
              0.6666666666666666,
              "#ed7953"
             ],
             [
              0.7777777777777778,
              "#fb9f3a"
             ],
             [
              0.8888888888888888,
              "#fdca26"
             ],
             [
              1,
              "#f0f921"
             ]
            ],
            "type": "histogram2dcontour"
           }
          ],
          "mesh3d": [
           {
            "colorbar": {
             "outlinewidth": 0,
             "ticks": ""
            },
            "type": "mesh3d"
           }
          ],
          "parcoords": [
           {
            "line": {
             "colorbar": {
              "outlinewidth": 0,
              "ticks": ""
             }
            },
            "type": "parcoords"
           }
          ],
          "pie": [
           {
            "automargin": true,
            "type": "pie"
           }
          ],
          "scatter": [
           {
            "marker": {
             "colorbar": {
              "outlinewidth": 0,
              "ticks": ""
             }
            },
            "type": "scatter"
           }
          ],
          "scatter3d": [
           {
            "line": {
             "colorbar": {
              "outlinewidth": 0,
              "ticks": ""
             }
            },
            "marker": {
             "colorbar": {
              "outlinewidth": 0,
              "ticks": ""
             }
            },
            "type": "scatter3d"
           }
          ],
          "scattercarpet": [
           {
            "marker": {
             "colorbar": {
              "outlinewidth": 0,
              "ticks": ""
             }
            },
            "type": "scattercarpet"
           }
          ],
          "scattergeo": [
           {
            "marker": {
             "colorbar": {
              "outlinewidth": 0,
              "ticks": ""
             }
            },
            "type": "scattergeo"
           }
          ],
          "scattergl": [
           {
            "marker": {
             "colorbar": {
              "outlinewidth": 0,
              "ticks": ""
             }
            },
            "type": "scattergl"
           }
          ],
          "scattermapbox": [
           {
            "marker": {
             "colorbar": {
              "outlinewidth": 0,
              "ticks": ""
             }
            },
            "type": "scattermapbox"
           }
          ],
          "scatterpolar": [
           {
            "marker": {
             "colorbar": {
              "outlinewidth": 0,
              "ticks": ""
             }
            },
            "type": "scatterpolar"
           }
          ],
          "scatterpolargl": [
           {
            "marker": {
             "colorbar": {
              "outlinewidth": 0,
              "ticks": ""
             }
            },
            "type": "scatterpolargl"
           }
          ],
          "scatterternary": [
           {
            "marker": {
             "colorbar": {
              "outlinewidth": 0,
              "ticks": ""
             }
            },
            "type": "scatterternary"
           }
          ],
          "surface": [
           {
            "colorbar": {
             "outlinewidth": 0,
             "ticks": ""
            },
            "colorscale": [
             [
              0,
              "#0d0887"
             ],
             [
              0.1111111111111111,
              "#46039f"
             ],
             [
              0.2222222222222222,
              "#7201a8"
             ],
             [
              0.3333333333333333,
              "#9c179e"
             ],
             [
              0.4444444444444444,
              "#bd3786"
             ],
             [
              0.5555555555555556,
              "#d8576b"
             ],
             [
              0.6666666666666666,
              "#ed7953"
             ],
             [
              0.7777777777777778,
              "#fb9f3a"
             ],
             [
              0.8888888888888888,
              "#fdca26"
             ],
             [
              1,
              "#f0f921"
             ]
            ],
            "type": "surface"
           }
          ],
          "table": [
           {
            "cells": {
             "fill": {
              "color": "#EBF0F8"
             },
             "line": {
              "color": "white"
             }
            },
            "header": {
             "fill": {
              "color": "#C8D4E3"
             },
             "line": {
              "color": "white"
             }
            },
            "type": "table"
           }
          ]
         },
         "layout": {
          "annotationdefaults": {
           "arrowcolor": "#2a3f5f",
           "arrowhead": 0,
           "arrowwidth": 1
          },
          "coloraxis": {
           "colorbar": {
            "outlinewidth": 0,
            "ticks": ""
           }
          },
          "colorscale": {
           "diverging": [
            [
             0,
             "#8e0152"
            ],
            [
             0.1,
             "#c51b7d"
            ],
            [
             0.2,
             "#de77ae"
            ],
            [
             0.3,
             "#f1b6da"
            ],
            [
             0.4,
             "#fde0ef"
            ],
            [
             0.5,
             "#f7f7f7"
            ],
            [
             0.6,
             "#e6f5d0"
            ],
            [
             0.7,
             "#b8e186"
            ],
            [
             0.8,
             "#7fbc41"
            ],
            [
             0.9,
             "#4d9221"
            ],
            [
             1,
             "#276419"
            ]
           ],
           "sequential": [
            [
             0,
             "#0d0887"
            ],
            [
             0.1111111111111111,
             "#46039f"
            ],
            [
             0.2222222222222222,
             "#7201a8"
            ],
            [
             0.3333333333333333,
             "#9c179e"
            ],
            [
             0.4444444444444444,
             "#bd3786"
            ],
            [
             0.5555555555555556,
             "#d8576b"
            ],
            [
             0.6666666666666666,
             "#ed7953"
            ],
            [
             0.7777777777777778,
             "#fb9f3a"
            ],
            [
             0.8888888888888888,
             "#fdca26"
            ],
            [
             1,
             "#f0f921"
            ]
           ],
           "sequentialminus": [
            [
             0,
             "#0d0887"
            ],
            [
             0.1111111111111111,
             "#46039f"
            ],
            [
             0.2222222222222222,
             "#7201a8"
            ],
            [
             0.3333333333333333,
             "#9c179e"
            ],
            [
             0.4444444444444444,
             "#bd3786"
            ],
            [
             0.5555555555555556,
             "#d8576b"
            ],
            [
             0.6666666666666666,
             "#ed7953"
            ],
            [
             0.7777777777777778,
             "#fb9f3a"
            ],
            [
             0.8888888888888888,
             "#fdca26"
            ],
            [
             1,
             "#f0f921"
            ]
           ]
          },
          "colorway": [
           "#636efa",
           "#EF553B",
           "#00cc96",
           "#ab63fa",
           "#FFA15A",
           "#19d3f3",
           "#FF6692",
           "#B6E880",
           "#FF97FF",
           "#FECB52"
          ],
          "font": {
           "color": "#2a3f5f"
          },
          "geo": {
           "bgcolor": "white",
           "lakecolor": "white",
           "landcolor": "#E5ECF6",
           "showlakes": true,
           "showland": true,
           "subunitcolor": "white"
          },
          "hoverlabel": {
           "align": "left"
          },
          "hovermode": "closest",
          "mapbox": {
           "style": "light"
          },
          "paper_bgcolor": "white",
          "plot_bgcolor": "#E5ECF6",
          "polar": {
           "angularaxis": {
            "gridcolor": "white",
            "linecolor": "white",
            "ticks": ""
           },
           "bgcolor": "#E5ECF6",
           "radialaxis": {
            "gridcolor": "white",
            "linecolor": "white",
            "ticks": ""
           }
          },
          "scene": {
           "xaxis": {
            "backgroundcolor": "#E5ECF6",
            "gridcolor": "white",
            "gridwidth": 2,
            "linecolor": "white",
            "showbackground": true,
            "ticks": "",
            "zerolinecolor": "white"
           },
           "yaxis": {
            "backgroundcolor": "#E5ECF6",
            "gridcolor": "white",
            "gridwidth": 2,
            "linecolor": "white",
            "showbackground": true,
            "ticks": "",
            "zerolinecolor": "white"
           },
           "zaxis": {
            "backgroundcolor": "#E5ECF6",
            "gridcolor": "white",
            "gridwidth": 2,
            "linecolor": "white",
            "showbackground": true,
            "ticks": "",
            "zerolinecolor": "white"
           }
          },
          "shapedefaults": {
           "line": {
            "color": "#2a3f5f"
           }
          },
          "ternary": {
           "aaxis": {
            "gridcolor": "white",
            "linecolor": "white",
            "ticks": ""
           },
           "baxis": {
            "gridcolor": "white",
            "linecolor": "white",
            "ticks": ""
           },
           "bgcolor": "#E5ECF6",
           "caxis": {
            "gridcolor": "white",
            "linecolor": "white",
            "ticks": ""
           }
          },
          "title": {
           "x": 0.05
          },
          "xaxis": {
           "automargin": true,
           "gridcolor": "white",
           "linecolor": "white",
           "ticks": "",
           "title": {
            "standoff": 15
           },
           "zerolinecolor": "white",
           "zerolinewidth": 2
          },
          "yaxis": {
           "automargin": true,
           "gridcolor": "white",
           "linecolor": "white",
           "ticks": "",
           "title": {
            "standoff": 15
           },
           "zerolinecolor": "white",
           "zerolinewidth": 2
          }
         }
        },
        "title": {
         "text": "2D Cluster PCA Plot"
        },
        "xaxis": {
         "anchor": "y",
         "domain": [
          0,
          1
         ],
         "title": {
          "text": "PCA1"
         }
        },
        "yaxis": {
         "anchor": "x",
         "domain": [
          0,
          1
         ],
         "title": {
          "text": "PCA2"
         }
        }
       }
      },
      "text/html": [
       "<div>                            <div id=\"0bccfe98-9566-4170-98eb-b5b7f768f946\" class=\"plotly-graph-div\" style=\"height:600px; width:100%;\"></div>            <script type=\"text/javascript\">                require([\"plotly\"], function(Plotly) {                    window.PLOTLYENV=window.PLOTLYENV || {};                                    if (document.getElementById(\"0bccfe98-9566-4170-98eb-b5b7f768f946\")) {                    Plotly.newPlot(                        \"0bccfe98-9566-4170-98eb-b5b7f768f946\",                        [{\"customdata\": [[5.2], [5.8], [5.5], [5.5], [5.6], [5.4], [5.8], [5.5], [5.5], [5.0], [5.7], [5.6], [5.8], [5.6], [6.0], [5.9], [5.0], [4.9], [5.5], [6.1], [5.6], [5.7], [5.7], [5.7], [5.7], [4.9], [5.1]], \"hovertemplate\": \"Cluster=Cluster 0<br>PCA1=%{x}<br>PCA2=%{y}<br>Feature=%{customdata[0]}<extra></extra>\", \"legendgroup\": \"Cluster 0\", \"marker\": {\"color\": \"#636efa\", \"opacity\": 0.5, \"symbol\": \"circle\"}, \"mode\": \"markers\", \"name\": \"Cluster 0\", \"orientation\": \"v\", \"showlegend\": true, \"textposition\": \"top center\", \"type\": \"scatter\", \"x\": [-0.010190070727852822, 0.2288790499696479, 0.4630309888714247, 0.16451342836925617, 0.2451951616903462, 0.5872748535799112, 0.13499495045137355, -0.19188449210314515, -0.07034288894927106, -0.7070812839208597, -0.30733475566340396, 0.04324640032870497, 0.23454058625983584, -0.1748640019656959, 0.2623357561531805, 0.5110980606834775, -0.5110861958950897, -0.7514671406482263, 0.1809672063476993, 0.3567865678304614, 0.35553303918706386, 0.6404367495231457, 0.375238228946766, 0.33112694733272313, 0.2978079074069342, 0.5193832450849368, -0.9084633331234948], \"xaxis\": \"x\", \"y\": [-0.7205748667019015, -0.4022576201789113, -0.6695265465361225, -0.6796614693108137, -0.266728035661848, -0.4832842677174825, -0.3117096427033962, -0.6774905443743572, -0.7025379317307259, -1.0084247617784612, -0.36508661276616033, -0.5814894466123587, -0.33192182936212034, -0.25181557108017066, -0.5478932980253367, -0.1022841050459702, -1.2624919538621404, -1.0011075129743943, -0.8256039435761133, -0.06682382794136613, -0.5032184874026623, -0.41732348297002575, -0.2916220248087798, -0.21118014066262672, -0.34701652159856394, -1.1913516890506533, -0.7515687251694855], \"yaxis\": \"y\"}, {\"customdata\": [[6.4], [7.7], [6.9], [6.8], [6.5], [6.9], [7.2], [6.7], [6.9], [6.7], [7.3], [6.4], [7.7], [7.7], [6.2], [6.4], [7.9], [7.6], [6.5], [6.3], [7.1], [7.4], [6.7], [7.2], [6.8], [6.3], [7.2], [6.3], [6.4], [7.7], [6.7], [6.7]], \"hovertemplate\": \"Cluster=Cluster 1<br>PCA1=%{x}<br>PCA2=%{y}<br>Feature=%{customdata[0]}<extra></extra>\", \"legendgroup\": \"Cluster 1\", \"marker\": {\"color\": \"#EF553B\", \"opacity\": 0.5, \"symbol\": \"circle\"}, \"mode\": \"markers\", \"name\": \"Cluster 1\", \"orientation\": \"v\", \"showlegend\": true, \"textposition\": \"top center\", \"type\": \"scatter\", \"x\": [1.9047435782139124, 3.488765379656386, 2.4281672590208476, 2.165378862953397, 1.949248781864498, 1.9224508848357522, 2.9181342336442513, 2.314303394629548, 2.107653731173268, 2.319672793874053, 2.932005096991301, 1.9048629251371318, 3.4992654842989572, 3.076521621020662, 1.901629075288233, 2.158738373133135, 3.232342898295874, 3.3968799206781375, 2.349757983950943, 1.970814945906482, 2.6164846082840434, 2.840960925285384, 2.2758536493056933, 2.3875644023690277, 2.563322712340809, 2.5317269804395583, 2.6141938306983334, 2.144986856709304, 2.1228539805083133, 3.79468686120997, 1.9440170488777369, 2.41939121980498], \"xaxis\": \"x\", \"y\": [0.11881899098269857, 1.1715445442635644, 0.3767819712541526, 0.21528028337300723, 0.040730259427767854, 0.4092711761786957, 0.7803806293720322, 0.1826088507936986, 0.3714822491771058, -0.2455481706069101, 0.3523770061808598, 0.048047508231834596, 0.4567734669640746, 0.6857644422460568, 0.11587674824796555, -0.21832553156299322, 1.3705240359763338, 0.5471680462301528, -0.04188254965484184, -0.18112569470491371, 0.3419352869872948, 0.37274259104902147, 0.3333865257566422, 0.46251925072626066, 0.27597450223983816, -0.011842236640300523, 0.5583669502788224, 0.13890660887731443, -0.2108548845494899, 0.25326557097253466, 0.18741522204601396, 0.30350393770262885], \"yaxis\": \"y\"}, {\"customdata\": [[5.0], [5.0], [4.8], [5.1], [4.6], [5.1], [5.4], [5.1], [5.7], [5.1], [5.4], [5.7], [5.8], [4.8], [4.8], [5.4], [4.9], [4.4], [5.0], [4.6], [5.4], [5.0], [4.6], [4.7], [4.9], [4.3], [5.2], [5.1], [4.7], [5.0], [5.3], [4.6], [5.1], [4.8], [5.1], [5.0], [4.4], [5.2], [5.0], [5.1], [4.5], [4.9], [4.8], [5.4], [4.4], [5.5], [4.9], [5.2], [5.5], [5.0]], \"hovertemplate\": \"Cluster=Cluster 2<br>PCA1=%{x}<br>PCA2=%{y}<br>Feature=%{customdata[0]}<extra></extra>\", \"legendgroup\": \"Cluster 2\", \"marker\": {\"color\": \"#00cc96\", \"opacity\": 0.5, \"symbol\": \"circle\"}, \"mode\": \"markers\", \"name\": \"Cluster 2\", \"orientation\": \"v\", \"showlegend\": true, \"textposition\": \"top center\", \"type\": \"scatter\", \"x\": [-2.4690559975451225, -2.5079172268378804, -2.3561710866838976, -2.3031285376638824, -3.215857694900105, -2.5432349073036953, -2.3105317013131335, -2.587346188917738, -2.1990779614307634, -2.6483227324791265, -2.6225262031258083, -2.3838693237993756, -2.643543216941146, -2.787433975997097, -2.613142718271056, -2.5065267893389036, -2.6738446867191206, -2.887958565335634, -2.6264819933238184, -2.8208906821806297, -2.279897361009598, -2.7285929818313144, -2.746437197308734, -2.889819539617916, -2.71539061563413, -3.22520044627498, -2.5623909468367505, -2.6842071251039483, -2.632847908030758, -2.70391231486365, -2.5426857570770482, -2.8403212968270086, -2.537573371013507, -2.715665190747454, -2.2088329541767058, -2.4055141012847012, -2.9982964428323506, -2.6398212683765814, -2.770138910746324, -2.590323025585674, -2.8522110815663906, -2.6738446867191206, -2.588462051303391, -2.4100773371215958, -2.981842664853908, -2.5971594770759183, -2.6738446867191206, -2.647636673396901, -2.625228464680421, -2.866999846932534], \"xaxis\": \"x\", \"y\": [0.1378873145904177, -0.139056339913174, -0.03120958906833842, 0.10552267842998224, 0.14161557162558355, 0.44003175465981526, 0.397867821588892, 0.520473638805968, 0.8792440880917367, 0.3191366677508846, 0.8180896745965952, 1.3447543445598622, 1.1861948994134495, -0.22774018887110628, 0.021520631960257896, 0.651935013672572, -0.10669170375273856, -0.5707980263315918, 0.17040534896028983, -0.082104511024681, 0.7477827132251336, 0.33392456356845474, -0.31112431575199184, -0.13734560960502795, -0.16955684755602624, -0.5032799094854259, 0.3746845627501061, 0.3266073147643885, -0.19007583063362415, 0.11501085217050566, 0.5862810253439884, -0.2205763382764767, 0.5103675454766059, -0.24268148289811298, 0.4426960304210028, 0.19591725769606078, -0.3343075745907773, 0.3192900659603219, 0.2710594197651671, 0.23605933728887282, -0.9328653674695444, -0.10669170375273856, -0.19739307943769085, 0.41808000824761615, -0.4802500488560767, 1.1000219280072685, -0.10669170375273856, 0.8199826325595069, 0.6068000084215864, 0.07719309572358721], \"yaxis\": \"y\"}, {\"customdata\": [[6.0], [6.2], [6.3], [6.3], [6.1], [5.6], [6.5], [6.3], [5.8], [6.1], [6.4], [5.8], [7.0], [6.4], [6.9], [6.5], [6.3], [6.6], [6.1], [6.7], [5.6], [6.2], [5.9], [6.3], [6.1], [6.6], [6.8], [6.7], [6.0], [6.0], [6.0], [6.7], [6.3], [6.1], [6.2], [5.8], [6.5], [6.4], [5.7], [6.0], [5.9]], \"hovertemplate\": \"Cluster=Cluster 3<br>PCA1=%{x}<br>PCA2=%{y}<br>Feature=%{customdata[0]}<extra></extra>\", \"legendgroup\": \"Cluster 3\", \"marker\": {\"color\": \"#ab63fa\", \"opacity\": 0.5, \"symbol\": \"circle\"}, \"mode\": \"markers\", \"name\": \"Cluster 3\", \"orientation\": \"v\", \"showlegend\": true, \"textposition\": \"top center\", \"type\": \"scatter\", \"x\": [1.1688534694704038, 1.2576251829251366, 1.3876682501815556, 1.4431026043759747, 1.7796401068985703, 1.1980973722749628, 1.764045935526983, 1.5256636313138727, 1.4140722251737576, 1.2906696477376016, 0.7140082136428333, 1.585267299308644, 1.284794587845071, 0.9324107529829175, 1.4640613227790753, 1.0871344872070012, 1.095223709938478, 1.0432977807062809, 0.984044545169431, 0.9275729420326997, 0.6595927890562004, 0.9423617073988423, 1.1162407237538159, 1.2964688502855342, 0.9205026489090096, 0.8996408632837759, 1.33104141885472, 1.557396272070702, 0.812455548998002, 1.378736982775583, 0.8072054966767166, 1.2204289662446792, 0.81286779036907, 0.8901604456511564, 0.6416902781665432, 1.4140722251737576, 1.6619349470194866, 1.8023404526607334, 1.3445942175098249, 1.2983298245678165, 1.3896661333194171], \"xaxis\": \"x\", \"y\": [-0.16450249981508994, -0.17913699742322278, -0.20403098657015473, -0.14380128908272616, -0.5014647947060157, -0.6055789617645945, 0.07851918642935747, -0.3750208481918228, -0.5749250559123048, -0.11642525182937251, 0.15037915314843728, -0.539307053847172, 0.6854391861329202, 0.3191980898336488, 0.5041898329724531, 0.0753903892887675, 0.28389121093848035, 0.22895690877700686, -0.12436042022227789, 0.46823620504311714, -0.3519762910603165, -0.541822258150014, -0.08421401387837349, -0.3275615197949442, -0.18239036332792097, 0.32961097958188407, 0.24466952060228936, 0.26739258481276484, -0.16233157487863326, -0.4212051382146283, 0.19505396377111148, 0.4080353370010176, -0.37067899831890966, -0.03381244274676266, 0.019071176491270835, -0.5749250559123048, 0.2420384010375224, -0.21615460662653627, -0.7764154251768252, -0.7610139365215078, -0.28288670917226916], \"yaxis\": \"y\"}],                        {\"height\": 600, \"legend\": {\"title\": {\"text\": \"Cluster\"}, \"tracegroupgap\": 0}, \"margin\": {\"t\": 60}, \"plot_bgcolor\": \"rgb(240,240,240)\", \"template\": {\"data\": {\"bar\": [{\"error_x\": {\"color\": \"#2a3f5f\"}, \"error_y\": {\"color\": \"#2a3f5f\"}, \"marker\": {\"line\": {\"color\": \"#E5ECF6\", \"width\": 0.5}}, \"type\": \"bar\"}], \"barpolar\": [{\"marker\": {\"line\": {\"color\": \"#E5ECF6\", \"width\": 0.5}}, \"type\": \"barpolar\"}], \"carpet\": [{\"aaxis\": {\"endlinecolor\": \"#2a3f5f\", \"gridcolor\": \"white\", \"linecolor\": \"white\", \"minorgridcolor\": \"white\", \"startlinecolor\": \"#2a3f5f\"}, \"baxis\": {\"endlinecolor\": \"#2a3f5f\", \"gridcolor\": \"white\", \"linecolor\": \"white\", \"minorgridcolor\": \"white\", \"startlinecolor\": \"#2a3f5f\"}, \"type\": \"carpet\"}], \"choropleth\": [{\"colorbar\": {\"outlinewidth\": 0, \"ticks\": \"\"}, \"type\": \"choropleth\"}], \"contour\": [{\"colorbar\": {\"outlinewidth\": 0, \"ticks\": \"\"}, \"colorscale\": [[0.0, \"#0d0887\"], [0.1111111111111111, \"#46039f\"], [0.2222222222222222, \"#7201a8\"], [0.3333333333333333, \"#9c179e\"], [0.4444444444444444, \"#bd3786\"], [0.5555555555555556, \"#d8576b\"], [0.6666666666666666, \"#ed7953\"], [0.7777777777777778, \"#fb9f3a\"], [0.8888888888888888, \"#fdca26\"], [1.0, \"#f0f921\"]], \"type\": \"contour\"}], \"contourcarpet\": [{\"colorbar\": {\"outlinewidth\": 0, \"ticks\": \"\"}, \"type\": \"contourcarpet\"}], \"heatmap\": [{\"colorbar\": {\"outlinewidth\": 0, \"ticks\": \"\"}, \"colorscale\": [[0.0, \"#0d0887\"], [0.1111111111111111, \"#46039f\"], [0.2222222222222222, \"#7201a8\"], [0.3333333333333333, \"#9c179e\"], [0.4444444444444444, \"#bd3786\"], [0.5555555555555556, \"#d8576b\"], [0.6666666666666666, \"#ed7953\"], [0.7777777777777778, \"#fb9f3a\"], [0.8888888888888888, \"#fdca26\"], [1.0, \"#f0f921\"]], \"type\": \"heatmap\"}], \"heatmapgl\": [{\"colorbar\": {\"outlinewidth\": 0, \"ticks\": \"\"}, \"colorscale\": [[0.0, \"#0d0887\"], [0.1111111111111111, \"#46039f\"], [0.2222222222222222, \"#7201a8\"], [0.3333333333333333, \"#9c179e\"], [0.4444444444444444, \"#bd3786\"], [0.5555555555555556, \"#d8576b\"], [0.6666666666666666, \"#ed7953\"], [0.7777777777777778, \"#fb9f3a\"], [0.8888888888888888, \"#fdca26\"], [1.0, \"#f0f921\"]], \"type\": \"heatmapgl\"}], \"histogram\": [{\"marker\": {\"colorbar\": {\"outlinewidth\": 0, \"ticks\": \"\"}}, \"type\": \"histogram\"}], \"histogram2d\": [{\"colorbar\": {\"outlinewidth\": 0, \"ticks\": \"\"}, \"colorscale\": [[0.0, \"#0d0887\"], [0.1111111111111111, \"#46039f\"], [0.2222222222222222, \"#7201a8\"], [0.3333333333333333, \"#9c179e\"], [0.4444444444444444, \"#bd3786\"], [0.5555555555555556, \"#d8576b\"], [0.6666666666666666, \"#ed7953\"], [0.7777777777777778, \"#fb9f3a\"], [0.8888888888888888, \"#fdca26\"], [1.0, \"#f0f921\"]], \"type\": \"histogram2d\"}], \"histogram2dcontour\": [{\"colorbar\": {\"outlinewidth\": 0, \"ticks\": \"\"}, \"colorscale\": [[0.0, \"#0d0887\"], [0.1111111111111111, \"#46039f\"], [0.2222222222222222, \"#7201a8\"], [0.3333333333333333, \"#9c179e\"], [0.4444444444444444, \"#bd3786\"], [0.5555555555555556, \"#d8576b\"], [0.6666666666666666, \"#ed7953\"], [0.7777777777777778, \"#fb9f3a\"], [0.8888888888888888, \"#fdca26\"], [1.0, \"#f0f921\"]], \"type\": \"histogram2dcontour\"}], \"mesh3d\": [{\"colorbar\": {\"outlinewidth\": 0, \"ticks\": \"\"}, \"type\": \"mesh3d\"}], \"parcoords\": [{\"line\": {\"colorbar\": {\"outlinewidth\": 0, \"ticks\": \"\"}}, \"type\": \"parcoords\"}], \"pie\": [{\"automargin\": true, \"type\": \"pie\"}], \"scatter\": [{\"marker\": {\"colorbar\": {\"outlinewidth\": 0, \"ticks\": \"\"}}, \"type\": \"scatter\"}], \"scatter3d\": [{\"line\": {\"colorbar\": {\"outlinewidth\": 0, \"ticks\": \"\"}}, \"marker\": {\"colorbar\": {\"outlinewidth\": 0, \"ticks\": \"\"}}, \"type\": \"scatter3d\"}], \"scattercarpet\": [{\"marker\": {\"colorbar\": {\"outlinewidth\": 0, \"ticks\": \"\"}}, \"type\": \"scattercarpet\"}], \"scattergeo\": [{\"marker\": {\"colorbar\": {\"outlinewidth\": 0, \"ticks\": \"\"}}, \"type\": \"scattergeo\"}], \"scattergl\": [{\"marker\": {\"colorbar\": {\"outlinewidth\": 0, \"ticks\": \"\"}}, \"type\": \"scattergl\"}], \"scattermapbox\": [{\"marker\": {\"colorbar\": {\"outlinewidth\": 0, \"ticks\": \"\"}}, \"type\": \"scattermapbox\"}], \"scatterpolar\": [{\"marker\": {\"colorbar\": {\"outlinewidth\": 0, \"ticks\": \"\"}}, \"type\": \"scatterpolar\"}], \"scatterpolargl\": [{\"marker\": {\"colorbar\": {\"outlinewidth\": 0, \"ticks\": \"\"}}, \"type\": \"scatterpolargl\"}], \"scatterternary\": [{\"marker\": {\"colorbar\": {\"outlinewidth\": 0, \"ticks\": \"\"}}, \"type\": \"scatterternary\"}], \"surface\": [{\"colorbar\": {\"outlinewidth\": 0, \"ticks\": \"\"}, \"colorscale\": [[0.0, \"#0d0887\"], [0.1111111111111111, \"#46039f\"], [0.2222222222222222, \"#7201a8\"], [0.3333333333333333, \"#9c179e\"], [0.4444444444444444, \"#bd3786\"], [0.5555555555555556, \"#d8576b\"], [0.6666666666666666, \"#ed7953\"], [0.7777777777777778, \"#fb9f3a\"], [0.8888888888888888, \"#fdca26\"], [1.0, \"#f0f921\"]], \"type\": \"surface\"}], \"table\": [{\"cells\": {\"fill\": {\"color\": \"#EBF0F8\"}, \"line\": {\"color\": \"white\"}}, \"header\": {\"fill\": {\"color\": \"#C8D4E3\"}, \"line\": {\"color\": \"white\"}}, \"type\": \"table\"}]}, \"layout\": {\"annotationdefaults\": {\"arrowcolor\": \"#2a3f5f\", \"arrowhead\": 0, \"arrowwidth\": 1}, \"coloraxis\": {\"colorbar\": {\"outlinewidth\": 0, \"ticks\": \"\"}}, \"colorscale\": {\"diverging\": [[0, \"#8e0152\"], [0.1, \"#c51b7d\"], [0.2, \"#de77ae\"], [0.3, \"#f1b6da\"], [0.4, \"#fde0ef\"], [0.5, \"#f7f7f7\"], [0.6, \"#e6f5d0\"], [0.7, \"#b8e186\"], [0.8, \"#7fbc41\"], [0.9, \"#4d9221\"], [1, \"#276419\"]], \"sequential\": [[0.0, \"#0d0887\"], [0.1111111111111111, \"#46039f\"], [0.2222222222222222, \"#7201a8\"], [0.3333333333333333, \"#9c179e\"], [0.4444444444444444, \"#bd3786\"], [0.5555555555555556, \"#d8576b\"], [0.6666666666666666, \"#ed7953\"], [0.7777777777777778, \"#fb9f3a\"], [0.8888888888888888, \"#fdca26\"], [1.0, \"#f0f921\"]], \"sequentialminus\": [[0.0, \"#0d0887\"], [0.1111111111111111, \"#46039f\"], [0.2222222222222222, \"#7201a8\"], [0.3333333333333333, \"#9c179e\"], [0.4444444444444444, \"#bd3786\"], [0.5555555555555556, \"#d8576b\"], [0.6666666666666666, \"#ed7953\"], [0.7777777777777778, \"#fb9f3a\"], [0.8888888888888888, \"#fdca26\"], [1.0, \"#f0f921\"]]}, \"colorway\": [\"#636efa\", \"#EF553B\", \"#00cc96\", \"#ab63fa\", \"#FFA15A\", \"#19d3f3\", \"#FF6692\", \"#B6E880\", \"#FF97FF\", \"#FECB52\"], \"font\": {\"color\": \"#2a3f5f\"}, \"geo\": {\"bgcolor\": \"white\", \"lakecolor\": \"white\", \"landcolor\": \"#E5ECF6\", \"showlakes\": true, \"showland\": true, \"subunitcolor\": \"white\"}, \"hoverlabel\": {\"align\": \"left\"}, \"hovermode\": \"closest\", \"mapbox\": {\"style\": \"light\"}, \"paper_bgcolor\": \"white\", \"plot_bgcolor\": \"#E5ECF6\", \"polar\": {\"angularaxis\": {\"gridcolor\": \"white\", \"linecolor\": \"white\", \"ticks\": \"\"}, \"bgcolor\": \"#E5ECF6\", \"radialaxis\": {\"gridcolor\": \"white\", \"linecolor\": \"white\", \"ticks\": \"\"}}, \"scene\": {\"xaxis\": {\"backgroundcolor\": \"#E5ECF6\", \"gridcolor\": \"white\", \"gridwidth\": 2, \"linecolor\": \"white\", \"showbackground\": true, \"ticks\": \"\", \"zerolinecolor\": \"white\"}, \"yaxis\": {\"backgroundcolor\": \"#E5ECF6\", \"gridcolor\": \"white\", \"gridwidth\": 2, \"linecolor\": \"white\", \"showbackground\": true, \"ticks\": \"\", \"zerolinecolor\": \"white\"}, \"zaxis\": {\"backgroundcolor\": \"#E5ECF6\", \"gridcolor\": \"white\", \"gridwidth\": 2, \"linecolor\": \"white\", \"showbackground\": true, \"ticks\": \"\", \"zerolinecolor\": \"white\"}}, \"shapedefaults\": {\"line\": {\"color\": \"#2a3f5f\"}}, \"ternary\": {\"aaxis\": {\"gridcolor\": \"white\", \"linecolor\": \"white\", \"ticks\": \"\"}, \"baxis\": {\"gridcolor\": \"white\", \"linecolor\": \"white\", \"ticks\": \"\"}, \"bgcolor\": \"#E5ECF6\", \"caxis\": {\"gridcolor\": \"white\", \"linecolor\": \"white\", \"ticks\": \"\"}}, \"title\": {\"x\": 0.05}, \"xaxis\": {\"automargin\": true, \"gridcolor\": \"white\", \"linecolor\": \"white\", \"ticks\": \"\", \"title\": {\"standoff\": 15}, \"zerolinecolor\": \"white\", \"zerolinewidth\": 2}, \"yaxis\": {\"automargin\": true, \"gridcolor\": \"white\", \"linecolor\": \"white\", \"ticks\": \"\", \"title\": {\"standoff\": 15}, \"zerolinecolor\": \"white\", \"zerolinewidth\": 2}}}, \"title\": {\"text\": \"2D Cluster PCA Plot\"}, \"xaxis\": {\"anchor\": \"y\", \"domain\": [0.0, 1.0], \"title\": {\"text\": \"PCA1\"}}, \"yaxis\": {\"anchor\": \"x\", \"domain\": [0.0, 1.0], \"title\": {\"text\": \"PCA2\"}}},                        {\"responsive\": true}                    ).then(function(){\n",
       "                            \n",
       "var gd = document.getElementById('0bccfe98-9566-4170-98eb-b5b7f768f946');\n",
       "var x = new MutationObserver(function (mutations, observer) {{\n",
       "        var display = window.getComputedStyle(gd).display;\n",
       "        if (!display || display === 'none') {{\n",
       "            console.log([gd, 'removed!']);\n",
       "            Plotly.purge(gd);\n",
       "            observer.disconnect();\n",
       "        }}\n",
       "}});\n",
       "\n",
       "// Listen for the removal of the full notebook cells\n",
       "var notebookContainer = gd.closest('#notebook-container');\n",
       "if (notebookContainer) {{\n",
       "    x.observe(notebookContainer, {childList: true});\n",
       "}}\n",
       "\n",
       "// Listen for the clearing of the current output cell\n",
       "var outputEl = gd.closest('.output');\n",
       "if (outputEl) {{\n",
       "    x.observe(outputEl, {childList: true});\n",
       "}}\n",
       "\n",
       "                        })                };                });            </script>        </div>"
      ]
     },
     "metadata": {},
     "output_type": "display_data"
    },
    {
     "name": "stderr",
     "output_type": "stream",
     "text": [
      "INFO:logs:Visual Rendered Successfully\n",
      "INFO:logs:plot_model() succesfully completed......................................\n"
     ]
    }
   ],
   "source": [
    "# plot a model\n",
    "plot_model(kmeans) "
   ]
  },
  {
   "cell_type": "markdown",
   "metadata": {},
   "source": [
    "## Hierarchical Clustering"
   ]
  },
  {
   "cell_type": "code",
   "execution_count": 46,
   "metadata": {},
   "outputs": [
    {
     "data": {
      "text/html": [
       "<div>\n",
       "<style scoped>\n",
       "    .dataframe tbody tr th:only-of-type {\n",
       "        vertical-align: middle;\n",
       "    }\n",
       "\n",
       "    .dataframe tbody tr th {\n",
       "        vertical-align: top;\n",
       "    }\n",
       "\n",
       "    .dataframe thead th {\n",
       "        text-align: right;\n",
       "    }\n",
       "</style>\n",
       "<table border=\"1\" class=\"dataframe\">\n",
       "  <thead>\n",
       "    <tr style=\"text-align: right;\">\n",
       "      <th></th>\n",
       "      <th>Metric</th>\n",
       "    </tr>\n",
       "  </thead>\n",
       "  <tbody>\n",
       "    <tr>\n",
       "      <th>Silhouette</th>\n",
       "      <td>0.4887</td>\n",
       "    </tr>\n",
       "    <tr>\n",
       "      <th>Calinski-Harabasz</th>\n",
       "      <td>513.7722</td>\n",
       "    </tr>\n",
       "    <tr>\n",
       "      <th>Davies-Bouldin</th>\n",
       "      <td>0.7956</td>\n",
       "    </tr>\n",
       "  </tbody>\n",
       "</table>\n",
       "</div>"
      ],
      "text/plain": [
       "                     Metric\n",
       "Silhouette           0.4887\n",
       "Calinski-Harabasz  513.7722\n",
       "Davies-Bouldin       0.7956"
      ]
     },
     "metadata": {},
     "output_type": "display_data"
    },
    {
     "name": "stderr",
     "output_type": "stream",
     "text": [
      "INFO:logs:AgglomerativeClustering(affinity='euclidean', compute_full_tree='auto',\n",
      "                        connectivity=None, distance_threshold=None,\n",
      "                        linkage='ward', memory=None, n_clusters=4)\n",
      "INFO:logs:create_models() succesfully completed......................................\n"
     ]
    }
   ],
   "source": [
    "h_clust = create_model('hclust')"
   ]
  },
  {
   "cell_type": "code",
   "execution_count": 47,
   "metadata": {},
   "outputs": [
    {
     "name": "stderr",
     "output_type": "stream",
     "text": [
      "INFO:logs:(150, 5)\n",
      "INFO:logs:assign_model() succesfully completed......................................\n"
     ]
    }
   ],
   "source": [
    "# assign labels using trained model\n",
    "hclust_df = assign_model(h_clust)"
   ]
  },
  {
   "cell_type": "code",
   "execution_count": 48,
   "metadata": {},
   "outputs": [
    {
     "name": "stderr",
     "output_type": "stream",
     "text": [
      "INFO:logs:Initializing plot_model()\n",
      "INFO:logs:plot_model(model=AgglomerativeClustering(affinity='euclidean', compute_full_tree='auto',\n",
      "                        connectivity=None, distance_threshold=None,\n",
      "                        linkage='ward', memory=None, n_clusters=4), plot=cluster, feature=None, label=False, save=False, system=True)\n",
      "INFO:logs:Checking exceptions\n",
      "INFO:logs:Importing libraries\n"
     ]
    },
    {
     "data": {
      "text/html": [
       "        <script type=\"text/javascript\">\n",
       "        window.PlotlyConfig = {MathJaxConfig: 'local'};\n",
       "        if (window.MathJax) {MathJax.Hub.Config({SVG: {font: \"STIX-Web\"}});}\n",
       "        if (typeof require !== 'undefined') {\n",
       "        require.undef(\"plotly\");\n",
       "        requirejs.config({\n",
       "            paths: {\n",
       "                'plotly': ['https://cdn.plot.ly/plotly-latest.min']\n",
       "            }\n",
       "        });\n",
       "        require(['plotly'], function(Plotly) {\n",
       "            window._Plotly = Plotly;\n",
       "        });\n",
       "        }\n",
       "        </script>\n",
       "        "
      ]
     },
     "metadata": {},
     "output_type": "display_data"
    },
    {
     "name": "stderr",
     "output_type": "stream",
     "text": [
      "INFO:logs:plot type: cluster\n",
      "INFO:logs:SubProcess assign_model() called ==================================\n",
      "INFO:logs:Initializing assign_model()\n",
      "INFO:logs:assign_model(model=AgglomerativeClustering(affinity='euclidean', compute_full_tree='auto',\n",
      "                        connectivity=None, distance_threshold=None,\n",
      "                        linkage='ward', memory=None, n_clusters=4), transformation=True, verbose=False)\n",
      "INFO:logs:Checking exceptions\n",
      "INFO:logs:Preloading libraries\n",
      "INFO:logs:Copying data\n",
      "INFO:logs:Transformation param set to True. Assigned clusters are attached on transformed dataset.\n",
      "INFO:logs:Preparing display monitor\n",
      "INFO:logs:Determining Trained Model\n",
      "INFO:logs:Trained Model : Agglomerative Clustering\n",
      "INFO:logs:(150, 5)\n",
      "INFO:logs:assign_model() succesfully completed......................................\n",
      "INFO:logs:SubProcess assign_model() end ==================================\n",
      "INFO:logs:Fitting PCA()\n",
      "INFO:logs:Sorting dataframe\n",
      "INFO:logs:Rendering Visual\n"
     ]
    },
    {
     "data": {
      "application/vnd.plotly.v1+json": {
       "config": {
        "plotlyServerURL": "https://plot.ly"
       },
       "data": [
        {
         "customdata": [
          [
           6.3
          ],
          [
           6.4
          ],
          [
           7.2
          ],
          [
           7.4
          ],
          [
           7.9
          ],
          [
           6.4
          ],
          [
           7.7
          ],
          [
           6.3
          ],
          [
           6.4
          ],
          [
           6.9
          ],
          [
           6.7
          ],
          [
           6.9
          ],
          [
           6.8
          ],
          [
           6.7
          ],
          [
           6.7
          ],
          [
           6.5
          ],
          [
           6.7
          ],
          [
           6.2
          ],
          [
           7.2
          ],
          [
           6.7
          ],
          [
           7.1
          ],
          [
           6.3
          ],
          [
           6.5
          ],
          [
           7.6
          ],
          [
           7.3
          ],
          [
           7.7
          ],
          [
           7.2
          ],
          [
           6.5
          ],
          [
           6.7
          ],
          [
           6.8
          ],
          [
           6.4
          ],
          [
           6.5
          ],
          [
           7.7
          ],
          [
           7.7
          ],
          [
           6.9
          ],
          [
           6.4
          ]
         ],
         "hovertemplate": "Cluster=Cluster 0<br>PCA1=%{x}<br>PCA2=%{y}<br>Feature=%{customdata[0]}<extra></extra>",
         "legendgroup": "Cluster 0",
         "marker": {
          "color": "#636efa",
          "opacity": 0.5,
          "symbol": "circle"
         },
         "mode": "markers",
         "name": "Cluster 0",
         "orientation": "v",
         "showlegend": true,
         "textposition": "top center",
         "type": "scatter",
         "x": [
          2.5317269804395583,
          2.1228539805083133,
          2.3875644023690277,
          2.840960925285384,
          3.232342898295874,
          2.158738373133135,
          3.076521621020662,
          2.144986856709304,
          1.9048629251371318,
          2.107653731173268,
          2.314303394629548,
          1.9224508848357522,
          2.563322712340809,
          2.41939121980498,
          1.9440170488777369,
          1.764045935526983,
          2.2758536493056933,
          1.901629075288233,
          2.6141938306983334,
          1.557396272070702,
          2.6164846082840434,
          1.970814945906482,
          2.349757983950943,
          3.3968799206781375,
          2.932005096991301,
          3.4992654842989572,
          2.9181342336442513,
          1.6619349470194866,
          2.319672793874053,
          2.165378862953397,
          1.9047435782139124,
          1.949248781864498,
          3.488765379656386,
          3.79468686120997,
          2.4281672590208476,
          1.8023404526607334
         ],
         "xaxis": "x",
         "y": [
          -0.011842236640300523,
          -0.2108548845494899,
          0.46251925072626066,
          0.37274259104902147,
          1.3705240359763338,
          -0.21832553156299322,
          0.6857644422460568,
          0.13890660887731443,
          0.048047508231834596,
          0.3714822491771058,
          0.1826088507936986,
          0.4092711761786957,
          0.27597450223983816,
          0.30350393770262885,
          0.18741522204601396,
          0.07851918642935747,
          0.3333865257566422,
          0.11587674824796555,
          0.5583669502788224,
          0.26739258481276484,
          0.3419352869872948,
          -0.18112569470491371,
          -0.04188254965484184,
          0.5471680462301528,
          0.3523770061808598,
          0.4567734669640746,
          0.7803806293720322,
          0.2420384010375224,
          -0.2455481706069101,
          0.21528028337300723,
          0.11881899098269857,
          0.040730259427767854,
          1.1715445442635644,
          0.25326557097253466,
          0.3767819712541526,
          -0.21615460662653627
         ],
         "yaxis": "y"
        },
        {
         "customdata": [
          [
           5.1
          ],
          [
           5.3
          ],
          [
           4.6
          ],
          [
           5.1
          ],
          [
           4.8
          ],
          [
           5
          ],
          [
           5.1
          ],
          [
           4.5
          ],
          [
           4.4
          ],
          [
           5.4
          ],
          [
           5.1
          ],
          [
           5.7
          ],
          [
           5.1
          ],
          [
           5.4
          ],
          [
           5.7
          ],
          [
           5.8
          ],
          [
           4.3
          ],
          [
           4.8
          ],
          [
           4.8
          ],
          [
           5.4
          ],
          [
           4.9
          ],
          [
           4.4
          ],
          [
           5
          ],
          [
           4.6
          ],
          [
           5.4
          ],
          [
           5
          ],
          [
           4.6
          ],
          [
           4.7
          ],
          [
           4.9
          ],
          [
           5.1
          ],
          [
           4.6
          ],
          [
           5
          ],
          [
           4.8
          ],
          [
           5.2
          ],
          [
           5.1
          ],
          [
           5.4
          ],
          [
           4.8
          ],
          [
           5
          ],
          [
           4.7
          ],
          [
           4.9
          ],
          [
           5.5
          ],
          [
           4.9
          ],
          [
           5.2
          ],
          [
           5
          ],
          [
           4.4
          ],
          [
           5.1
          ],
          [
           5
          ],
          [
           5
          ],
          [
           5.2
          ],
          [
           5.5
          ]
         ],
         "hovertemplate": "Cluster=Cluster 1<br>PCA1=%{x}<br>PCA2=%{y}<br>Feature=%{customdata[0]}<extra></extra>",
         "legendgroup": "Cluster 1",
         "marker": {
          "color": "#EF553B",
          "opacity": 0.5,
          "symbol": "circle"
         },
         "mode": "markers",
         "name": "Cluster 1",
         "orientation": "v",
         "showlegend": true,
         "textposition": "top center",
         "type": "scatter",
         "x": [
          -2.2088329541767058,
          -2.5426857570770482,
          -2.8403212968270086,
          -2.537573371013507,
          -2.715665190747454,
          -2.4055141012847012,
          -2.6842071251039483,
          -2.8522110815663906,
          -2.9982964428323506,
          -2.3105317013131335,
          -2.587346188917738,
          -2.1990779614307634,
          -2.6483227324791265,
          -2.6225262031258083,
          -2.3838693237993756,
          -2.643543216941146,
          -3.22520044627498,
          -2.787433975997097,
          -2.613142718271056,
          -2.5065267893389036,
          -2.6738446867191206,
          -2.887958565335634,
          -2.6264819933238184,
          -2.8208906821806297,
          -2.279897361009598,
          -2.7285929818313144,
          -2.746437197308734,
          -2.889819539617916,
          -2.71539061563413,
          -2.5432349073036953,
          -3.215857694900105,
          -2.70391231486365,
          -2.3561710866838976,
          -2.647636673396901,
          -2.3031285376638824,
          -2.4100773371215958,
          -2.588462051303391,
          -2.866999846932534,
          -2.632847908030758,
          -2.6738446867191206,
          -2.625228464680421,
          -2.6738446867191206,
          -2.5623909468367505,
          -2.4690559975451225,
          -2.981842664853908,
          -2.590323025585674,
          -2.770138910746324,
          -2.5079172268378804,
          -2.6398212683765814,
          -2.5971594770759183
         ],
         "xaxis": "x",
         "y": [
          0.4426960304210028,
          0.5862810253439884,
          -0.2205763382764767,
          0.5103675454766059,
          -0.24268148289811298,
          0.19591725769606078,
          0.3266073147643885,
          -0.9328653674695444,
          -0.3343075745907773,
          0.397867821588892,
          0.520473638805968,
          0.8792440880917367,
          0.3191366677508846,
          0.8180896745965952,
          1.3447543445598622,
          1.1861948994134495,
          -0.5032799094854259,
          -0.22774018887110628,
          0.021520631960257896,
          0.651935013672572,
          -0.10669170375273856,
          -0.5707980263315918,
          0.17040534896028983,
          -0.082104511024681,
          0.7477827132251336,
          0.33392456356845474,
          -0.31112431575199184,
          -0.13734560960502795,
          -0.16955684755602624,
          0.44003175465981526,
          0.14161557162558355,
          0.11501085217050566,
          -0.03120958906833842,
          0.8199826325595069,
          0.10552267842998224,
          0.41808000824761615,
          -0.19739307943769085,
          0.07719309572358721,
          -0.19007583063362415,
          -0.10669170375273856,
          0.6068000084215864,
          -0.10669170375273856,
          0.3746845627501061,
          0.1378873145904177,
          -0.4802500488560767,
          0.23605933728887282,
          0.2710594197651671,
          -0.139056339913174,
          0.3192900659603219,
          1.1000219280072685
         ],
         "yaxis": "y"
        },
        {
         "customdata": [
          [
           5.8
          ],
          [
           6.3
          ],
          [
           5.8
          ],
          [
           5.8
          ],
          [
           6
          ],
          [
           5.6
          ],
          [
           6
          ],
          [
           6.3
          ],
          [
           6.1
          ],
          [
           6.2
          ],
          [
           6.3
          ],
          [
           5.7
          ],
          [
           6.1
          ],
          [
           6.4
          ],
          [
           6.1
          ],
          [
           6.6
          ],
          [
           6.3
          ],
          [
           6.1
          ],
          [
           5.9
          ],
          [
           6.2
          ],
          [
           6.7
          ],
          [
           6.8
          ],
          [
           6.1
          ],
          [
           6.6
          ],
          [
           6.3
          ],
          [
           6.5
          ],
          [
           6.9
          ],
          [
           6.4
          ],
          [
           7
          ],
          [
           5.9
          ],
          [
           6
          ],
          [
           5.9
          ],
          [
           6.3
          ],
          [
           6.2
          ],
          [
           6
          ],
          [
           6
          ],
          [
           6.7
          ],
          [
           6.1
          ]
         ],
         "hovertemplate": "Cluster=Cluster 2<br>PCA1=%{x}<br>PCA2=%{y}<br>Feature=%{customdata[0]}<extra></extra>",
         "legendgroup": "Cluster 2",
         "marker": {
          "color": "#00cc96",
          "opacity": 0.5,
          "symbol": "circle"
         },
         "mode": "markers",
         "name": "Cluster 2",
         "orientation": "v",
         "showlegend": true,
         "textposition": "top center",
         "type": "scatter",
         "x": [
          1.4140722251737576,
          1.5256636313138727,
          1.4140722251737576,
          1.585267299308644,
          1.2983298245678165,
          1.1980973722749628,
          1.1688534694704038,
          1.3876682501815556,
          1.7796401068985703,
          1.2576251829251366,
          1.4431026043759747,
          1.3445942175098249,
          1.2906696477376016,
          0.7140082136428333,
          0.9205026489090096,
          0.8996408632837759,
          1.2964688502855342,
          0.3567865678304614,
          1.1162407237538159,
          0.9423617073988423,
          0.9275729420326997,
          1.33104141885472,
          0.984044545169431,
          1.0432977807062809,
          1.095223709938478,
          1.0871344872070012,
          1.4640613227790753,
          0.9324107529829175,
          1.284794587845071,
          0.5110980606834775,
          0.812455548998002,
          1.3896661333194171,
          0.81286779036907,
          0.6416902781665432,
          1.378736982775583,
          0.8072054966767166,
          1.2204289662446792,
          0.8901604456511564
         ],
         "xaxis": "x",
         "y": [
          -0.5749250559123048,
          -0.3750208481918228,
          -0.5749250559123048,
          -0.539307053847172,
          -0.7610139365215078,
          -0.6055789617645945,
          -0.16450249981508994,
          -0.20403098657015473,
          -0.5014647947060157,
          -0.17913699742322278,
          -0.14380128908272616,
          -0.7764154251768252,
          -0.11642525182937251,
          0.15037915314843728,
          -0.18239036332792097,
          0.32961097958188407,
          -0.3275615197949442,
          -0.06682382794136613,
          -0.08421401387837349,
          -0.541822258150014,
          0.46823620504311714,
          0.24466952060228936,
          -0.12436042022227789,
          0.22895690877700686,
          0.28389121093848035,
          0.0753903892887675,
          0.5041898329724531,
          0.3191980898336488,
          0.6854391861329202,
          -0.1022841050459702,
          -0.16233157487863326,
          -0.28288670917226916,
          -0.37067899831890966,
          0.019071176491270835,
          -0.4212051382146283,
          0.19505396377111148,
          0.4080353370010176,
          -0.03381244274676266
         ],
         "yaxis": "y"
        },
        {
         "customdata": [
          [
           5
          ],
          [
           5.2
          ],
          [
           4.9
          ],
          [
           4.9
          ],
          [
           5
          ],
          [
           5.5
          ],
          [
           5.6
          ],
          [
           5.5
          ],
          [
           5.7
          ],
          [
           5.7
          ],
          [
           5.7
          ],
          [
           5.8
          ],
          [
           5.6
          ],
          [
           5.8
          ],
          [
           5.5
          ],
          [
           5.6
          ],
          [
           5.8
          ],
          [
           5.5
          ],
          [
           5.6
          ],
          [
           5.6
          ],
          [
           5.7
          ],
          [
           5.4
          ],
          [
           5.7
          ],
          [
           5.5
          ],
          [
           6
          ],
          [
           5.1
          ]
         ],
         "hovertemplate": "Cluster=Cluster 3<br>PCA1=%{x}<br>PCA2=%{y}<br>Feature=%{customdata[0]}<extra></extra>",
         "legendgroup": "Cluster 3",
         "marker": {
          "color": "#ab63fa",
          "opacity": 0.5,
          "symbol": "circle"
         },
         "mode": "markers",
         "name": "Cluster 3",
         "orientation": "v",
         "showlegend": true,
         "textposition": "top center",
         "type": "scatter",
         "x": [
          -0.5110861958950897,
          -0.010190070727852822,
          0.5193832450849368,
          -0.7514671406482263,
          -0.7070812839208597,
          -0.19188449210314515,
          0.35553303918706386,
          0.1809672063476993,
          0.33112694733272313,
          0.375238228946766,
          0.6404367495231457,
          0.2288790499696479,
          -0.1748640019656959,
          0.13499495045137355,
          0.4630309888714247,
          0.6595927890562004,
          0.23454058625983584,
          0.16451342836925617,
          0.04324640032870497,
          0.2451951616903462,
          0.2978079074069342,
          0.5872748535799112,
          -0.30733475566340396,
          -0.07034288894927106,
          0.2623357561531805,
          -0.9084633331234948
         ],
         "xaxis": "x",
         "y": [
          -1.2624919538621404,
          -0.7205748667019015,
          -1.1913516890506533,
          -1.0011075129743943,
          -1.0084247617784612,
          -0.6774905443743572,
          -0.5032184874026623,
          -0.8256039435761133,
          -0.21118014066262672,
          -0.2916220248087798,
          -0.41732348297002575,
          -0.4022576201789113,
          -0.25181557108017066,
          -0.3117096427033962,
          -0.6695265465361225,
          -0.3519762910603165,
          -0.33192182936212034,
          -0.6796614693108137,
          -0.5814894466123587,
          -0.266728035661848,
          -0.34701652159856394,
          -0.4832842677174825,
          -0.36508661276616033,
          -0.7025379317307259,
          -0.5478932980253367,
          -0.7515687251694855
         ],
         "yaxis": "y"
        }
       ],
       "layout": {
        "height": 600,
        "legend": {
         "title": {
          "text": "Cluster"
         },
         "tracegroupgap": 0
        },
        "margin": {
         "t": 60
        },
        "plot_bgcolor": "rgb(240,240,240)",
        "template": {
         "data": {
          "bar": [
           {
            "error_x": {
             "color": "#2a3f5f"
            },
            "error_y": {
             "color": "#2a3f5f"
            },
            "marker": {
             "line": {
              "color": "#E5ECF6",
              "width": 0.5
             }
            },
            "type": "bar"
           }
          ],
          "barpolar": [
           {
            "marker": {
             "line": {
              "color": "#E5ECF6",
              "width": 0.5
             }
            },
            "type": "barpolar"
           }
          ],
          "carpet": [
           {
            "aaxis": {
             "endlinecolor": "#2a3f5f",
             "gridcolor": "white",
             "linecolor": "white",
             "minorgridcolor": "white",
             "startlinecolor": "#2a3f5f"
            },
            "baxis": {
             "endlinecolor": "#2a3f5f",
             "gridcolor": "white",
             "linecolor": "white",
             "minorgridcolor": "white",
             "startlinecolor": "#2a3f5f"
            },
            "type": "carpet"
           }
          ],
          "choropleth": [
           {
            "colorbar": {
             "outlinewidth": 0,
             "ticks": ""
            },
            "type": "choropleth"
           }
          ],
          "contour": [
           {
            "colorbar": {
             "outlinewidth": 0,
             "ticks": ""
            },
            "colorscale": [
             [
              0,
              "#0d0887"
             ],
             [
              0.1111111111111111,
              "#46039f"
             ],
             [
              0.2222222222222222,
              "#7201a8"
             ],
             [
              0.3333333333333333,
              "#9c179e"
             ],
             [
              0.4444444444444444,
              "#bd3786"
             ],
             [
              0.5555555555555556,
              "#d8576b"
             ],
             [
              0.6666666666666666,
              "#ed7953"
             ],
             [
              0.7777777777777778,
              "#fb9f3a"
             ],
             [
              0.8888888888888888,
              "#fdca26"
             ],
             [
              1,
              "#f0f921"
             ]
            ],
            "type": "contour"
           }
          ],
          "contourcarpet": [
           {
            "colorbar": {
             "outlinewidth": 0,
             "ticks": ""
            },
            "type": "contourcarpet"
           }
          ],
          "heatmap": [
           {
            "colorbar": {
             "outlinewidth": 0,
             "ticks": ""
            },
            "colorscale": [
             [
              0,
              "#0d0887"
             ],
             [
              0.1111111111111111,
              "#46039f"
             ],
             [
              0.2222222222222222,
              "#7201a8"
             ],
             [
              0.3333333333333333,
              "#9c179e"
             ],
             [
              0.4444444444444444,
              "#bd3786"
             ],
             [
              0.5555555555555556,
              "#d8576b"
             ],
             [
              0.6666666666666666,
              "#ed7953"
             ],
             [
              0.7777777777777778,
              "#fb9f3a"
             ],
             [
              0.8888888888888888,
              "#fdca26"
             ],
             [
              1,
              "#f0f921"
             ]
            ],
            "type": "heatmap"
           }
          ],
          "heatmapgl": [
           {
            "colorbar": {
             "outlinewidth": 0,
             "ticks": ""
            },
            "colorscale": [
             [
              0,
              "#0d0887"
             ],
             [
              0.1111111111111111,
              "#46039f"
             ],
             [
              0.2222222222222222,
              "#7201a8"
             ],
             [
              0.3333333333333333,
              "#9c179e"
             ],
             [
              0.4444444444444444,
              "#bd3786"
             ],
             [
              0.5555555555555556,
              "#d8576b"
             ],
             [
              0.6666666666666666,
              "#ed7953"
             ],
             [
              0.7777777777777778,
              "#fb9f3a"
             ],
             [
              0.8888888888888888,
              "#fdca26"
             ],
             [
              1,
              "#f0f921"
             ]
            ],
            "type": "heatmapgl"
           }
          ],
          "histogram": [
           {
            "marker": {
             "colorbar": {
              "outlinewidth": 0,
              "ticks": ""
             }
            },
            "type": "histogram"
           }
          ],
          "histogram2d": [
           {
            "colorbar": {
             "outlinewidth": 0,
             "ticks": ""
            },
            "colorscale": [
             [
              0,
              "#0d0887"
             ],
             [
              0.1111111111111111,
              "#46039f"
             ],
             [
              0.2222222222222222,
              "#7201a8"
             ],
             [
              0.3333333333333333,
              "#9c179e"
             ],
             [
              0.4444444444444444,
              "#bd3786"
             ],
             [
              0.5555555555555556,
              "#d8576b"
             ],
             [
              0.6666666666666666,
              "#ed7953"
             ],
             [
              0.7777777777777778,
              "#fb9f3a"
             ],
             [
              0.8888888888888888,
              "#fdca26"
             ],
             [
              1,
              "#f0f921"
             ]
            ],
            "type": "histogram2d"
           }
          ],
          "histogram2dcontour": [
           {
            "colorbar": {
             "outlinewidth": 0,
             "ticks": ""
            },
            "colorscale": [
             [
              0,
              "#0d0887"
             ],
             [
              0.1111111111111111,
              "#46039f"
             ],
             [
              0.2222222222222222,
              "#7201a8"
             ],
             [
              0.3333333333333333,
              "#9c179e"
             ],
             [
              0.4444444444444444,
              "#bd3786"
             ],
             [
              0.5555555555555556,
              "#d8576b"
             ],
             [
              0.6666666666666666,
              "#ed7953"
             ],
             [
              0.7777777777777778,
              "#fb9f3a"
             ],
             [
              0.8888888888888888,
              "#fdca26"
             ],
             [
              1,
              "#f0f921"
             ]
            ],
            "type": "histogram2dcontour"
           }
          ],
          "mesh3d": [
           {
            "colorbar": {
             "outlinewidth": 0,
             "ticks": ""
            },
            "type": "mesh3d"
           }
          ],
          "parcoords": [
           {
            "line": {
             "colorbar": {
              "outlinewidth": 0,
              "ticks": ""
             }
            },
            "type": "parcoords"
           }
          ],
          "pie": [
           {
            "automargin": true,
            "type": "pie"
           }
          ],
          "scatter": [
           {
            "marker": {
             "colorbar": {
              "outlinewidth": 0,
              "ticks": ""
             }
            },
            "type": "scatter"
           }
          ],
          "scatter3d": [
           {
            "line": {
             "colorbar": {
              "outlinewidth": 0,
              "ticks": ""
             }
            },
            "marker": {
             "colorbar": {
              "outlinewidth": 0,
              "ticks": ""
             }
            },
            "type": "scatter3d"
           }
          ],
          "scattercarpet": [
           {
            "marker": {
             "colorbar": {
              "outlinewidth": 0,
              "ticks": ""
             }
            },
            "type": "scattercarpet"
           }
          ],
          "scattergeo": [
           {
            "marker": {
             "colorbar": {
              "outlinewidth": 0,
              "ticks": ""
             }
            },
            "type": "scattergeo"
           }
          ],
          "scattergl": [
           {
            "marker": {
             "colorbar": {
              "outlinewidth": 0,
              "ticks": ""
             }
            },
            "type": "scattergl"
           }
          ],
          "scattermapbox": [
           {
            "marker": {
             "colorbar": {
              "outlinewidth": 0,
              "ticks": ""
             }
            },
            "type": "scattermapbox"
           }
          ],
          "scatterpolar": [
           {
            "marker": {
             "colorbar": {
              "outlinewidth": 0,
              "ticks": ""
             }
            },
            "type": "scatterpolar"
           }
          ],
          "scatterpolargl": [
           {
            "marker": {
             "colorbar": {
              "outlinewidth": 0,
              "ticks": ""
             }
            },
            "type": "scatterpolargl"
           }
          ],
          "scatterternary": [
           {
            "marker": {
             "colorbar": {
              "outlinewidth": 0,
              "ticks": ""
             }
            },
            "type": "scatterternary"
           }
          ],
          "surface": [
           {
            "colorbar": {
             "outlinewidth": 0,
             "ticks": ""
            },
            "colorscale": [
             [
              0,
              "#0d0887"
             ],
             [
              0.1111111111111111,
              "#46039f"
             ],
             [
              0.2222222222222222,
              "#7201a8"
             ],
             [
              0.3333333333333333,
              "#9c179e"
             ],
             [
              0.4444444444444444,
              "#bd3786"
             ],
             [
              0.5555555555555556,
              "#d8576b"
             ],
             [
              0.6666666666666666,
              "#ed7953"
             ],
             [
              0.7777777777777778,
              "#fb9f3a"
             ],
             [
              0.8888888888888888,
              "#fdca26"
             ],
             [
              1,
              "#f0f921"
             ]
            ],
            "type": "surface"
           }
          ],
          "table": [
           {
            "cells": {
             "fill": {
              "color": "#EBF0F8"
             },
             "line": {
              "color": "white"
             }
            },
            "header": {
             "fill": {
              "color": "#C8D4E3"
             },
             "line": {
              "color": "white"
             }
            },
            "type": "table"
           }
          ]
         },
         "layout": {
          "annotationdefaults": {
           "arrowcolor": "#2a3f5f",
           "arrowhead": 0,
           "arrowwidth": 1
          },
          "coloraxis": {
           "colorbar": {
            "outlinewidth": 0,
            "ticks": ""
           }
          },
          "colorscale": {
           "diverging": [
            [
             0,
             "#8e0152"
            ],
            [
             0.1,
             "#c51b7d"
            ],
            [
             0.2,
             "#de77ae"
            ],
            [
             0.3,
             "#f1b6da"
            ],
            [
             0.4,
             "#fde0ef"
            ],
            [
             0.5,
             "#f7f7f7"
            ],
            [
             0.6,
             "#e6f5d0"
            ],
            [
             0.7,
             "#b8e186"
            ],
            [
             0.8,
             "#7fbc41"
            ],
            [
             0.9,
             "#4d9221"
            ],
            [
             1,
             "#276419"
            ]
           ],
           "sequential": [
            [
             0,
             "#0d0887"
            ],
            [
             0.1111111111111111,
             "#46039f"
            ],
            [
             0.2222222222222222,
             "#7201a8"
            ],
            [
             0.3333333333333333,
             "#9c179e"
            ],
            [
             0.4444444444444444,
             "#bd3786"
            ],
            [
             0.5555555555555556,
             "#d8576b"
            ],
            [
             0.6666666666666666,
             "#ed7953"
            ],
            [
             0.7777777777777778,
             "#fb9f3a"
            ],
            [
             0.8888888888888888,
             "#fdca26"
            ],
            [
             1,
             "#f0f921"
            ]
           ],
           "sequentialminus": [
            [
             0,
             "#0d0887"
            ],
            [
             0.1111111111111111,
             "#46039f"
            ],
            [
             0.2222222222222222,
             "#7201a8"
            ],
            [
             0.3333333333333333,
             "#9c179e"
            ],
            [
             0.4444444444444444,
             "#bd3786"
            ],
            [
             0.5555555555555556,
             "#d8576b"
            ],
            [
             0.6666666666666666,
             "#ed7953"
            ],
            [
             0.7777777777777778,
             "#fb9f3a"
            ],
            [
             0.8888888888888888,
             "#fdca26"
            ],
            [
             1,
             "#f0f921"
            ]
           ]
          },
          "colorway": [
           "#636efa",
           "#EF553B",
           "#00cc96",
           "#ab63fa",
           "#FFA15A",
           "#19d3f3",
           "#FF6692",
           "#B6E880",
           "#FF97FF",
           "#FECB52"
          ],
          "font": {
           "color": "#2a3f5f"
          },
          "geo": {
           "bgcolor": "white",
           "lakecolor": "white",
           "landcolor": "#E5ECF6",
           "showlakes": true,
           "showland": true,
           "subunitcolor": "white"
          },
          "hoverlabel": {
           "align": "left"
          },
          "hovermode": "closest",
          "mapbox": {
           "style": "light"
          },
          "paper_bgcolor": "white",
          "plot_bgcolor": "#E5ECF6",
          "polar": {
           "angularaxis": {
            "gridcolor": "white",
            "linecolor": "white",
            "ticks": ""
           },
           "bgcolor": "#E5ECF6",
           "radialaxis": {
            "gridcolor": "white",
            "linecolor": "white",
            "ticks": ""
           }
          },
          "scene": {
           "xaxis": {
            "backgroundcolor": "#E5ECF6",
            "gridcolor": "white",
            "gridwidth": 2,
            "linecolor": "white",
            "showbackground": true,
            "ticks": "",
            "zerolinecolor": "white"
           },
           "yaxis": {
            "backgroundcolor": "#E5ECF6",
            "gridcolor": "white",
            "gridwidth": 2,
            "linecolor": "white",
            "showbackground": true,
            "ticks": "",
            "zerolinecolor": "white"
           },
           "zaxis": {
            "backgroundcolor": "#E5ECF6",
            "gridcolor": "white",
            "gridwidth": 2,
            "linecolor": "white",
            "showbackground": true,
            "ticks": "",
            "zerolinecolor": "white"
           }
          },
          "shapedefaults": {
           "line": {
            "color": "#2a3f5f"
           }
          },
          "ternary": {
           "aaxis": {
            "gridcolor": "white",
            "linecolor": "white",
            "ticks": ""
           },
           "baxis": {
            "gridcolor": "white",
            "linecolor": "white",
            "ticks": ""
           },
           "bgcolor": "#E5ECF6",
           "caxis": {
            "gridcolor": "white",
            "linecolor": "white",
            "ticks": ""
           }
          },
          "title": {
           "x": 0.05
          },
          "xaxis": {
           "automargin": true,
           "gridcolor": "white",
           "linecolor": "white",
           "ticks": "",
           "title": {
            "standoff": 15
           },
           "zerolinecolor": "white",
           "zerolinewidth": 2
          },
          "yaxis": {
           "automargin": true,
           "gridcolor": "white",
           "linecolor": "white",
           "ticks": "",
           "title": {
            "standoff": 15
           },
           "zerolinecolor": "white",
           "zerolinewidth": 2
          }
         }
        },
        "title": {
         "text": "2D Cluster PCA Plot"
        },
        "xaxis": {
         "anchor": "y",
         "domain": [
          0,
          1
         ],
         "title": {
          "text": "PCA1"
         }
        },
        "yaxis": {
         "anchor": "x",
         "domain": [
          0,
          1
         ],
         "title": {
          "text": "PCA2"
         }
        }
       }
      },
      "text/html": [
       "<div>                            <div id=\"22cb6a02-6d70-4b7b-bcbd-d8e1588028be\" class=\"plotly-graph-div\" style=\"height:600px; width:100%;\"></div>            <script type=\"text/javascript\">                require([\"plotly\"], function(Plotly) {                    window.PLOTLYENV=window.PLOTLYENV || {};                                    if (document.getElementById(\"22cb6a02-6d70-4b7b-bcbd-d8e1588028be\")) {                    Plotly.newPlot(                        \"22cb6a02-6d70-4b7b-bcbd-d8e1588028be\",                        [{\"customdata\": [[6.3], [6.4], [7.2], [7.4], [7.9], [6.4], [7.7], [6.3], [6.4], [6.9], [6.7], [6.9], [6.8], [6.7], [6.7], [6.5], [6.7], [6.2], [7.2], [6.7], [7.1], [6.3], [6.5], [7.6], [7.3], [7.7], [7.2], [6.5], [6.7], [6.8], [6.4], [6.5], [7.7], [7.7], [6.9], [6.4]], \"hovertemplate\": \"Cluster=Cluster 0<br>PCA1=%{x}<br>PCA2=%{y}<br>Feature=%{customdata[0]}<extra></extra>\", \"legendgroup\": \"Cluster 0\", \"marker\": {\"color\": \"#636efa\", \"opacity\": 0.5, \"symbol\": \"circle\"}, \"mode\": \"markers\", \"name\": \"Cluster 0\", \"orientation\": \"v\", \"showlegend\": true, \"textposition\": \"top center\", \"type\": \"scatter\", \"x\": [2.5317269804395583, 2.1228539805083133, 2.3875644023690277, 2.840960925285384, 3.232342898295874, 2.158738373133135, 3.076521621020662, 2.144986856709304, 1.9048629251371318, 2.107653731173268, 2.314303394629548, 1.9224508848357522, 2.563322712340809, 2.41939121980498, 1.9440170488777369, 1.764045935526983, 2.2758536493056933, 1.901629075288233, 2.6141938306983334, 1.557396272070702, 2.6164846082840434, 1.970814945906482, 2.349757983950943, 3.3968799206781375, 2.932005096991301, 3.4992654842989572, 2.9181342336442513, 1.6619349470194866, 2.319672793874053, 2.165378862953397, 1.9047435782139124, 1.949248781864498, 3.488765379656386, 3.79468686120997, 2.4281672590208476, 1.8023404526607334], \"xaxis\": \"x\", \"y\": [-0.011842236640300523, -0.2108548845494899, 0.46251925072626066, 0.37274259104902147, 1.3705240359763338, -0.21832553156299322, 0.6857644422460568, 0.13890660887731443, 0.048047508231834596, 0.3714822491771058, 0.1826088507936986, 0.4092711761786957, 0.27597450223983816, 0.30350393770262885, 0.18741522204601396, 0.07851918642935747, 0.3333865257566422, 0.11587674824796555, 0.5583669502788224, 0.26739258481276484, 0.3419352869872948, -0.18112569470491371, -0.04188254965484184, 0.5471680462301528, 0.3523770061808598, 0.4567734669640746, 0.7803806293720322, 0.2420384010375224, -0.2455481706069101, 0.21528028337300723, 0.11881899098269857, 0.040730259427767854, 1.1715445442635644, 0.25326557097253466, 0.3767819712541526, -0.21615460662653627], \"yaxis\": \"y\"}, {\"customdata\": [[5.1], [5.3], [4.6], [5.1], [4.8], [5.0], [5.1], [4.5], [4.4], [5.4], [5.1], [5.7], [5.1], [5.4], [5.7], [5.8], [4.3], [4.8], [4.8], [5.4], [4.9], [4.4], [5.0], [4.6], [5.4], [5.0], [4.6], [4.7], [4.9], [5.1], [4.6], [5.0], [4.8], [5.2], [5.1], [5.4], [4.8], [5.0], [4.7], [4.9], [5.5], [4.9], [5.2], [5.0], [4.4], [5.1], [5.0], [5.0], [5.2], [5.5]], \"hovertemplate\": \"Cluster=Cluster 1<br>PCA1=%{x}<br>PCA2=%{y}<br>Feature=%{customdata[0]}<extra></extra>\", \"legendgroup\": \"Cluster 1\", \"marker\": {\"color\": \"#EF553B\", \"opacity\": 0.5, \"symbol\": \"circle\"}, \"mode\": \"markers\", \"name\": \"Cluster 1\", \"orientation\": \"v\", \"showlegend\": true, \"textposition\": \"top center\", \"type\": \"scatter\", \"x\": [-2.2088329541767058, -2.5426857570770482, -2.8403212968270086, -2.537573371013507, -2.715665190747454, -2.4055141012847012, -2.6842071251039483, -2.8522110815663906, -2.9982964428323506, -2.3105317013131335, -2.587346188917738, -2.1990779614307634, -2.6483227324791265, -2.6225262031258083, -2.3838693237993756, -2.643543216941146, -3.22520044627498, -2.787433975997097, -2.613142718271056, -2.5065267893389036, -2.6738446867191206, -2.887958565335634, -2.6264819933238184, -2.8208906821806297, -2.279897361009598, -2.7285929818313144, -2.746437197308734, -2.889819539617916, -2.71539061563413, -2.5432349073036953, -3.215857694900105, -2.70391231486365, -2.3561710866838976, -2.647636673396901, -2.3031285376638824, -2.4100773371215958, -2.588462051303391, -2.866999846932534, -2.632847908030758, -2.6738446867191206, -2.625228464680421, -2.6738446867191206, -2.5623909468367505, -2.4690559975451225, -2.981842664853908, -2.590323025585674, -2.770138910746324, -2.5079172268378804, -2.6398212683765814, -2.5971594770759183], \"xaxis\": \"x\", \"y\": [0.4426960304210028, 0.5862810253439884, -0.2205763382764767, 0.5103675454766059, -0.24268148289811298, 0.19591725769606078, 0.3266073147643885, -0.9328653674695444, -0.3343075745907773, 0.397867821588892, 0.520473638805968, 0.8792440880917367, 0.3191366677508846, 0.8180896745965952, 1.3447543445598622, 1.1861948994134495, -0.5032799094854259, -0.22774018887110628, 0.021520631960257896, 0.651935013672572, -0.10669170375273856, -0.5707980263315918, 0.17040534896028983, -0.082104511024681, 0.7477827132251336, 0.33392456356845474, -0.31112431575199184, -0.13734560960502795, -0.16955684755602624, 0.44003175465981526, 0.14161557162558355, 0.11501085217050566, -0.03120958906833842, 0.8199826325595069, 0.10552267842998224, 0.41808000824761615, -0.19739307943769085, 0.07719309572358721, -0.19007583063362415, -0.10669170375273856, 0.6068000084215864, -0.10669170375273856, 0.3746845627501061, 0.1378873145904177, -0.4802500488560767, 0.23605933728887282, 0.2710594197651671, -0.139056339913174, 0.3192900659603219, 1.1000219280072685], \"yaxis\": \"y\"}, {\"customdata\": [[5.8], [6.3], [5.8], [5.8], [6.0], [5.6], [6.0], [6.3], [6.1], [6.2], [6.3], [5.7], [6.1], [6.4], [6.1], [6.6], [6.3], [6.1], [5.9], [6.2], [6.7], [6.8], [6.1], [6.6], [6.3], [6.5], [6.9], [6.4], [7.0], [5.9], [6.0], [5.9], [6.3], [6.2], [6.0], [6.0], [6.7], [6.1]], \"hovertemplate\": \"Cluster=Cluster 2<br>PCA1=%{x}<br>PCA2=%{y}<br>Feature=%{customdata[0]}<extra></extra>\", \"legendgroup\": \"Cluster 2\", \"marker\": {\"color\": \"#00cc96\", \"opacity\": 0.5, \"symbol\": \"circle\"}, \"mode\": \"markers\", \"name\": \"Cluster 2\", \"orientation\": \"v\", \"showlegend\": true, \"textposition\": \"top center\", \"type\": \"scatter\", \"x\": [1.4140722251737576, 1.5256636313138727, 1.4140722251737576, 1.585267299308644, 1.2983298245678165, 1.1980973722749628, 1.1688534694704038, 1.3876682501815556, 1.7796401068985703, 1.2576251829251366, 1.4431026043759747, 1.3445942175098249, 1.2906696477376016, 0.7140082136428333, 0.9205026489090096, 0.8996408632837759, 1.2964688502855342, 0.3567865678304614, 1.1162407237538159, 0.9423617073988423, 0.9275729420326997, 1.33104141885472, 0.984044545169431, 1.0432977807062809, 1.095223709938478, 1.0871344872070012, 1.4640613227790753, 0.9324107529829175, 1.284794587845071, 0.5110980606834775, 0.812455548998002, 1.3896661333194171, 0.81286779036907, 0.6416902781665432, 1.378736982775583, 0.8072054966767166, 1.2204289662446792, 0.8901604456511564], \"xaxis\": \"x\", \"y\": [-0.5749250559123048, -0.3750208481918228, -0.5749250559123048, -0.539307053847172, -0.7610139365215078, -0.6055789617645945, -0.16450249981508994, -0.20403098657015473, -0.5014647947060157, -0.17913699742322278, -0.14380128908272616, -0.7764154251768252, -0.11642525182937251, 0.15037915314843728, -0.18239036332792097, 0.32961097958188407, -0.3275615197949442, -0.06682382794136613, -0.08421401387837349, -0.541822258150014, 0.46823620504311714, 0.24466952060228936, -0.12436042022227789, 0.22895690877700686, 0.28389121093848035, 0.0753903892887675, 0.5041898329724531, 0.3191980898336488, 0.6854391861329202, -0.1022841050459702, -0.16233157487863326, -0.28288670917226916, -0.37067899831890966, 0.019071176491270835, -0.4212051382146283, 0.19505396377111148, 0.4080353370010176, -0.03381244274676266], \"yaxis\": \"y\"}, {\"customdata\": [[5.0], [5.2], [4.9], [4.9], [5.0], [5.5], [5.6], [5.5], [5.7], [5.7], [5.7], [5.8], [5.6], [5.8], [5.5], [5.6], [5.8], [5.5], [5.6], [5.6], [5.7], [5.4], [5.7], [5.5], [6.0], [5.1]], \"hovertemplate\": \"Cluster=Cluster 3<br>PCA1=%{x}<br>PCA2=%{y}<br>Feature=%{customdata[0]}<extra></extra>\", \"legendgroup\": \"Cluster 3\", \"marker\": {\"color\": \"#ab63fa\", \"opacity\": 0.5, \"symbol\": \"circle\"}, \"mode\": \"markers\", \"name\": \"Cluster 3\", \"orientation\": \"v\", \"showlegend\": true, \"textposition\": \"top center\", \"type\": \"scatter\", \"x\": [-0.5110861958950897, -0.010190070727852822, 0.5193832450849368, -0.7514671406482263, -0.7070812839208597, -0.19188449210314515, 0.35553303918706386, 0.1809672063476993, 0.33112694733272313, 0.375238228946766, 0.6404367495231457, 0.2288790499696479, -0.1748640019656959, 0.13499495045137355, 0.4630309888714247, 0.6595927890562004, 0.23454058625983584, 0.16451342836925617, 0.04324640032870497, 0.2451951616903462, 0.2978079074069342, 0.5872748535799112, -0.30733475566340396, -0.07034288894927106, 0.2623357561531805, -0.9084633331234948], \"xaxis\": \"x\", \"y\": [-1.2624919538621404, -0.7205748667019015, -1.1913516890506533, -1.0011075129743943, -1.0084247617784612, -0.6774905443743572, -0.5032184874026623, -0.8256039435761133, -0.21118014066262672, -0.2916220248087798, -0.41732348297002575, -0.4022576201789113, -0.25181557108017066, -0.3117096427033962, -0.6695265465361225, -0.3519762910603165, -0.33192182936212034, -0.6796614693108137, -0.5814894466123587, -0.266728035661848, -0.34701652159856394, -0.4832842677174825, -0.36508661276616033, -0.7025379317307259, -0.5478932980253367, -0.7515687251694855], \"yaxis\": \"y\"}],                        {\"height\": 600, \"legend\": {\"title\": {\"text\": \"Cluster\"}, \"tracegroupgap\": 0}, \"margin\": {\"t\": 60}, \"plot_bgcolor\": \"rgb(240,240,240)\", \"template\": {\"data\": {\"bar\": [{\"error_x\": {\"color\": \"#2a3f5f\"}, \"error_y\": {\"color\": \"#2a3f5f\"}, \"marker\": {\"line\": {\"color\": \"#E5ECF6\", \"width\": 0.5}}, \"type\": \"bar\"}], \"barpolar\": [{\"marker\": {\"line\": {\"color\": \"#E5ECF6\", \"width\": 0.5}}, \"type\": \"barpolar\"}], \"carpet\": [{\"aaxis\": {\"endlinecolor\": \"#2a3f5f\", \"gridcolor\": \"white\", \"linecolor\": \"white\", \"minorgridcolor\": \"white\", \"startlinecolor\": \"#2a3f5f\"}, \"baxis\": {\"endlinecolor\": \"#2a3f5f\", \"gridcolor\": \"white\", \"linecolor\": \"white\", \"minorgridcolor\": \"white\", \"startlinecolor\": \"#2a3f5f\"}, \"type\": \"carpet\"}], \"choropleth\": [{\"colorbar\": {\"outlinewidth\": 0, \"ticks\": \"\"}, \"type\": \"choropleth\"}], \"contour\": [{\"colorbar\": {\"outlinewidth\": 0, \"ticks\": \"\"}, \"colorscale\": [[0.0, \"#0d0887\"], [0.1111111111111111, \"#46039f\"], [0.2222222222222222, \"#7201a8\"], [0.3333333333333333, \"#9c179e\"], [0.4444444444444444, \"#bd3786\"], [0.5555555555555556, \"#d8576b\"], [0.6666666666666666, \"#ed7953\"], [0.7777777777777778, \"#fb9f3a\"], [0.8888888888888888, \"#fdca26\"], [1.0, \"#f0f921\"]], \"type\": \"contour\"}], \"contourcarpet\": [{\"colorbar\": {\"outlinewidth\": 0, \"ticks\": \"\"}, \"type\": \"contourcarpet\"}], \"heatmap\": [{\"colorbar\": {\"outlinewidth\": 0, \"ticks\": \"\"}, \"colorscale\": [[0.0, \"#0d0887\"], [0.1111111111111111, \"#46039f\"], [0.2222222222222222, \"#7201a8\"], [0.3333333333333333, \"#9c179e\"], [0.4444444444444444, \"#bd3786\"], [0.5555555555555556, \"#d8576b\"], [0.6666666666666666, \"#ed7953\"], [0.7777777777777778, \"#fb9f3a\"], [0.8888888888888888, \"#fdca26\"], [1.0, \"#f0f921\"]], \"type\": \"heatmap\"}], \"heatmapgl\": [{\"colorbar\": {\"outlinewidth\": 0, \"ticks\": \"\"}, \"colorscale\": [[0.0, \"#0d0887\"], [0.1111111111111111, \"#46039f\"], [0.2222222222222222, \"#7201a8\"], [0.3333333333333333, \"#9c179e\"], [0.4444444444444444, \"#bd3786\"], [0.5555555555555556, \"#d8576b\"], [0.6666666666666666, \"#ed7953\"], [0.7777777777777778, \"#fb9f3a\"], [0.8888888888888888, \"#fdca26\"], [1.0, \"#f0f921\"]], \"type\": \"heatmapgl\"}], \"histogram\": [{\"marker\": {\"colorbar\": {\"outlinewidth\": 0, \"ticks\": \"\"}}, \"type\": \"histogram\"}], \"histogram2d\": [{\"colorbar\": {\"outlinewidth\": 0, \"ticks\": \"\"}, \"colorscale\": [[0.0, \"#0d0887\"], [0.1111111111111111, \"#46039f\"], [0.2222222222222222, \"#7201a8\"], [0.3333333333333333, \"#9c179e\"], [0.4444444444444444, \"#bd3786\"], [0.5555555555555556, \"#d8576b\"], [0.6666666666666666, \"#ed7953\"], [0.7777777777777778, \"#fb9f3a\"], [0.8888888888888888, \"#fdca26\"], [1.0, \"#f0f921\"]], \"type\": \"histogram2d\"}], \"histogram2dcontour\": [{\"colorbar\": {\"outlinewidth\": 0, \"ticks\": \"\"}, \"colorscale\": [[0.0, \"#0d0887\"], [0.1111111111111111, \"#46039f\"], [0.2222222222222222, \"#7201a8\"], [0.3333333333333333, \"#9c179e\"], [0.4444444444444444, \"#bd3786\"], [0.5555555555555556, \"#d8576b\"], [0.6666666666666666, \"#ed7953\"], [0.7777777777777778, \"#fb9f3a\"], [0.8888888888888888, \"#fdca26\"], [1.0, \"#f0f921\"]], \"type\": \"histogram2dcontour\"}], \"mesh3d\": [{\"colorbar\": {\"outlinewidth\": 0, \"ticks\": \"\"}, \"type\": \"mesh3d\"}], \"parcoords\": [{\"line\": {\"colorbar\": {\"outlinewidth\": 0, \"ticks\": \"\"}}, \"type\": \"parcoords\"}], \"pie\": [{\"automargin\": true, \"type\": \"pie\"}], \"scatter\": [{\"marker\": {\"colorbar\": {\"outlinewidth\": 0, \"ticks\": \"\"}}, \"type\": \"scatter\"}], \"scatter3d\": [{\"line\": {\"colorbar\": {\"outlinewidth\": 0, \"ticks\": \"\"}}, \"marker\": {\"colorbar\": {\"outlinewidth\": 0, \"ticks\": \"\"}}, \"type\": \"scatter3d\"}], \"scattercarpet\": [{\"marker\": {\"colorbar\": {\"outlinewidth\": 0, \"ticks\": \"\"}}, \"type\": \"scattercarpet\"}], \"scattergeo\": [{\"marker\": {\"colorbar\": {\"outlinewidth\": 0, \"ticks\": \"\"}}, \"type\": \"scattergeo\"}], \"scattergl\": [{\"marker\": {\"colorbar\": {\"outlinewidth\": 0, \"ticks\": \"\"}}, \"type\": \"scattergl\"}], \"scattermapbox\": [{\"marker\": {\"colorbar\": {\"outlinewidth\": 0, \"ticks\": \"\"}}, \"type\": \"scattermapbox\"}], \"scatterpolar\": [{\"marker\": {\"colorbar\": {\"outlinewidth\": 0, \"ticks\": \"\"}}, \"type\": \"scatterpolar\"}], \"scatterpolargl\": [{\"marker\": {\"colorbar\": {\"outlinewidth\": 0, \"ticks\": \"\"}}, \"type\": \"scatterpolargl\"}], \"scatterternary\": [{\"marker\": {\"colorbar\": {\"outlinewidth\": 0, \"ticks\": \"\"}}, \"type\": \"scatterternary\"}], \"surface\": [{\"colorbar\": {\"outlinewidth\": 0, \"ticks\": \"\"}, \"colorscale\": [[0.0, \"#0d0887\"], [0.1111111111111111, \"#46039f\"], [0.2222222222222222, \"#7201a8\"], [0.3333333333333333, \"#9c179e\"], [0.4444444444444444, \"#bd3786\"], [0.5555555555555556, \"#d8576b\"], [0.6666666666666666, \"#ed7953\"], [0.7777777777777778, \"#fb9f3a\"], [0.8888888888888888, \"#fdca26\"], [1.0, \"#f0f921\"]], \"type\": \"surface\"}], \"table\": [{\"cells\": {\"fill\": {\"color\": \"#EBF0F8\"}, \"line\": {\"color\": \"white\"}}, \"header\": {\"fill\": {\"color\": \"#C8D4E3\"}, \"line\": {\"color\": \"white\"}}, \"type\": \"table\"}]}, \"layout\": {\"annotationdefaults\": {\"arrowcolor\": \"#2a3f5f\", \"arrowhead\": 0, \"arrowwidth\": 1}, \"coloraxis\": {\"colorbar\": {\"outlinewidth\": 0, \"ticks\": \"\"}}, \"colorscale\": {\"diverging\": [[0, \"#8e0152\"], [0.1, \"#c51b7d\"], [0.2, \"#de77ae\"], [0.3, \"#f1b6da\"], [0.4, \"#fde0ef\"], [0.5, \"#f7f7f7\"], [0.6, \"#e6f5d0\"], [0.7, \"#b8e186\"], [0.8, \"#7fbc41\"], [0.9, \"#4d9221\"], [1, \"#276419\"]], \"sequential\": [[0.0, \"#0d0887\"], [0.1111111111111111, \"#46039f\"], [0.2222222222222222, \"#7201a8\"], [0.3333333333333333, \"#9c179e\"], [0.4444444444444444, \"#bd3786\"], [0.5555555555555556, \"#d8576b\"], [0.6666666666666666, \"#ed7953\"], [0.7777777777777778, \"#fb9f3a\"], [0.8888888888888888, \"#fdca26\"], [1.0, \"#f0f921\"]], \"sequentialminus\": [[0.0, \"#0d0887\"], [0.1111111111111111, \"#46039f\"], [0.2222222222222222, \"#7201a8\"], [0.3333333333333333, \"#9c179e\"], [0.4444444444444444, \"#bd3786\"], [0.5555555555555556, \"#d8576b\"], [0.6666666666666666, \"#ed7953\"], [0.7777777777777778, \"#fb9f3a\"], [0.8888888888888888, \"#fdca26\"], [1.0, \"#f0f921\"]]}, \"colorway\": [\"#636efa\", \"#EF553B\", \"#00cc96\", \"#ab63fa\", \"#FFA15A\", \"#19d3f3\", \"#FF6692\", \"#B6E880\", \"#FF97FF\", \"#FECB52\"], \"font\": {\"color\": \"#2a3f5f\"}, \"geo\": {\"bgcolor\": \"white\", \"lakecolor\": \"white\", \"landcolor\": \"#E5ECF6\", \"showlakes\": true, \"showland\": true, \"subunitcolor\": \"white\"}, \"hoverlabel\": {\"align\": \"left\"}, \"hovermode\": \"closest\", \"mapbox\": {\"style\": \"light\"}, \"paper_bgcolor\": \"white\", \"plot_bgcolor\": \"#E5ECF6\", \"polar\": {\"angularaxis\": {\"gridcolor\": \"white\", \"linecolor\": \"white\", \"ticks\": \"\"}, \"bgcolor\": \"#E5ECF6\", \"radialaxis\": {\"gridcolor\": \"white\", \"linecolor\": \"white\", \"ticks\": \"\"}}, \"scene\": {\"xaxis\": {\"backgroundcolor\": \"#E5ECF6\", \"gridcolor\": \"white\", \"gridwidth\": 2, \"linecolor\": \"white\", \"showbackground\": true, \"ticks\": \"\", \"zerolinecolor\": \"white\"}, \"yaxis\": {\"backgroundcolor\": \"#E5ECF6\", \"gridcolor\": \"white\", \"gridwidth\": 2, \"linecolor\": \"white\", \"showbackground\": true, \"ticks\": \"\", \"zerolinecolor\": \"white\"}, \"zaxis\": {\"backgroundcolor\": \"#E5ECF6\", \"gridcolor\": \"white\", \"gridwidth\": 2, \"linecolor\": \"white\", \"showbackground\": true, \"ticks\": \"\", \"zerolinecolor\": \"white\"}}, \"shapedefaults\": {\"line\": {\"color\": \"#2a3f5f\"}}, \"ternary\": {\"aaxis\": {\"gridcolor\": \"white\", \"linecolor\": \"white\", \"ticks\": \"\"}, \"baxis\": {\"gridcolor\": \"white\", \"linecolor\": \"white\", \"ticks\": \"\"}, \"bgcolor\": \"#E5ECF6\", \"caxis\": {\"gridcolor\": \"white\", \"linecolor\": \"white\", \"ticks\": \"\"}}, \"title\": {\"x\": 0.05}, \"xaxis\": {\"automargin\": true, \"gridcolor\": \"white\", \"linecolor\": \"white\", \"ticks\": \"\", \"title\": {\"standoff\": 15}, \"zerolinecolor\": \"white\", \"zerolinewidth\": 2}, \"yaxis\": {\"automargin\": true, \"gridcolor\": \"white\", \"linecolor\": \"white\", \"ticks\": \"\", \"title\": {\"standoff\": 15}, \"zerolinecolor\": \"white\", \"zerolinewidth\": 2}}}, \"title\": {\"text\": \"2D Cluster PCA Plot\"}, \"xaxis\": {\"anchor\": \"y\", \"domain\": [0.0, 1.0], \"title\": {\"text\": \"PCA1\"}}, \"yaxis\": {\"anchor\": \"x\", \"domain\": [0.0, 1.0], \"title\": {\"text\": \"PCA2\"}}},                        {\"responsive\": true}                    ).then(function(){\n",
       "                            \n",
       "var gd = document.getElementById('22cb6a02-6d70-4b7b-bcbd-d8e1588028be');\n",
       "var x = new MutationObserver(function (mutations, observer) {{\n",
       "        var display = window.getComputedStyle(gd).display;\n",
       "        if (!display || display === 'none') {{\n",
       "            console.log([gd, 'removed!']);\n",
       "            Plotly.purge(gd);\n",
       "            observer.disconnect();\n",
       "        }}\n",
       "}});\n",
       "\n",
       "// Listen for the removal of the full notebook cells\n",
       "var notebookContainer = gd.closest('#notebook-container');\n",
       "if (notebookContainer) {{\n",
       "    x.observe(notebookContainer, {childList: true});\n",
       "}}\n",
       "\n",
       "// Listen for the clearing of the current output cell\n",
       "var outputEl = gd.closest('.output');\n",
       "if (outputEl) {{\n",
       "    x.observe(outputEl, {childList: true});\n",
       "}}\n",
       "\n",
       "                        })                };                });            </script>        </div>"
      ]
     },
     "metadata": {},
     "output_type": "display_data"
    },
    {
     "name": "stderr",
     "output_type": "stream",
     "text": [
      "INFO:logs:Visual Rendered Successfully\n",
      "INFO:logs:plot_model() succesfully completed......................................\n"
     ]
    }
   ],
   "source": [
    "# plot a model\n",
    "plot_model(h_clust)"
   ]
  },
  {
   "cell_type": "code",
   "execution_count": 49,
   "metadata": {},
   "outputs": [
    {
     "name": "stderr",
     "output_type": "stream",
     "text": [
      "INFO:logs:Initializing plot_model()\n",
      "INFO:logs:plot_model(model=AgglomerativeClustering(affinity='euclidean', compute_full_tree='auto',\n",
      "                        connectivity=None, distance_threshold=None,\n",
      "                        linkage='ward', memory=None, n_clusters=4), plot=tsne, feature=None, label=False, save=False, system=True)\n",
      "INFO:logs:Checking exceptions\n",
      "INFO:logs:Importing libraries\n"
     ]
    },
    {
     "data": {
      "text/html": [
       "        <script type=\"text/javascript\">\n",
       "        window.PlotlyConfig = {MathJaxConfig: 'local'};\n",
       "        if (window.MathJax) {MathJax.Hub.Config({SVG: {font: \"STIX-Web\"}});}\n",
       "        if (typeof require !== 'undefined') {\n",
       "        require.undef(\"plotly\");\n",
       "        requirejs.config({\n",
       "            paths: {\n",
       "                'plotly': ['https://cdn.plot.ly/plotly-latest.min']\n",
       "            }\n",
       "        });\n",
       "        require(['plotly'], function(Plotly) {\n",
       "            window._Plotly = Plotly;\n",
       "        });\n",
       "        }\n",
       "        </script>\n",
       "        "
      ]
     },
     "metadata": {},
     "output_type": "display_data"
    },
    {
     "name": "stderr",
     "output_type": "stream",
     "text": [
      "INFO:logs:plot type: tsne\n",
      "INFO:logs:SubProcess assign_model() called ==================================\n",
      "INFO:logs:Initializing assign_model()\n",
      "INFO:logs:assign_model(model=AgglomerativeClustering(affinity='euclidean', compute_full_tree='auto',\n",
      "                        connectivity=None, distance_threshold=None,\n",
      "                        linkage='ward', memory=None, n_clusters=4), transformation=True, verbose=False)\n",
      "INFO:logs:Checking exceptions\n",
      "INFO:logs:Preloading libraries\n",
      "INFO:logs:Copying data\n",
      "INFO:logs:Transformation param set to True. Assigned clusters are attached on transformed dataset.\n",
      "INFO:logs:Preparing display monitor\n",
      "INFO:logs:Determining Trained Model\n",
      "INFO:logs:Trained Model : Agglomerative Clustering\n",
      "INFO:logs:(150, 5)\n",
      "INFO:logs:assign_model() succesfully completed......................................\n",
      "INFO:logs:SubProcess assign_model() end ==================================\n",
      "INFO:logs:Fitting TSNE()\n",
      "INFO:logs:Sorting dataframe\n",
      "INFO:logs:Rendering Visual\n"
     ]
    },
    {
     "data": {
      "application/vnd.plotly.v1+json": {
       "config": {
        "plotlyServerURL": "https://plot.ly"
       },
       "data": [
        {
         "customdata": [
          [
           6.3
          ],
          [
           6.4
          ],
          [
           7.2
          ],
          [
           7.4
          ],
          [
           7.9
          ],
          [
           6.4
          ],
          [
           7.7
          ],
          [
           6.3
          ],
          [
           6.4
          ],
          [
           6.9
          ],
          [
           6.7
          ],
          [
           6.9
          ],
          [
           6.8
          ],
          [
           6.7
          ],
          [
           6.7
          ],
          [
           6.5
          ],
          [
           6.7
          ],
          [
           6.2
          ],
          [
           7.2
          ],
          [
           6.7
          ],
          [
           7.1
          ],
          [
           6.3
          ],
          [
           6.5
          ],
          [
           7.6
          ],
          [
           7.3
          ],
          [
           7.7
          ],
          [
           7.2
          ],
          [
           6.5
          ],
          [
           6.7
          ],
          [
           6.8
          ],
          [
           6.4
          ],
          [
           6.5
          ],
          [
           7.7
          ],
          [
           7.7
          ],
          [
           6.9
          ],
          [
           6.4
          ]
         ],
         "hovertemplate": "Cluster=Cluster 0<br>0=%{x}<br>1=%{y}<br>2=%{z}<br>Feature=%{customdata[0]}<extra></extra>",
         "legendgroup": "Cluster 0",
         "marker": {
          "color": "#636efa",
          "opacity": 0.7,
          "symbol": "circle"
         },
         "mode": "markers",
         "name": "Cluster 0",
         "scene": "scene",
         "showlegend": true,
         "type": "scatter3d",
         "x": [
          119.07208251953125,
          -23.6617488861084,
          163.12322998046875,
          -153.02403259277344,
          2.1451056003570557,
          161.32318115234375,
          66.47911071777344,
          80.60624694824219,
          106.32665252685547,
          132.419921875,
          -161.5593719482422,
          105.73836517333984,
          166.51907348632812,
          97.389404296875,
          57.39936447143555,
          65.05609893798828,
          98.67711639404297,
          56.257869720458984,
          66.62586975097656,
          128.68569946289062,
          -110.46055603027344,
          134.69143676757812,
          117.93626403808594,
          27.03322410583496,
          42.49054718017578,
          123.35490417480469,
          126.16557312011719,
          -117.38528442382812,
          160.36143493652344,
          125.49284362792969,
          120.09909057617188,
          120.012451171875,
          5.37523889541626,
          57.8258056640625,
          140.34950256347656,
          75.36749267578125
         ],
         "y": [
          152.5291290283203,
          -15.971287727355957,
          18.812286376953125,
          -10.021985054016113,
          167.78211975097656,
          16.05374526977539,
          166.79156494140625,
          102.02532196044922,
          21.41737937927246,
          54.26816177368164,
          58.34915542602539,
          27.27889633178711,
          73.62906646728516,
          116.14291381835938,
          58.310455322265625,
          36.98651123046875,
          73.88348388671875,
          90.76190948486328,
          150.001953125,
          -23.063051223754883,
          -25.082782745361328,
          -39.82685089111328,
          90.6507339477539,
          161.31126403808594,
          139.97503662109375,
          85.15351104736328,
          120.98237609863281,
          40.916080474853516,
          51.75914764404297,
          61.90449905395508,
          10.720730781555176,
          -10.739546775817871,
          125.61621856689453,
          128.3295135498047,
          105.90544128417969,
          46.86844253540039
         ],
         "z": [
          -1.5624710321426392,
          192.7642059326172,
          37.583343505859375,
          -107.61735534667969,
          11.215864181518555,
          -33.4759521484375,
          27.45604705810547,
          24.92580795288086,
          -46.556236267089844,
          -23.890830993652344,
          -15.379793167114258,
          6.335307598114014,
          1.669360637664795,
          -18.962621688842773,
          13.37539005279541,
          -30.68062400817871,
          -6.873927593231201,
          -30.8370304107666,
          -47.61857604980469,
          -7.469372749328613,
          177.5420379638672,
          49.75719451904297,
          -56.43974304199219,
          55.895484924316406,
          -6.115849018096924,
          -117.74601745605469,
          46.15711975097656,
          -54.7813606262207,
          -73.94589233398438,
          30.38207244873047,
          -91.18022918701172,
          97.09530639648438,
          28.347318649291992,
          69.74010467529297,
          -10.035371780395508,
          -77.08682250976562
         ]
        },
        {
         "customdata": [
          [
           5.1
          ],
          [
           5.3
          ],
          [
           4.6
          ],
          [
           5.1
          ],
          [
           4.8
          ],
          [
           5
          ],
          [
           5.1
          ],
          [
           4.5
          ],
          [
           4.4
          ],
          [
           5.4
          ],
          [
           5.1
          ],
          [
           5.7
          ],
          [
           5.1
          ],
          [
           5.4
          ],
          [
           5.7
          ],
          [
           5.8
          ],
          [
           4.3
          ],
          [
           4.8
          ],
          [
           4.8
          ],
          [
           5.4
          ],
          [
           4.9
          ],
          [
           4.4
          ],
          [
           5
          ],
          [
           4.6
          ],
          [
           5.4
          ],
          [
           5
          ],
          [
           4.6
          ],
          [
           4.7
          ],
          [
           4.9
          ],
          [
           5.1
          ],
          [
           4.6
          ],
          [
           5
          ],
          [
           4.8
          ],
          [
           5.2
          ],
          [
           5.1
          ],
          [
           5.4
          ],
          [
           4.8
          ],
          [
           5
          ],
          [
           4.7
          ],
          [
           4.9
          ],
          [
           5.5
          ],
          [
           4.9
          ],
          [
           5.2
          ],
          [
           5
          ],
          [
           4.4
          ],
          [
           5.1
          ],
          [
           5
          ],
          [
           5
          ],
          [
           5.2
          ],
          [
           5.5
          ]
         ],
         "hovertemplate": "Cluster=Cluster 1<br>0=%{x}<br>1=%{y}<br>2=%{z}<br>Feature=%{customdata[0]}<extra></extra>",
         "legendgroup": "Cluster 1",
         "marker": {
          "color": "#EF553B",
          "opacity": 0.7,
          "symbol": "circle"
         },
         "mode": "markers",
         "name": "Cluster 1",
         "scene": "scene",
         "showlegend": true,
         "type": "scatter3d",
         "x": [
          -58.06247329711914,
          43.69943618774414,
          -36.270755767822266,
          -28.66189956665039,
          -19.50716209411621,
          -27.36833953857422,
          -92.61211395263672,
          -120.6962890625,
          -12.71809196472168,
          -51.780914306640625,
          -71.67245483398438,
          5.820346832275391,
          -66.51641082763672,
          37.33812713623047,
          49.189231872558594,
          63.04401779174805,
          -114.75980377197266,
          12.072568893432617,
          51.72105026245117,
          -2.9421510696411133,
          -103.82711029052734,
          -69.09603118896484,
          19.995830535888672,
          -18.419172286987305,
          -112.88984680175781,
          -75.57941436767578,
          -69.27252197265625,
          -26.20018768310547,
          -51.86521530151367,
          162.60826110839844,
          -24.5362548828125,
          -86.77828979492188,
          -0.6308984756469727,
          51.076881408691406,
          -21.596498489379883,
          76.5645980834961,
          -33.89603042602539,
          -98.9974594116211,
          -74.62875366210938,
          -1.5440112352371216,
          32.44414138793945,
          -60.58525848388672,
          -89.36058044433594,
          -57.407203674316406,
          27.601436614990234,
          -104.66159057617188,
          -114.25843048095703,
          -17.527143478393555,
          -136.30091857910156,
          -170.219482421875
         ],
         "y": [
          -99.08451843261719,
          -20.661792755126953,
          -31.235490798950195,
          97.77086639404297,
          32.729522705078125,
          -88.12627410888672,
          94.01223754882812,
          -69.76387023925781,
          -89.7651138305664,
          -55.81196975708008,
          115.79916381835938,
          -113.85970306396484,
          62.933956146240234,
          -58.817054748535156,
          -119.42321014404297,
          -98.84901428222656,
          26.61507225036621,
          34.971954345703125,
          -58.0396728515625,
          -64.3740234375,
          -3.672983169555664,
          47.4490852355957,
          -14.938297271728516,
          56.1504020690918,
          102.6102066040039,
          18.960018157958984,
          -2.6943538188934326,
          12.36596965789795,
          -21.809200286865234,
          -77.30113983154297,
          -150.3267364501953,
          28.13916778564453,
          -42.60018539428711,
          -66.28015899658203,
          93.33660888671875,
          14.893218994140625,
          27.580957412719727,
          -16.423940658569336,
          -41.656158447265625,
          5.199933052062988,
          -6.353115081787109,
          11.114182472229004,
          -139.92324829101562,
          67.43714904785156,
          56.13095474243164,
          65.28360748291016,
          52.95753860473633,
          -9.61108112335205,
          34.88919448852539,
          -12.91352367401123
         ],
         "z": [
          102.76042938232422,
          111.88367462158203,
          36.69277572631836,
          142.7734375,
          143.17271423339844,
          61.834510803222656,
          106.98268127441406,
          91.49739837646484,
          175.77525329589844,
          140.99899291992188,
          54.23725891113281,
          117.24333953857422,
          130.44688415527344,
          147.050048828125,
          84.56608581542969,
          131.16383361816406,
          17.69047737121582,
          108.60621643066406,
          -149.81967163085938,
          118.6203842163086,
          62.86676788330078,
          25.785551071166992,
          -161.12060546875,
          45.949737548828125,
          12.570283889770508,
          148.0003204345703,
          23.724916458129883,
          37.51224899291992,
          94.71495819091797,
          -25.860414505004883,
          64.47941589355469,
          99.06259155273438,
          69.33561706542969,
          89.67249298095703,
          88.95699310302734,
          -160.55535888671875,
          95.99679565429688,
          112.02952575683594,
          59.36804962158203,
          74.32046508789062,
          161.3283233642578,
          66.7681655883789,
          20.650859832763672,
          79.41900634765625,
          68.15865325927734,
          69.7451400756836,
          130.16265869140625,
          119.59839630126953,
          87.06539154052734,
          6.719496726989746
         ]
        },
        {
         "customdata": [
          [
           5.8
          ],
          [
           6.3
          ],
          [
           5.8
          ],
          [
           5.8
          ],
          [
           6
          ],
          [
           5.6
          ],
          [
           6
          ],
          [
           6.3
          ],
          [
           6.1
          ],
          [
           6.2
          ],
          [
           6.3
          ],
          [
           5.7
          ],
          [
           6.1
          ],
          [
           6.4
          ],
          [
           6.1
          ],
          [
           6.6
          ],
          [
           6.3
          ],
          [
           6.1
          ],
          [
           5.9
          ],
          [
           6.2
          ],
          [
           6.7
          ],
          [
           6.8
          ],
          [
           6.1
          ],
          [
           6.6
          ],
          [
           6.3
          ],
          [
           6.5
          ],
          [
           6.9
          ],
          [
           6.4
          ],
          [
           7
          ],
          [
           5.9
          ],
          [
           6
          ],
          [
           5.9
          ],
          [
           6.3
          ],
          [
           6.2
          ],
          [
           6
          ],
          [
           6
          ],
          [
           6.7
          ],
          [
           6.1
          ]
         ],
         "hovertemplate": "Cluster=Cluster 2<br>0=%{x}<br>1=%{y}<br>2=%{z}<br>Feature=%{customdata[0]}<extra></extra>",
         "legendgroup": "Cluster 2",
         "marker": {
          "color": "#00cc96",
          "opacity": 0.7,
          "symbol": "circle"
         },
         "mode": "markers",
         "name": "Cluster 2",
         "scene": "scene",
         "showlegend": true,
         "type": "scatter3d",
         "x": [
          -94.74800872802734,
          35.801509857177734,
          -93.94891357421875,
          -65.95008087158203,
          85.90716552734375,
          -4.989310264587402,
          -25.152048110961914,
          -23.45060920715332,
          62.68925094604492,
          -60.11716842651367,
          -136.24058532714844,
          78.75609588623047,
          -124.67198181152344,
          50.592430114746094,
          26.797016143798828,
          68.92633056640625,
          17.44588851928711,
          11.594517707824707,
          -27.118364334106445,
          -16.564489364624023,
          -37.712303161621094,
          112.88787078857422,
          62.29408645629883,
          89.46904754638672,
          -26.5123233795166,
          47.39631652832031,
          92.76287841796875,
          52.36252975463867,
          82.91362762451172,
          40.56831741333008,
          10.719229698181152,
          7.389825344085693,
          -43.61066818237305,
          -17.202974319458008,
          22.129623413085938,
          72.00667572021484,
          4.801726341247559,
          -88.94483184814453
         ],
         "y": [
          -23.033294677734375,
          37.00100326538086,
          -83.96637725830078,
          37.424842834472656,
          43.35216522216797,
          25.19163703918457,
          80.19052124023438,
          18.431320190429688,
          93.3596420288086,
          95.97162628173828,
          -35.753631591796875,
          -135.1100616455078,
          -67.11295318603516,
          -63.5797233581543,
          -17.453126907348633,
          -30.29176902770996,
          18.236440658569336,
          -94.44279479980469,
          75.71700286865234,
          -1.1005159616470337,
          84.442138671875,
          -50.651485443115234,
          -47.36122512817383,
          -67.19548034667969,
          124.79088592529297,
          2.7691609859466553,
          0.8669277429580688,
          -17.436725616455078,
          -19.269542694091797,
          -78.52081298828125,
          -36.781593322753906,
          60.69617462158203,
          27.188772201538086,
          30.308349609375,
          68.54984283447266,
          -113.04185485839844,
          103.24174499511719,
          4.017343044281006
         ],
         "z": [
          -14.37808609008789,
          -107.47116088867188,
          29.843456268310547,
          -29.54926109313965,
          106.41783142089844,
          -5.42351770401001,
          -11.950087547302246,
          -48.66133117675781,
          -104.31053924560547,
          -34.67243957519531,
          -51.17621612548828,
          5.070943355560303,
          -6.673366069793701,
          -83.34375762939453,
          -24.420944213867188,
          -56.66445541381836,
          -68.16143035888672,
          -58.913902282714844,
          -60.782840728759766,
          -97.5037612915039,
          -132.597900390625,
          -53.00309753417969,
          30.2935791015625,
          -14.522811889648438,
          -76.214599609375,
          16.040029525756836,
          46.6869010925293,
          -99.041015625,
          -11.187764167785645,
          -30.48333740234375,
          -61.51954650878906,
          -31.196626663208008,
          -96.58484649658203,
          -141.46063232421875,
          -73.33103942871094,
          -70.88319396972656,
          -117.16289520263672,
          -112.84861755371094
         ]
        },
        {
         "customdata": [
          [
           5
          ],
          [
           5.2
          ],
          [
           4.9
          ],
          [
           4.9
          ],
          [
           5
          ],
          [
           5.5
          ],
          [
           5.6
          ],
          [
           5.5
          ],
          [
           5.7
          ],
          [
           5.7
          ],
          [
           5.7
          ],
          [
           5.8
          ],
          [
           5.6
          ],
          [
           5.8
          ],
          [
           5.5
          ],
          [
           5.6
          ],
          [
           5.8
          ],
          [
           5.5
          ],
          [
           5.6
          ],
          [
           5.6
          ],
          [
           5.7
          ],
          [
           5.4
          ],
          [
           5.7
          ],
          [
           5.5
          ],
          [
           6
          ],
          [
           5.1
          ]
         ],
         "hovertemplate": "Cluster=Cluster 3<br>0=%{x}<br>1=%{y}<br>2=%{z}<br>Feature=%{customdata[0]}<extra></extra>",
         "legendgroup": "Cluster 3",
         "marker": {
          "color": "#ab63fa",
          "opacity": 0.7,
          "symbol": "circle"
         },
         "mode": "markers",
         "name": "Cluster 3",
         "scene": "scene",
         "showlegend": true,
         "type": "scatter3d",
         "x": [
          -80.25334930419922,
          -5.70793342590332,
          -28.375335693359375,
          -43.34882736206055,
          -71.7820816040039,
          -70.68852233886719,
          -81.76236724853516,
          -45.2594108581543,
          -41.23996353149414,
          -3.925631523132324,
          15.490281105041504,
          -34.37021255493164,
          -35.46475601196289,
          -9.481795310974121,
          -76.94609069824219,
          -82.86907958984375,
          22.974517822265625,
          8.655759811401367,
          -164.31068420410156,
          -37.3400764465332,
          -51.943973541259766,
          24.443716049194336,
          -22.11248207092285,
          -49.399227142333984,
          2.007319688796997,
          -24.340919494628906
         ],
         "y": [
          -27.755970001220703,
          -151.13795471191406,
          -172.76419067382812,
          -70.73420715332031,
          -99.28022003173828,
          -77.6395263671875,
          -114.10094451904297,
          -144.23324584960938,
          -87.23792266845703,
          -68.53820037841797,
          -48.82231140136719,
          -96.27079772949219,
          -54.400325775146484,
          -118.01497650146484,
          -71.9721450805664,
          71.39583587646484,
          -103.35514068603516,
          196.9389190673828,
          -37.26417922973633,
          -43.83634948730469,
          -27.830869674682617,
          -155.22943115234375,
          -66.09916687011719,
          -119.3309326171875,
          -101.13874816894531,
          -109.58253479003906
         ],
         "z": [
          -73.07518005371094,
          -86.74651336669922,
          -15.354148864746094,
          -170.36984252929688,
          -147.54116821289062,
          -103.07261657714844,
          -51.990966796875,
          -59.24879455566406,
          -5.379659175872803,
          -21.267711639404297,
          11.930216789245605,
          -57.14009475708008,
          -79.12743377685547,
          -21.055374145507812,
          -44.058326721191406,
          -89.24542999267578,
          14.712017059326172,
          -44.34444808959961,
          59.22077941894531,
          -28.91138458251953,
          -132.2230682373047,
          -34.76729202270508,
          -121.47333526611328,
          -101.64106750488281,
          -103.48328399658203,
          -153.11972045898438
         ]
        }
       ],
       "layout": {
        "height": 800,
        "legend": {
         "title": {
          "text": "Cluster"
         },
         "tracegroupgap": 0
        },
        "scene": {
         "domain": {
          "x": [
           0,
           1
          ],
          "y": [
           0,
           1
          ]
         },
         "xaxis": {
          "title": {
           "text": "0"
          }
         },
         "yaxis": {
          "title": {
           "text": "1"
          }
         },
         "zaxis": {
          "title": {
           "text": "2"
          }
         }
        },
        "template": {
         "data": {
          "bar": [
           {
            "error_x": {
             "color": "#2a3f5f"
            },
            "error_y": {
             "color": "#2a3f5f"
            },
            "marker": {
             "line": {
              "color": "#E5ECF6",
              "width": 0.5
             }
            },
            "type": "bar"
           }
          ],
          "barpolar": [
           {
            "marker": {
             "line": {
              "color": "#E5ECF6",
              "width": 0.5
             }
            },
            "type": "barpolar"
           }
          ],
          "carpet": [
           {
            "aaxis": {
             "endlinecolor": "#2a3f5f",
             "gridcolor": "white",
             "linecolor": "white",
             "minorgridcolor": "white",
             "startlinecolor": "#2a3f5f"
            },
            "baxis": {
             "endlinecolor": "#2a3f5f",
             "gridcolor": "white",
             "linecolor": "white",
             "minorgridcolor": "white",
             "startlinecolor": "#2a3f5f"
            },
            "type": "carpet"
           }
          ],
          "choropleth": [
           {
            "colorbar": {
             "outlinewidth": 0,
             "ticks": ""
            },
            "type": "choropleth"
           }
          ],
          "contour": [
           {
            "colorbar": {
             "outlinewidth": 0,
             "ticks": ""
            },
            "colorscale": [
             [
              0,
              "#0d0887"
             ],
             [
              0.1111111111111111,
              "#46039f"
             ],
             [
              0.2222222222222222,
              "#7201a8"
             ],
             [
              0.3333333333333333,
              "#9c179e"
             ],
             [
              0.4444444444444444,
              "#bd3786"
             ],
             [
              0.5555555555555556,
              "#d8576b"
             ],
             [
              0.6666666666666666,
              "#ed7953"
             ],
             [
              0.7777777777777778,
              "#fb9f3a"
             ],
             [
              0.8888888888888888,
              "#fdca26"
             ],
             [
              1,
              "#f0f921"
             ]
            ],
            "type": "contour"
           }
          ],
          "contourcarpet": [
           {
            "colorbar": {
             "outlinewidth": 0,
             "ticks": ""
            },
            "type": "contourcarpet"
           }
          ],
          "heatmap": [
           {
            "colorbar": {
             "outlinewidth": 0,
             "ticks": ""
            },
            "colorscale": [
             [
              0,
              "#0d0887"
             ],
             [
              0.1111111111111111,
              "#46039f"
             ],
             [
              0.2222222222222222,
              "#7201a8"
             ],
             [
              0.3333333333333333,
              "#9c179e"
             ],
             [
              0.4444444444444444,
              "#bd3786"
             ],
             [
              0.5555555555555556,
              "#d8576b"
             ],
             [
              0.6666666666666666,
              "#ed7953"
             ],
             [
              0.7777777777777778,
              "#fb9f3a"
             ],
             [
              0.8888888888888888,
              "#fdca26"
             ],
             [
              1,
              "#f0f921"
             ]
            ],
            "type": "heatmap"
           }
          ],
          "heatmapgl": [
           {
            "colorbar": {
             "outlinewidth": 0,
             "ticks": ""
            },
            "colorscale": [
             [
              0,
              "#0d0887"
             ],
             [
              0.1111111111111111,
              "#46039f"
             ],
             [
              0.2222222222222222,
              "#7201a8"
             ],
             [
              0.3333333333333333,
              "#9c179e"
             ],
             [
              0.4444444444444444,
              "#bd3786"
             ],
             [
              0.5555555555555556,
              "#d8576b"
             ],
             [
              0.6666666666666666,
              "#ed7953"
             ],
             [
              0.7777777777777778,
              "#fb9f3a"
             ],
             [
              0.8888888888888888,
              "#fdca26"
             ],
             [
              1,
              "#f0f921"
             ]
            ],
            "type": "heatmapgl"
           }
          ],
          "histogram": [
           {
            "marker": {
             "colorbar": {
              "outlinewidth": 0,
              "ticks": ""
             }
            },
            "type": "histogram"
           }
          ],
          "histogram2d": [
           {
            "colorbar": {
             "outlinewidth": 0,
             "ticks": ""
            },
            "colorscale": [
             [
              0,
              "#0d0887"
             ],
             [
              0.1111111111111111,
              "#46039f"
             ],
             [
              0.2222222222222222,
              "#7201a8"
             ],
             [
              0.3333333333333333,
              "#9c179e"
             ],
             [
              0.4444444444444444,
              "#bd3786"
             ],
             [
              0.5555555555555556,
              "#d8576b"
             ],
             [
              0.6666666666666666,
              "#ed7953"
             ],
             [
              0.7777777777777778,
              "#fb9f3a"
             ],
             [
              0.8888888888888888,
              "#fdca26"
             ],
             [
              1,
              "#f0f921"
             ]
            ],
            "type": "histogram2d"
           }
          ],
          "histogram2dcontour": [
           {
            "colorbar": {
             "outlinewidth": 0,
             "ticks": ""
            },
            "colorscale": [
             [
              0,
              "#0d0887"
             ],
             [
              0.1111111111111111,
              "#46039f"
             ],
             [
              0.2222222222222222,
              "#7201a8"
             ],
             [
              0.3333333333333333,
              "#9c179e"
             ],
             [
              0.4444444444444444,
              "#bd3786"
             ],
             [
              0.5555555555555556,
              "#d8576b"
             ],
             [
              0.6666666666666666,
              "#ed7953"
             ],
             [
              0.7777777777777778,
              "#fb9f3a"
             ],
             [
              0.8888888888888888,
              "#fdca26"
             ],
             [
              1,
              "#f0f921"
             ]
            ],
            "type": "histogram2dcontour"
           }
          ],
          "mesh3d": [
           {
            "colorbar": {
             "outlinewidth": 0,
             "ticks": ""
            },
            "type": "mesh3d"
           }
          ],
          "parcoords": [
           {
            "line": {
             "colorbar": {
              "outlinewidth": 0,
              "ticks": ""
             }
            },
            "type": "parcoords"
           }
          ],
          "pie": [
           {
            "automargin": true,
            "type": "pie"
           }
          ],
          "scatter": [
           {
            "marker": {
             "colorbar": {
              "outlinewidth": 0,
              "ticks": ""
             }
            },
            "type": "scatter"
           }
          ],
          "scatter3d": [
           {
            "line": {
             "colorbar": {
              "outlinewidth": 0,
              "ticks": ""
             }
            },
            "marker": {
             "colorbar": {
              "outlinewidth": 0,
              "ticks": ""
             }
            },
            "type": "scatter3d"
           }
          ],
          "scattercarpet": [
           {
            "marker": {
             "colorbar": {
              "outlinewidth": 0,
              "ticks": ""
             }
            },
            "type": "scattercarpet"
           }
          ],
          "scattergeo": [
           {
            "marker": {
             "colorbar": {
              "outlinewidth": 0,
              "ticks": ""
             }
            },
            "type": "scattergeo"
           }
          ],
          "scattergl": [
           {
            "marker": {
             "colorbar": {
              "outlinewidth": 0,
              "ticks": ""
             }
            },
            "type": "scattergl"
           }
          ],
          "scattermapbox": [
           {
            "marker": {
             "colorbar": {
              "outlinewidth": 0,
              "ticks": ""
             }
            },
            "type": "scattermapbox"
           }
          ],
          "scatterpolar": [
           {
            "marker": {
             "colorbar": {
              "outlinewidth": 0,
              "ticks": ""
             }
            },
            "type": "scatterpolar"
           }
          ],
          "scatterpolargl": [
           {
            "marker": {
             "colorbar": {
              "outlinewidth": 0,
              "ticks": ""
             }
            },
            "type": "scatterpolargl"
           }
          ],
          "scatterternary": [
           {
            "marker": {
             "colorbar": {
              "outlinewidth": 0,
              "ticks": ""
             }
            },
            "type": "scatterternary"
           }
          ],
          "surface": [
           {
            "colorbar": {
             "outlinewidth": 0,
             "ticks": ""
            },
            "colorscale": [
             [
              0,
              "#0d0887"
             ],
             [
              0.1111111111111111,
              "#46039f"
             ],
             [
              0.2222222222222222,
              "#7201a8"
             ],
             [
              0.3333333333333333,
              "#9c179e"
             ],
             [
              0.4444444444444444,
              "#bd3786"
             ],
             [
              0.5555555555555556,
              "#d8576b"
             ],
             [
              0.6666666666666666,
              "#ed7953"
             ],
             [
              0.7777777777777778,
              "#fb9f3a"
             ],
             [
              0.8888888888888888,
              "#fdca26"
             ],
             [
              1,
              "#f0f921"
             ]
            ],
            "type": "surface"
           }
          ],
          "table": [
           {
            "cells": {
             "fill": {
              "color": "#EBF0F8"
             },
             "line": {
              "color": "white"
             }
            },
            "header": {
             "fill": {
              "color": "#C8D4E3"
             },
             "line": {
              "color": "white"
             }
            },
            "type": "table"
           }
          ]
         },
         "layout": {
          "annotationdefaults": {
           "arrowcolor": "#2a3f5f",
           "arrowhead": 0,
           "arrowwidth": 1
          },
          "coloraxis": {
           "colorbar": {
            "outlinewidth": 0,
            "ticks": ""
           }
          },
          "colorscale": {
           "diverging": [
            [
             0,
             "#8e0152"
            ],
            [
             0.1,
             "#c51b7d"
            ],
            [
             0.2,
             "#de77ae"
            ],
            [
             0.3,
             "#f1b6da"
            ],
            [
             0.4,
             "#fde0ef"
            ],
            [
             0.5,
             "#f7f7f7"
            ],
            [
             0.6,
             "#e6f5d0"
            ],
            [
             0.7,
             "#b8e186"
            ],
            [
             0.8,
             "#7fbc41"
            ],
            [
             0.9,
             "#4d9221"
            ],
            [
             1,
             "#276419"
            ]
           ],
           "sequential": [
            [
             0,
             "#0d0887"
            ],
            [
             0.1111111111111111,
             "#46039f"
            ],
            [
             0.2222222222222222,
             "#7201a8"
            ],
            [
             0.3333333333333333,
             "#9c179e"
            ],
            [
             0.4444444444444444,
             "#bd3786"
            ],
            [
             0.5555555555555556,
             "#d8576b"
            ],
            [
             0.6666666666666666,
             "#ed7953"
            ],
            [
             0.7777777777777778,
             "#fb9f3a"
            ],
            [
             0.8888888888888888,
             "#fdca26"
            ],
            [
             1,
             "#f0f921"
            ]
           ],
           "sequentialminus": [
            [
             0,
             "#0d0887"
            ],
            [
             0.1111111111111111,
             "#46039f"
            ],
            [
             0.2222222222222222,
             "#7201a8"
            ],
            [
             0.3333333333333333,
             "#9c179e"
            ],
            [
             0.4444444444444444,
             "#bd3786"
            ],
            [
             0.5555555555555556,
             "#d8576b"
            ],
            [
             0.6666666666666666,
             "#ed7953"
            ],
            [
             0.7777777777777778,
             "#fb9f3a"
            ],
            [
             0.8888888888888888,
             "#fdca26"
            ],
            [
             1,
             "#f0f921"
            ]
           ]
          },
          "colorway": [
           "#636efa",
           "#EF553B",
           "#00cc96",
           "#ab63fa",
           "#FFA15A",
           "#19d3f3",
           "#FF6692",
           "#B6E880",
           "#FF97FF",
           "#FECB52"
          ],
          "font": {
           "color": "#2a3f5f"
          },
          "geo": {
           "bgcolor": "white",
           "lakecolor": "white",
           "landcolor": "#E5ECF6",
           "showlakes": true,
           "showland": true,
           "subunitcolor": "white"
          },
          "hoverlabel": {
           "align": "left"
          },
          "hovermode": "closest",
          "mapbox": {
           "style": "light"
          },
          "paper_bgcolor": "white",
          "plot_bgcolor": "#E5ECF6",
          "polar": {
           "angularaxis": {
            "gridcolor": "white",
            "linecolor": "white",
            "ticks": ""
           },
           "bgcolor": "#E5ECF6",
           "radialaxis": {
            "gridcolor": "white",
            "linecolor": "white",
            "ticks": ""
           }
          },
          "scene": {
           "xaxis": {
            "backgroundcolor": "#E5ECF6",
            "gridcolor": "white",
            "gridwidth": 2,
            "linecolor": "white",
            "showbackground": true,
            "ticks": "",
            "zerolinecolor": "white"
           },
           "yaxis": {
            "backgroundcolor": "#E5ECF6",
            "gridcolor": "white",
            "gridwidth": 2,
            "linecolor": "white",
            "showbackground": true,
            "ticks": "",
            "zerolinecolor": "white"
           },
           "zaxis": {
            "backgroundcolor": "#E5ECF6",
            "gridcolor": "white",
            "gridwidth": 2,
            "linecolor": "white",
            "showbackground": true,
            "ticks": "",
            "zerolinecolor": "white"
           }
          },
          "shapedefaults": {
           "line": {
            "color": "#2a3f5f"
           }
          },
          "ternary": {
           "aaxis": {
            "gridcolor": "white",
            "linecolor": "white",
            "ticks": ""
           },
           "baxis": {
            "gridcolor": "white",
            "linecolor": "white",
            "ticks": ""
           },
           "bgcolor": "#E5ECF6",
           "caxis": {
            "gridcolor": "white",
            "linecolor": "white",
            "ticks": ""
           }
          },
          "title": {
           "x": 0.05
          },
          "xaxis": {
           "automargin": true,
           "gridcolor": "white",
           "linecolor": "white",
           "ticks": "",
           "title": {
            "standoff": 15
           },
           "zerolinecolor": "white",
           "zerolinewidth": 2
          },
          "yaxis": {
           "automargin": true,
           "gridcolor": "white",
           "linecolor": "white",
           "ticks": "",
           "title": {
            "standoff": 15
           },
           "zerolinecolor": "white",
           "zerolinewidth": 2
          }
         }
        },
        "title": {
         "text": "3d TSNE Plot for Clusters"
        },
        "width": 900
       }
      },
      "text/html": [
       "<div>                            <div id=\"e1baaebb-77f3-45d6-998d-a658663952b1\" class=\"plotly-graph-div\" style=\"height:800px; width:900px;\"></div>            <script type=\"text/javascript\">                require([\"plotly\"], function(Plotly) {                    window.PLOTLYENV=window.PLOTLYENV || {};                                    if (document.getElementById(\"e1baaebb-77f3-45d6-998d-a658663952b1\")) {                    Plotly.newPlot(                        \"e1baaebb-77f3-45d6-998d-a658663952b1\",                        [{\"customdata\": [[6.3], [6.4], [7.2], [7.4], [7.9], [6.4], [7.7], [6.3], [6.4], [6.9], [6.7], [6.9], [6.8], [6.7], [6.7], [6.5], [6.7], [6.2], [7.2], [6.7], [7.1], [6.3], [6.5], [7.6], [7.3], [7.7], [7.2], [6.5], [6.7], [6.8], [6.4], [6.5], [7.7], [7.7], [6.9], [6.4]], \"hovertemplate\": \"Cluster=Cluster 0<br>0=%{x}<br>1=%{y}<br>2=%{z}<br>Feature=%{customdata[0]}<extra></extra>\", \"legendgroup\": \"Cluster 0\", \"marker\": {\"color\": \"#636efa\", \"opacity\": 0.7, \"symbol\": \"circle\"}, \"mode\": \"markers\", \"name\": \"Cluster 0\", \"scene\": \"scene\", \"showlegend\": true, \"type\": \"scatter3d\", \"x\": [119.07208251953125, -23.6617488861084, 163.12322998046875, -153.02403259277344, 2.1451056003570557, 161.32318115234375, 66.47911071777344, 80.60624694824219, 106.32665252685547, 132.419921875, -161.5593719482422, 105.73836517333984, 166.51907348632812, 97.389404296875, 57.39936447143555, 65.05609893798828, 98.67711639404297, 56.257869720458984, 66.62586975097656, 128.68569946289062, -110.46055603027344, 134.69143676757812, 117.93626403808594, 27.03322410583496, 42.49054718017578, 123.35490417480469, 126.16557312011719, -117.38528442382812, 160.36143493652344, 125.49284362792969, 120.09909057617188, 120.012451171875, 5.37523889541626, 57.8258056640625, 140.34950256347656, 75.36749267578125], \"y\": [152.5291290283203, -15.971287727355957, 18.812286376953125, -10.021985054016113, 167.78211975097656, 16.05374526977539, 166.79156494140625, 102.02532196044922, 21.41737937927246, 54.26816177368164, 58.34915542602539, 27.27889633178711, 73.62906646728516, 116.14291381835938, 58.310455322265625, 36.98651123046875, 73.88348388671875, 90.76190948486328, 150.001953125, -23.063051223754883, -25.082782745361328, -39.82685089111328, 90.6507339477539, 161.31126403808594, 139.97503662109375, 85.15351104736328, 120.98237609863281, 40.916080474853516, 51.75914764404297, 61.90449905395508, 10.720730781555176, -10.739546775817871, 125.61621856689453, 128.3295135498047, 105.90544128417969, 46.86844253540039], \"z\": [-1.5624710321426392, 192.7642059326172, 37.583343505859375, -107.61735534667969, 11.215864181518555, -33.4759521484375, 27.45604705810547, 24.92580795288086, -46.556236267089844, -23.890830993652344, -15.379793167114258, 6.335307598114014, 1.669360637664795, -18.962621688842773, 13.37539005279541, -30.68062400817871, -6.873927593231201, -30.8370304107666, -47.61857604980469, -7.469372749328613, 177.5420379638672, 49.75719451904297, -56.43974304199219, 55.895484924316406, -6.115849018096924, -117.74601745605469, 46.15711975097656, -54.7813606262207, -73.94589233398438, 30.38207244873047, -91.18022918701172, 97.09530639648438, 28.347318649291992, 69.74010467529297, -10.035371780395508, -77.08682250976562]}, {\"customdata\": [[5.1], [5.3], [4.6], [5.1], [4.8], [5.0], [5.1], [4.5], [4.4], [5.4], [5.1], [5.7], [5.1], [5.4], [5.7], [5.8], [4.3], [4.8], [4.8], [5.4], [4.9], [4.4], [5.0], [4.6], [5.4], [5.0], [4.6], [4.7], [4.9], [5.1], [4.6], [5.0], [4.8], [5.2], [5.1], [5.4], [4.8], [5.0], [4.7], [4.9], [5.5], [4.9], [5.2], [5.0], [4.4], [5.1], [5.0], [5.0], [5.2], [5.5]], \"hovertemplate\": \"Cluster=Cluster 1<br>0=%{x}<br>1=%{y}<br>2=%{z}<br>Feature=%{customdata[0]}<extra></extra>\", \"legendgroup\": \"Cluster 1\", \"marker\": {\"color\": \"#EF553B\", \"opacity\": 0.7, \"symbol\": \"circle\"}, \"mode\": \"markers\", \"name\": \"Cluster 1\", \"scene\": \"scene\", \"showlegend\": true, \"type\": \"scatter3d\", \"x\": [-58.06247329711914, 43.69943618774414, -36.270755767822266, -28.66189956665039, -19.50716209411621, -27.36833953857422, -92.61211395263672, -120.6962890625, -12.71809196472168, -51.780914306640625, -71.67245483398438, 5.820346832275391, -66.51641082763672, 37.33812713623047, 49.189231872558594, 63.04401779174805, -114.75980377197266, 12.072568893432617, 51.72105026245117, -2.9421510696411133, -103.82711029052734, -69.09603118896484, 19.995830535888672, -18.419172286987305, -112.88984680175781, -75.57941436767578, -69.27252197265625, -26.20018768310547, -51.86521530151367, 162.60826110839844, -24.5362548828125, -86.77828979492188, -0.6308984756469727, 51.076881408691406, -21.596498489379883, 76.5645980834961, -33.89603042602539, -98.9974594116211, -74.62875366210938, -1.5440112352371216, 32.44414138793945, -60.58525848388672, -89.36058044433594, -57.407203674316406, 27.601436614990234, -104.66159057617188, -114.25843048095703, -17.527143478393555, -136.30091857910156, -170.219482421875], \"y\": [-99.08451843261719, -20.661792755126953, -31.235490798950195, 97.77086639404297, 32.729522705078125, -88.12627410888672, 94.01223754882812, -69.76387023925781, -89.7651138305664, -55.81196975708008, 115.79916381835938, -113.85970306396484, 62.933956146240234, -58.817054748535156, -119.42321014404297, -98.84901428222656, 26.61507225036621, 34.971954345703125, -58.0396728515625, -64.3740234375, -3.672983169555664, 47.4490852355957, -14.938297271728516, 56.1504020690918, 102.6102066040039, 18.960018157958984, -2.6943538188934326, 12.36596965789795, -21.809200286865234, -77.30113983154297, -150.3267364501953, 28.13916778564453, -42.60018539428711, -66.28015899658203, 93.33660888671875, 14.893218994140625, 27.580957412719727, -16.423940658569336, -41.656158447265625, 5.199933052062988, -6.353115081787109, 11.114182472229004, -139.92324829101562, 67.43714904785156, 56.13095474243164, 65.28360748291016, 52.95753860473633, -9.61108112335205, 34.88919448852539, -12.91352367401123], \"z\": [102.76042938232422, 111.88367462158203, 36.69277572631836, 142.7734375, 143.17271423339844, 61.834510803222656, 106.98268127441406, 91.49739837646484, 175.77525329589844, 140.99899291992188, 54.23725891113281, 117.24333953857422, 130.44688415527344, 147.050048828125, 84.56608581542969, 131.16383361816406, 17.69047737121582, 108.60621643066406, -149.81967163085938, 118.6203842163086, 62.86676788330078, 25.785551071166992, -161.12060546875, 45.949737548828125, 12.570283889770508, 148.0003204345703, 23.724916458129883, 37.51224899291992, 94.71495819091797, -25.860414505004883, 64.47941589355469, 99.06259155273438, 69.33561706542969, 89.67249298095703, 88.95699310302734, -160.55535888671875, 95.99679565429688, 112.02952575683594, 59.36804962158203, 74.32046508789062, 161.3283233642578, 66.7681655883789, 20.650859832763672, 79.41900634765625, 68.15865325927734, 69.7451400756836, 130.16265869140625, 119.59839630126953, 87.06539154052734, 6.719496726989746]}, {\"customdata\": [[5.8], [6.3], [5.8], [5.8], [6.0], [5.6], [6.0], [6.3], [6.1], [6.2], [6.3], [5.7], [6.1], [6.4], [6.1], [6.6], [6.3], [6.1], [5.9], [6.2], [6.7], [6.8], [6.1], [6.6], [6.3], [6.5], [6.9], [6.4], [7.0], [5.9], [6.0], [5.9], [6.3], [6.2], [6.0], [6.0], [6.7], [6.1]], \"hovertemplate\": \"Cluster=Cluster 2<br>0=%{x}<br>1=%{y}<br>2=%{z}<br>Feature=%{customdata[0]}<extra></extra>\", \"legendgroup\": \"Cluster 2\", \"marker\": {\"color\": \"#00cc96\", \"opacity\": 0.7, \"symbol\": \"circle\"}, \"mode\": \"markers\", \"name\": \"Cluster 2\", \"scene\": \"scene\", \"showlegend\": true, \"type\": \"scatter3d\", \"x\": [-94.74800872802734, 35.801509857177734, -93.94891357421875, -65.95008087158203, 85.90716552734375, -4.989310264587402, -25.152048110961914, -23.45060920715332, 62.68925094604492, -60.11716842651367, -136.24058532714844, 78.75609588623047, -124.67198181152344, 50.592430114746094, 26.797016143798828, 68.92633056640625, 17.44588851928711, 11.594517707824707, -27.118364334106445, -16.564489364624023, -37.712303161621094, 112.88787078857422, 62.29408645629883, 89.46904754638672, -26.5123233795166, 47.39631652832031, 92.76287841796875, 52.36252975463867, 82.91362762451172, 40.56831741333008, 10.719229698181152, 7.389825344085693, -43.61066818237305, -17.202974319458008, 22.129623413085938, 72.00667572021484, 4.801726341247559, -88.94483184814453], \"y\": [-23.033294677734375, 37.00100326538086, -83.96637725830078, 37.424842834472656, 43.35216522216797, 25.19163703918457, 80.19052124023438, 18.431320190429688, 93.3596420288086, 95.97162628173828, -35.753631591796875, -135.1100616455078, -67.11295318603516, -63.5797233581543, -17.453126907348633, -30.29176902770996, 18.236440658569336, -94.44279479980469, 75.71700286865234, -1.1005159616470337, 84.442138671875, -50.651485443115234, -47.36122512817383, -67.19548034667969, 124.79088592529297, 2.7691609859466553, 0.8669277429580688, -17.436725616455078, -19.269542694091797, -78.52081298828125, -36.781593322753906, 60.69617462158203, 27.188772201538086, 30.308349609375, 68.54984283447266, -113.04185485839844, 103.24174499511719, 4.017343044281006], \"z\": [-14.37808609008789, -107.47116088867188, 29.843456268310547, -29.54926109313965, 106.41783142089844, -5.42351770401001, -11.950087547302246, -48.66133117675781, -104.31053924560547, -34.67243957519531, -51.17621612548828, 5.070943355560303, -6.673366069793701, -83.34375762939453, -24.420944213867188, -56.66445541381836, -68.16143035888672, -58.913902282714844, -60.782840728759766, -97.5037612915039, -132.597900390625, -53.00309753417969, 30.2935791015625, -14.522811889648438, -76.214599609375, 16.040029525756836, 46.6869010925293, -99.041015625, -11.187764167785645, -30.48333740234375, -61.51954650878906, -31.196626663208008, -96.58484649658203, -141.46063232421875, -73.33103942871094, -70.88319396972656, -117.16289520263672, -112.84861755371094]}, {\"customdata\": [[5.0], [5.2], [4.9], [4.9], [5.0], [5.5], [5.6], [5.5], [5.7], [5.7], [5.7], [5.8], [5.6], [5.8], [5.5], [5.6], [5.8], [5.5], [5.6], [5.6], [5.7], [5.4], [5.7], [5.5], [6.0], [5.1]], \"hovertemplate\": \"Cluster=Cluster 3<br>0=%{x}<br>1=%{y}<br>2=%{z}<br>Feature=%{customdata[0]}<extra></extra>\", \"legendgroup\": \"Cluster 3\", \"marker\": {\"color\": \"#ab63fa\", \"opacity\": 0.7, \"symbol\": \"circle\"}, \"mode\": \"markers\", \"name\": \"Cluster 3\", \"scene\": \"scene\", \"showlegend\": true, \"type\": \"scatter3d\", \"x\": [-80.25334930419922, -5.70793342590332, -28.375335693359375, -43.34882736206055, -71.7820816040039, -70.68852233886719, -81.76236724853516, -45.2594108581543, -41.23996353149414, -3.925631523132324, 15.490281105041504, -34.37021255493164, -35.46475601196289, -9.481795310974121, -76.94609069824219, -82.86907958984375, 22.974517822265625, 8.655759811401367, -164.31068420410156, -37.3400764465332, -51.943973541259766, 24.443716049194336, -22.11248207092285, -49.399227142333984, 2.007319688796997, -24.340919494628906], \"y\": [-27.755970001220703, -151.13795471191406, -172.76419067382812, -70.73420715332031, -99.28022003173828, -77.6395263671875, -114.10094451904297, -144.23324584960938, -87.23792266845703, -68.53820037841797, -48.82231140136719, -96.27079772949219, -54.400325775146484, -118.01497650146484, -71.9721450805664, 71.39583587646484, -103.35514068603516, 196.9389190673828, -37.26417922973633, -43.83634948730469, -27.830869674682617, -155.22943115234375, -66.09916687011719, -119.3309326171875, -101.13874816894531, -109.58253479003906], \"z\": [-73.07518005371094, -86.74651336669922, -15.354148864746094, -170.36984252929688, -147.54116821289062, -103.07261657714844, -51.990966796875, -59.24879455566406, -5.379659175872803, -21.267711639404297, 11.930216789245605, -57.14009475708008, -79.12743377685547, -21.055374145507812, -44.058326721191406, -89.24542999267578, 14.712017059326172, -44.34444808959961, 59.22077941894531, -28.91138458251953, -132.2230682373047, -34.76729202270508, -121.47333526611328, -101.64106750488281, -103.48328399658203, -153.11972045898438]}],                        {\"height\": 800, \"legend\": {\"title\": {\"text\": \"Cluster\"}, \"tracegroupgap\": 0}, \"scene\": {\"domain\": {\"x\": [0.0, 1.0], \"y\": [0.0, 1.0]}, \"xaxis\": {\"title\": {\"text\": \"0\"}}, \"yaxis\": {\"title\": {\"text\": \"1\"}}, \"zaxis\": {\"title\": {\"text\": \"2\"}}}, \"template\": {\"data\": {\"bar\": [{\"error_x\": {\"color\": \"#2a3f5f\"}, \"error_y\": {\"color\": \"#2a3f5f\"}, \"marker\": {\"line\": {\"color\": \"#E5ECF6\", \"width\": 0.5}}, \"type\": \"bar\"}], \"barpolar\": [{\"marker\": {\"line\": {\"color\": \"#E5ECF6\", \"width\": 0.5}}, \"type\": \"barpolar\"}], \"carpet\": [{\"aaxis\": {\"endlinecolor\": \"#2a3f5f\", \"gridcolor\": \"white\", \"linecolor\": \"white\", \"minorgridcolor\": \"white\", \"startlinecolor\": \"#2a3f5f\"}, \"baxis\": {\"endlinecolor\": \"#2a3f5f\", \"gridcolor\": \"white\", \"linecolor\": \"white\", \"minorgridcolor\": \"white\", \"startlinecolor\": \"#2a3f5f\"}, \"type\": \"carpet\"}], \"choropleth\": [{\"colorbar\": {\"outlinewidth\": 0, \"ticks\": \"\"}, \"type\": \"choropleth\"}], \"contour\": [{\"colorbar\": {\"outlinewidth\": 0, \"ticks\": \"\"}, \"colorscale\": [[0.0, \"#0d0887\"], [0.1111111111111111, \"#46039f\"], [0.2222222222222222, \"#7201a8\"], [0.3333333333333333, \"#9c179e\"], [0.4444444444444444, \"#bd3786\"], [0.5555555555555556, \"#d8576b\"], [0.6666666666666666, \"#ed7953\"], [0.7777777777777778, \"#fb9f3a\"], [0.8888888888888888, \"#fdca26\"], [1.0, \"#f0f921\"]], \"type\": \"contour\"}], \"contourcarpet\": [{\"colorbar\": {\"outlinewidth\": 0, \"ticks\": \"\"}, \"type\": \"contourcarpet\"}], \"heatmap\": [{\"colorbar\": {\"outlinewidth\": 0, \"ticks\": \"\"}, \"colorscale\": [[0.0, \"#0d0887\"], [0.1111111111111111, \"#46039f\"], [0.2222222222222222, \"#7201a8\"], [0.3333333333333333, \"#9c179e\"], [0.4444444444444444, \"#bd3786\"], [0.5555555555555556, \"#d8576b\"], [0.6666666666666666, \"#ed7953\"], [0.7777777777777778, \"#fb9f3a\"], [0.8888888888888888, \"#fdca26\"], [1.0, \"#f0f921\"]], \"type\": \"heatmap\"}], \"heatmapgl\": [{\"colorbar\": {\"outlinewidth\": 0, \"ticks\": \"\"}, \"colorscale\": [[0.0, \"#0d0887\"], [0.1111111111111111, \"#46039f\"], [0.2222222222222222, \"#7201a8\"], [0.3333333333333333, \"#9c179e\"], [0.4444444444444444, \"#bd3786\"], [0.5555555555555556, \"#d8576b\"], [0.6666666666666666, \"#ed7953\"], [0.7777777777777778, \"#fb9f3a\"], [0.8888888888888888, \"#fdca26\"], [1.0, \"#f0f921\"]], \"type\": \"heatmapgl\"}], \"histogram\": [{\"marker\": {\"colorbar\": {\"outlinewidth\": 0, \"ticks\": \"\"}}, \"type\": \"histogram\"}], \"histogram2d\": [{\"colorbar\": {\"outlinewidth\": 0, \"ticks\": \"\"}, \"colorscale\": [[0.0, \"#0d0887\"], [0.1111111111111111, \"#46039f\"], [0.2222222222222222, \"#7201a8\"], [0.3333333333333333, \"#9c179e\"], [0.4444444444444444, \"#bd3786\"], [0.5555555555555556, \"#d8576b\"], [0.6666666666666666, \"#ed7953\"], [0.7777777777777778, \"#fb9f3a\"], [0.8888888888888888, \"#fdca26\"], [1.0, \"#f0f921\"]], \"type\": \"histogram2d\"}], \"histogram2dcontour\": [{\"colorbar\": {\"outlinewidth\": 0, \"ticks\": \"\"}, \"colorscale\": [[0.0, \"#0d0887\"], [0.1111111111111111, \"#46039f\"], [0.2222222222222222, \"#7201a8\"], [0.3333333333333333, \"#9c179e\"], [0.4444444444444444, \"#bd3786\"], [0.5555555555555556, \"#d8576b\"], [0.6666666666666666, \"#ed7953\"], [0.7777777777777778, \"#fb9f3a\"], [0.8888888888888888, \"#fdca26\"], [1.0, \"#f0f921\"]], \"type\": \"histogram2dcontour\"}], \"mesh3d\": [{\"colorbar\": {\"outlinewidth\": 0, \"ticks\": \"\"}, \"type\": \"mesh3d\"}], \"parcoords\": [{\"line\": {\"colorbar\": {\"outlinewidth\": 0, \"ticks\": \"\"}}, \"type\": \"parcoords\"}], \"pie\": [{\"automargin\": true, \"type\": \"pie\"}], \"scatter\": [{\"marker\": {\"colorbar\": {\"outlinewidth\": 0, \"ticks\": \"\"}}, \"type\": \"scatter\"}], \"scatter3d\": [{\"line\": {\"colorbar\": {\"outlinewidth\": 0, \"ticks\": \"\"}}, \"marker\": {\"colorbar\": {\"outlinewidth\": 0, \"ticks\": \"\"}}, \"type\": \"scatter3d\"}], \"scattercarpet\": [{\"marker\": {\"colorbar\": {\"outlinewidth\": 0, \"ticks\": \"\"}}, \"type\": \"scattercarpet\"}], \"scattergeo\": [{\"marker\": {\"colorbar\": {\"outlinewidth\": 0, \"ticks\": \"\"}}, \"type\": \"scattergeo\"}], \"scattergl\": [{\"marker\": {\"colorbar\": {\"outlinewidth\": 0, \"ticks\": \"\"}}, \"type\": \"scattergl\"}], \"scattermapbox\": [{\"marker\": {\"colorbar\": {\"outlinewidth\": 0, \"ticks\": \"\"}}, \"type\": \"scattermapbox\"}], \"scatterpolar\": [{\"marker\": {\"colorbar\": {\"outlinewidth\": 0, \"ticks\": \"\"}}, \"type\": \"scatterpolar\"}], \"scatterpolargl\": [{\"marker\": {\"colorbar\": {\"outlinewidth\": 0, \"ticks\": \"\"}}, \"type\": \"scatterpolargl\"}], \"scatterternary\": [{\"marker\": {\"colorbar\": {\"outlinewidth\": 0, \"ticks\": \"\"}}, \"type\": \"scatterternary\"}], \"surface\": [{\"colorbar\": {\"outlinewidth\": 0, \"ticks\": \"\"}, \"colorscale\": [[0.0, \"#0d0887\"], [0.1111111111111111, \"#46039f\"], [0.2222222222222222, \"#7201a8\"], [0.3333333333333333, \"#9c179e\"], [0.4444444444444444, \"#bd3786\"], [0.5555555555555556, \"#d8576b\"], [0.6666666666666666, \"#ed7953\"], [0.7777777777777778, \"#fb9f3a\"], [0.8888888888888888, \"#fdca26\"], [1.0, \"#f0f921\"]], \"type\": \"surface\"}], \"table\": [{\"cells\": {\"fill\": {\"color\": \"#EBF0F8\"}, \"line\": {\"color\": \"white\"}}, \"header\": {\"fill\": {\"color\": \"#C8D4E3\"}, \"line\": {\"color\": \"white\"}}, \"type\": \"table\"}]}, \"layout\": {\"annotationdefaults\": {\"arrowcolor\": \"#2a3f5f\", \"arrowhead\": 0, \"arrowwidth\": 1}, \"coloraxis\": {\"colorbar\": {\"outlinewidth\": 0, \"ticks\": \"\"}}, \"colorscale\": {\"diverging\": [[0, \"#8e0152\"], [0.1, \"#c51b7d\"], [0.2, \"#de77ae\"], [0.3, \"#f1b6da\"], [0.4, \"#fde0ef\"], [0.5, \"#f7f7f7\"], [0.6, \"#e6f5d0\"], [0.7, \"#b8e186\"], [0.8, \"#7fbc41\"], [0.9, \"#4d9221\"], [1, \"#276419\"]], \"sequential\": [[0.0, \"#0d0887\"], [0.1111111111111111, \"#46039f\"], [0.2222222222222222, \"#7201a8\"], [0.3333333333333333, \"#9c179e\"], [0.4444444444444444, \"#bd3786\"], [0.5555555555555556, \"#d8576b\"], [0.6666666666666666, \"#ed7953\"], [0.7777777777777778, \"#fb9f3a\"], [0.8888888888888888, \"#fdca26\"], [1.0, \"#f0f921\"]], \"sequentialminus\": [[0.0, \"#0d0887\"], [0.1111111111111111, \"#46039f\"], [0.2222222222222222, \"#7201a8\"], [0.3333333333333333, \"#9c179e\"], [0.4444444444444444, \"#bd3786\"], [0.5555555555555556, \"#d8576b\"], [0.6666666666666666, \"#ed7953\"], [0.7777777777777778, \"#fb9f3a\"], [0.8888888888888888, \"#fdca26\"], [1.0, \"#f0f921\"]]}, \"colorway\": [\"#636efa\", \"#EF553B\", \"#00cc96\", \"#ab63fa\", \"#FFA15A\", \"#19d3f3\", \"#FF6692\", \"#B6E880\", \"#FF97FF\", \"#FECB52\"], \"font\": {\"color\": \"#2a3f5f\"}, \"geo\": {\"bgcolor\": \"white\", \"lakecolor\": \"white\", \"landcolor\": \"#E5ECF6\", \"showlakes\": true, \"showland\": true, \"subunitcolor\": \"white\"}, \"hoverlabel\": {\"align\": \"left\"}, \"hovermode\": \"closest\", \"mapbox\": {\"style\": \"light\"}, \"paper_bgcolor\": \"white\", \"plot_bgcolor\": \"#E5ECF6\", \"polar\": {\"angularaxis\": {\"gridcolor\": \"white\", \"linecolor\": \"white\", \"ticks\": \"\"}, \"bgcolor\": \"#E5ECF6\", \"radialaxis\": {\"gridcolor\": \"white\", \"linecolor\": \"white\", \"ticks\": \"\"}}, \"scene\": {\"xaxis\": {\"backgroundcolor\": \"#E5ECF6\", \"gridcolor\": \"white\", \"gridwidth\": 2, \"linecolor\": \"white\", \"showbackground\": true, \"ticks\": \"\", \"zerolinecolor\": \"white\"}, \"yaxis\": {\"backgroundcolor\": \"#E5ECF6\", \"gridcolor\": \"white\", \"gridwidth\": 2, \"linecolor\": \"white\", \"showbackground\": true, \"ticks\": \"\", \"zerolinecolor\": \"white\"}, \"zaxis\": {\"backgroundcolor\": \"#E5ECF6\", \"gridcolor\": \"white\", \"gridwidth\": 2, \"linecolor\": \"white\", \"showbackground\": true, \"ticks\": \"\", \"zerolinecolor\": \"white\"}}, \"shapedefaults\": {\"line\": {\"color\": \"#2a3f5f\"}}, \"ternary\": {\"aaxis\": {\"gridcolor\": \"white\", \"linecolor\": \"white\", \"ticks\": \"\"}, \"baxis\": {\"gridcolor\": \"white\", \"linecolor\": \"white\", \"ticks\": \"\"}, \"bgcolor\": \"#E5ECF6\", \"caxis\": {\"gridcolor\": \"white\", \"linecolor\": \"white\", \"ticks\": \"\"}}, \"title\": {\"x\": 0.05}, \"xaxis\": {\"automargin\": true, \"gridcolor\": \"white\", \"linecolor\": \"white\", \"ticks\": \"\", \"title\": {\"standoff\": 15}, \"zerolinecolor\": \"white\", \"zerolinewidth\": 2}, \"yaxis\": {\"automargin\": true, \"gridcolor\": \"white\", \"linecolor\": \"white\", \"ticks\": \"\", \"title\": {\"standoff\": 15}, \"zerolinecolor\": \"white\", \"zerolinewidth\": 2}}}, \"title\": {\"text\": \"3d TSNE Plot for Clusters\"}, \"width\": 900},                        {\"responsive\": true}                    ).then(function(){\n",
       "                            \n",
       "var gd = document.getElementById('e1baaebb-77f3-45d6-998d-a658663952b1');\n",
       "var x = new MutationObserver(function (mutations, observer) {{\n",
       "        var display = window.getComputedStyle(gd).display;\n",
       "        if (!display || display === 'none') {{\n",
       "            console.log([gd, 'removed!']);\n",
       "            Plotly.purge(gd);\n",
       "            observer.disconnect();\n",
       "        }}\n",
       "}});\n",
       "\n",
       "// Listen for the removal of the full notebook cells\n",
       "var notebookContainer = gd.closest('#notebook-container');\n",
       "if (notebookContainer) {{\n",
       "    x.observe(notebookContainer, {childList: true});\n",
       "}}\n",
       "\n",
       "// Listen for the clearing of the current output cell\n",
       "var outputEl = gd.closest('.output');\n",
       "if (outputEl) {{\n",
       "    x.observe(outputEl, {childList: true});\n",
       "}}\n",
       "\n",
       "                        })                };                });            </script>        </div>"
      ]
     },
     "metadata": {},
     "output_type": "display_data"
    },
    {
     "name": "stderr",
     "output_type": "stream",
     "text": [
      "INFO:logs:Visual Rendered Successfully\n",
      "INFO:logs:plot_model() succesfully completed......................................\n"
     ]
    }
   ],
   "source": [
    "# plot a model\n",
    "plot_model(h_clust,'tsne')"
   ]
  },
  {
   "cell_type": "code",
   "execution_count": 50,
   "metadata": {},
   "outputs": [
    {
     "name": "stderr",
     "output_type": "stream",
     "text": [
      "INFO:logs:Initializing plot_model()\n",
      "INFO:logs:plot_model(model=AgglomerativeClustering(affinity='euclidean', compute_full_tree='auto',\n",
      "                        connectivity=None, distance_threshold=None,\n",
      "                        linkage='ward', memory=None, n_clusters=4), plot=elbow, feature=None, label=False, save=False, system=True)\n",
      "INFO:logs:Checking exceptions\n",
      "INFO:logs:Importing libraries\n"
     ]
    },
    {
     "data": {
      "text/html": [
       "        <script type=\"text/javascript\">\n",
       "        window.PlotlyConfig = {MathJaxConfig: 'local'};\n",
       "        if (window.MathJax) {MathJax.Hub.Config({SVG: {font: \"STIX-Web\"}});}\n",
       "        if (typeof require !== 'undefined') {\n",
       "        require.undef(\"plotly\");\n",
       "        requirejs.config({\n",
       "            paths: {\n",
       "                'plotly': ['https://cdn.plot.ly/plotly-latest.min']\n",
       "            }\n",
       "        });\n",
       "        require(['plotly'], function(Plotly) {\n",
       "            window._Plotly = Plotly;\n",
       "        });\n",
       "        }\n",
       "        </script>\n",
       "        "
      ]
     },
     "metadata": {},
     "output_type": "display_data"
    },
    {
     "name": "stderr",
     "output_type": "stream",
     "text": [
      "INFO:logs:plot type: elbow\n",
      "INFO:logs:Fitting KElbowVisualizer()\n",
      "INFO:logs:Rendering Visual\n"
     ]
    },
    {
     "data": {
      "image/png": "[encoded data removed]",
      "text/plain": [
       "<Figure size 576x396 with 1 Axes>"
      ]
     },
     "metadata": {},
     "output_type": "display_data"
    },
    {
     "name": "stderr",
     "output_type": "stream",
     "text": [
      "INFO:logs:Visual Rendered Successfully\n",
      "INFO:logs:plot_model() succesfully completed......................................\n"
     ]
    }
   ],
   "source": [
    "# plot a model\n",
    "plot_model(h_clust,'elbow')"
   ]
  },
  {
   "cell_type": "code",
   "execution_count": null,
   "metadata": {},
   "outputs": [],
   "source": []
  },
  {
   "cell_type": "code",
   "execution_count": 51,
   "metadata": {},
   "outputs": [
    {
     "name": "stderr",
     "output_type": "stream",
     "text": [
      "INFO:logs:Initializing tune_model()\n",
      "INFO:logs:tune_model(model=kmeans, supervised_target=Species, estimator=lr, optimize=None, custom_grid=None, fold=10, verbose=True)\n",
      "INFO:logs:Checking exceptions\n"
     ]
    },
    {
     "ename": "SystemExit",
     "evalue": "(Value Error): supervised_target not recognized. It can only be one of the following: ['SepalLengthCm', 'SepalWidthCm', 'PetalLengthCm', 'PetalWidthCm']",
     "output_type": "error",
     "traceback": [
      "An exception has occurred, use %tb to see the full traceback.\n",
      "\u001b[1;31mSystemExit\u001b[0m\u001b[1;31m:\u001b[0m (Value Error): supervised_target not recognized. It can only be one of the following: ['SepalLengthCm', 'SepalWidthCm', 'PetalLengthCm', 'PetalWidthCm']\n"
     ]
    }
   ],
   "source": [
    "#tune k-means model with lr i.e. logistic regression\n",
    "tuned_kmeans = tune_model(model = 'kmeans', supervised_target = 'Species',estimator='lr')"
   ]
  },
  {
   "cell_type": "code",
   "execution_count": 52,
   "metadata": {},
   "outputs": [],
   "source": [
    "# generate predictions\n",
    "kmeans_tuned_predictions = predict_model(tuned_kmeans, data = data_df)"
   ]
  },
  {
   "cell_type": "code",
   "execution_count": 53,
   "metadata": {},
   "outputs": [
    {
     "data": {
      "text/html": [
       "<div>\n",
       "<style scoped>\n",
       "    .dataframe tbody tr th:only-of-type {\n",
       "        vertical-align: middle;\n",
       "    }\n",
       "\n",
       "    .dataframe tbody tr th {\n",
       "        vertical-align: top;\n",
       "    }\n",
       "\n",
       "    .dataframe thead th {\n",
       "        text-align: right;\n",
       "    }\n",
       "</style>\n",
       "<table border=\"1\" class=\"dataframe\">\n",
       "  <thead>\n",
       "    <tr style=\"text-align: right;\">\n",
       "      <th></th>\n",
       "      <th>Id</th>\n",
       "      <th>SepalLengthCm</th>\n",
       "      <th>SepalWidthCm</th>\n",
       "      <th>PetalLengthCm</th>\n",
       "      <th>PetalWidthCm</th>\n",
       "      <th>Species</th>\n",
       "      <th>Cluster</th>\n",
       "    </tr>\n",
       "  </thead>\n",
       "  <tbody>\n",
       "    <tr>\n",
       "      <th>0</th>\n",
       "      <td>1</td>\n",
       "      <td>5.1</td>\n",
       "      <td>3.5</td>\n",
       "      <td>1.4</td>\n",
       "      <td>0.2</td>\n",
       "      <td>Iris-setosa</td>\n",
       "      <td>Cluster 0</td>\n",
       "    </tr>\n",
       "    <tr>\n",
       "      <th>1</th>\n",
       "      <td>2</td>\n",
       "      <td>4.9</td>\n",
       "      <td>3.0</td>\n",
       "      <td>1.4</td>\n",
       "      <td>0.2</td>\n",
       "      <td>Iris-setosa</td>\n",
       "      <td>Cluster 5</td>\n",
       "    </tr>\n",
       "    <tr>\n",
       "      <th>2</th>\n",
       "      <td>3</td>\n",
       "      <td>4.7</td>\n",
       "      <td>3.2</td>\n",
       "      <td>1.3</td>\n",
       "      <td>0.2</td>\n",
       "      <td>Iris-setosa</td>\n",
       "      <td>Cluster 5</td>\n",
       "    </tr>\n",
       "    <tr>\n",
       "      <th>3</th>\n",
       "      <td>4</td>\n",
       "      <td>4.6</td>\n",
       "      <td>3.1</td>\n",
       "      <td>1.5</td>\n",
       "      <td>0.2</td>\n",
       "      <td>Iris-setosa</td>\n",
       "      <td>Cluster 5</td>\n",
       "    </tr>\n",
       "    <tr>\n",
       "      <th>4</th>\n",
       "      <td>5</td>\n",
       "      <td>5.0</td>\n",
       "      <td>3.6</td>\n",
       "      <td>1.4</td>\n",
       "      <td>0.2</td>\n",
       "      <td>Iris-setosa</td>\n",
       "      <td>Cluster 0</td>\n",
       "    </tr>\n",
       "    <tr>\n",
       "      <th>...</th>\n",
       "      <td>...</td>\n",
       "      <td>...</td>\n",
       "      <td>...</td>\n",
       "      <td>...</td>\n",
       "      <td>...</td>\n",
       "      <td>...</td>\n",
       "      <td>...</td>\n",
       "    </tr>\n",
       "    <tr>\n",
       "      <th>145</th>\n",
       "      <td>146</td>\n",
       "      <td>6.7</td>\n",
       "      <td>3.0</td>\n",
       "      <td>5.2</td>\n",
       "      <td>2.3</td>\n",
       "      <td>Iris-virginica</td>\n",
       "      <td>Cluster 4</td>\n",
       "    </tr>\n",
       "    <tr>\n",
       "      <th>146</th>\n",
       "      <td>147</td>\n",
       "      <td>6.3</td>\n",
       "      <td>2.5</td>\n",
       "      <td>5.0</td>\n",
       "      <td>1.9</td>\n",
       "      <td>Iris-virginica</td>\n",
       "      <td>Cluster 1</td>\n",
       "    </tr>\n",
       "    <tr>\n",
       "      <th>147</th>\n",
       "      <td>148</td>\n",
       "      <td>6.5</td>\n",
       "      <td>3.0</td>\n",
       "      <td>5.2</td>\n",
       "      <td>2.0</td>\n",
       "      <td>Iris-virginica</td>\n",
       "      <td>Cluster 4</td>\n",
       "    </tr>\n",
       "    <tr>\n",
       "      <th>148</th>\n",
       "      <td>149</td>\n",
       "      <td>6.2</td>\n",
       "      <td>3.4</td>\n",
       "      <td>5.4</td>\n",
       "      <td>2.3</td>\n",
       "      <td>Iris-virginica</td>\n",
       "      <td>Cluster 4</td>\n",
       "    </tr>\n",
       "    <tr>\n",
       "      <th>149</th>\n",
       "      <td>150</td>\n",
       "      <td>5.9</td>\n",
       "      <td>3.0</td>\n",
       "      <td>5.1</td>\n",
       "      <td>1.8</td>\n",
       "      <td>Iris-virginica</td>\n",
       "      <td>Cluster 1</td>\n",
       "    </tr>\n",
       "  </tbody>\n",
       "</table>\n",
       "<p>150 rows × 7 columns</p>\n",
       "</div>"
      ],
      "text/plain": [
       "      Id  SepalLengthCm  SepalWidthCm  PetalLengthCm  PetalWidthCm  \\\n",
       "0      1            5.1           3.5            1.4           0.2   \n",
       "1      2            4.9           3.0            1.4           0.2   \n",
       "2      3            4.7           3.2            1.3           0.2   \n",
       "3      4            4.6           3.1            1.5           0.2   \n",
       "4      5            5.0           3.6            1.4           0.2   \n",
       "..   ...            ...           ...            ...           ...   \n",
       "145  146            6.7           3.0            5.2           2.3   \n",
       "146  147            6.3           2.5            5.0           1.9   \n",
       "147  148            6.5           3.0            5.2           2.0   \n",
       "148  149            6.2           3.4            5.4           2.3   \n",
       "149  150            5.9           3.0            5.1           1.8   \n",
       "\n",
       "            Species    Cluster  \n",
       "0       Iris-setosa  Cluster 0  \n",
       "1       Iris-setosa  Cluster 5  \n",
       "2       Iris-setosa  Cluster 5  \n",
       "3       Iris-setosa  Cluster 5  \n",
       "4       Iris-setosa  Cluster 0  \n",
       "..              ...        ...  \n",
       "145  Iris-virginica  Cluster 4  \n",
       "146  Iris-virginica  Cluster 1  \n",
       "147  Iris-virginica  Cluster 4  \n",
       "148  Iris-virginica  Cluster 4  \n",
       "149  Iris-virginica  Cluster 1  \n",
       "\n",
       "[150 rows x 7 columns]"
      ]
     },
     "execution_count": 53,
     "metadata": {},
     "output_type": "execute_result"
    }
   ],
   "source": [
    "kmeans_tuned_predictions"
   ]
  },
  {
   "cell_type": "code",
   "execution_count": 54,
   "metadata": {},
   "outputs": [
    {
     "name": "stderr",
     "output_type": "stream",
     "text": [
      "INFO:logs:Initializing plot_model()\n",
      "INFO:logs:plot_model(model=KMeans(algorithm='auto', copy_x=True, init='k-means++', max_iter=300,\n",
      "       n_clusters=8, n_init=10, n_jobs=-1, precompute_distances='deprecated',\n",
      "       random_state=3653, tol=0.0001, verbose=0), plot=elbow, feature=None, label=False, save=False, system=True)\n",
      "INFO:logs:Checking exceptions\n",
      "INFO:logs:Importing libraries\n"
     ]
    },
    {
     "data": {
      "text/html": [
       "        <script type=\"text/javascript\">\n",
       "        window.PlotlyConfig = {MathJaxConfig: 'local'};\n",
       "        if (window.MathJax) {MathJax.Hub.Config({SVG: {font: \"STIX-Web\"}});}\n",
       "        if (typeof require !== 'undefined') {\n",
       "        require.undef(\"plotly\");\n",
       "        requirejs.config({\n",
       "            paths: {\n",
       "                'plotly': ['https://cdn.plot.ly/plotly-latest.min']\n",
       "            }\n",
       "        });\n",
       "        require(['plotly'], function(Plotly) {\n",
       "            window._Plotly = Plotly;\n",
       "        });\n",
       "        }\n",
       "        </script>\n",
       "        "
      ]
     },
     "metadata": {},
     "output_type": "display_data"
    },
    {
     "name": "stderr",
     "output_type": "stream",
     "text": [
      "INFO:logs:plot type: elbow\n",
      "INFO:logs:Fitting KElbowVisualizer()\n",
      "INFO:logs:Rendering Visual\n"
     ]
    },
    {
     "data": {
      "image/png": "[encoded data removed]",
      "text/plain": [
       "<Figure size 576x396 with 1 Axes>"
      ]
     },
     "metadata": {},
     "output_type": "display_data"
    },
    {
     "name": "stderr",
     "output_type": "stream",
     "text": [
      "INFO:logs:Visual Rendered Successfully\n",
      "INFO:logs:plot_model() succesfully completed......................................\n"
     ]
    }
   ],
   "source": [
    "# plot a model\n",
    "plot_model(tuned_kmeans,'elbow')"
   ]
  },
  {
   "cell_type": "markdown",
   "metadata": {},
   "source": [
    "### 4 clusters detected"
   ]
  },
  {
   "cell_type": "code",
   "execution_count": 55,
   "metadata": {},
   "outputs": [
    {
     "name": "stderr",
     "output_type": "stream",
     "text": [
      "INFO:logs:(150, 5)\n",
      "INFO:logs:assign_model() succesfully completed......................................\n"
     ]
    },
    {
     "data": {
      "text/html": [
       "<div>\n",
       "<style scoped>\n",
       "    .dataframe tbody tr th:only-of-type {\n",
       "        vertical-align: middle;\n",
       "    }\n",
       "\n",
       "    .dataframe tbody tr th {\n",
       "        vertical-align: top;\n",
       "    }\n",
       "\n",
       "    .dataframe thead th {\n",
       "        text-align: right;\n",
       "    }\n",
       "</style>\n",
       "<table border=\"1\" class=\"dataframe\">\n",
       "  <thead>\n",
       "    <tr style=\"text-align: right;\">\n",
       "      <th></th>\n",
       "      <th>SepalLengthCm</th>\n",
       "      <th>SepalWidthCm</th>\n",
       "      <th>PetalLengthCm</th>\n",
       "      <th>PetalWidthCm</th>\n",
       "      <th>Cluster</th>\n",
       "    </tr>\n",
       "  </thead>\n",
       "  <tbody>\n",
       "    <tr>\n",
       "      <th>0</th>\n",
       "      <td>5.1</td>\n",
       "      <td>3.5</td>\n",
       "      <td>1.4</td>\n",
       "      <td>0.2</td>\n",
       "      <td>Cluster 0</td>\n",
       "    </tr>\n",
       "    <tr>\n",
       "      <th>1</th>\n",
       "      <td>4.9</td>\n",
       "      <td>3.0</td>\n",
       "      <td>1.4</td>\n",
       "      <td>0.2</td>\n",
       "      <td>Cluster 5</td>\n",
       "    </tr>\n",
       "    <tr>\n",
       "      <th>2</th>\n",
       "      <td>4.7</td>\n",
       "      <td>3.2</td>\n",
       "      <td>1.3</td>\n",
       "      <td>0.2</td>\n",
       "      <td>Cluster 5</td>\n",
       "    </tr>\n",
       "    <tr>\n",
       "      <th>3</th>\n",
       "      <td>4.6</td>\n",
       "      <td>3.1</td>\n",
       "      <td>1.5</td>\n",
       "      <td>0.2</td>\n",
       "      <td>Cluster 5</td>\n",
       "    </tr>\n",
       "    <tr>\n",
       "      <th>4</th>\n",
       "      <td>5.0</td>\n",
       "      <td>3.6</td>\n",
       "      <td>1.4</td>\n",
       "      <td>0.2</td>\n",
       "      <td>Cluster 0</td>\n",
       "    </tr>\n",
       "  </tbody>\n",
       "</table>\n",
       "</div>"
      ],
      "text/plain": [
       "   SepalLengthCm  SepalWidthCm  PetalLengthCm  PetalWidthCm    Cluster\n",
       "0            5.1           3.5            1.4           0.2  Cluster 0\n",
       "1            4.9           3.0            1.4           0.2  Cluster 5\n",
       "2            4.7           3.2            1.3           0.2  Cluster 5\n",
       "3            4.6           3.1            1.5           0.2  Cluster 5\n",
       "4            5.0           3.6            1.4           0.2  Cluster 0"
      ]
     },
     "execution_count": 55,
     "metadata": {},
     "output_type": "execute_result"
    }
   ],
   "source": [
    "# assign labels using trained model\n",
    "tuned_kmeans_df = assign_model(tuned_kmeans)\n",
    "tuned_kmeans_df.head()\n",
    "#plot_model(tuned_kmeans_df)"
   ]
  },
  {
   "cell_type": "code",
   "execution_count": 60,
   "metadata": {},
   "outputs": [
    {
     "data": {
      "text/html": [
       "<div>\n",
       "<style scoped>\n",
       "    .dataframe tbody tr th:only-of-type {\n",
       "        vertical-align: middle;\n",
       "    }\n",
       "\n",
       "    .dataframe tbody tr th {\n",
       "        vertical-align: top;\n",
       "    }\n",
       "\n",
       "    .dataframe thead th {\n",
       "        text-align: right;\n",
       "    }\n",
       "</style>\n",
       "<table border=\"1\" class=\"dataframe\">\n",
       "  <thead>\n",
       "    <tr style=\"text-align: right;\">\n",
       "      <th></th>\n",
       "      <th>count</th>\n",
       "      <th>unique</th>\n",
       "      <th>top</th>\n",
       "      <th>freq</th>\n",
       "      <th>mean</th>\n",
       "      <th>std</th>\n",
       "      <th>min</th>\n",
       "      <th>25%</th>\n",
       "      <th>50%</th>\n",
       "      <th>75%</th>\n",
       "      <th>max</th>\n",
       "    </tr>\n",
       "  </thead>\n",
       "  <tbody>\n",
       "    <tr>\n",
       "      <th>SepalLengthCm</th>\n",
       "      <td>150</td>\n",
       "      <td>NaN</td>\n",
       "      <td>NaN</td>\n",
       "      <td>NaN</td>\n",
       "      <td>5.84333</td>\n",
       "      <td>0.828066</td>\n",
       "      <td>4.3</td>\n",
       "      <td>5.1</td>\n",
       "      <td>5.8</td>\n",
       "      <td>6.4</td>\n",
       "      <td>7.9</td>\n",
       "    </tr>\n",
       "    <tr>\n",
       "      <th>SepalWidthCm</th>\n",
       "      <td>150</td>\n",
       "      <td>NaN</td>\n",
       "      <td>NaN</td>\n",
       "      <td>NaN</td>\n",
       "      <td>3.054</td>\n",
       "      <td>0.433594</td>\n",
       "      <td>2</td>\n",
       "      <td>2.8</td>\n",
       "      <td>3</td>\n",
       "      <td>3.3</td>\n",
       "      <td>4.4</td>\n",
       "    </tr>\n",
       "    <tr>\n",
       "      <th>PetalLengthCm</th>\n",
       "      <td>150</td>\n",
       "      <td>NaN</td>\n",
       "      <td>NaN</td>\n",
       "      <td>NaN</td>\n",
       "      <td>3.75867</td>\n",
       "      <td>1.76442</td>\n",
       "      <td>1</td>\n",
       "      <td>1.6</td>\n",
       "      <td>4.35</td>\n",
       "      <td>5.1</td>\n",
       "      <td>6.9</td>\n",
       "    </tr>\n",
       "    <tr>\n",
       "      <th>PetalWidthCm</th>\n",
       "      <td>150</td>\n",
       "      <td>NaN</td>\n",
       "      <td>NaN</td>\n",
       "      <td>NaN</td>\n",
       "      <td>1.19867</td>\n",
       "      <td>0.763161</td>\n",
       "      <td>0.1</td>\n",
       "      <td>0.3</td>\n",
       "      <td>1.3</td>\n",
       "      <td>1.8</td>\n",
       "      <td>2.5</td>\n",
       "    </tr>\n",
       "    <tr>\n",
       "      <th>Cluster</th>\n",
       "      <td>150</td>\n",
       "      <td>8</td>\n",
       "      <td>Cluster 0</td>\n",
       "      <td>27</td>\n",
       "      <td>NaN</td>\n",
       "      <td>NaN</td>\n",
       "      <td>NaN</td>\n",
       "      <td>NaN</td>\n",
       "      <td>NaN</td>\n",
       "      <td>NaN</td>\n",
       "      <td>NaN</td>\n",
       "    </tr>\n",
       "  </tbody>\n",
       "</table>\n",
       "</div>"
      ],
      "text/plain": [
       "              count unique        top freq     mean       std  min  25%   50%  \\\n",
       "SepalLengthCm   150    NaN        NaN  NaN  5.84333  0.828066  4.3  5.1   5.8   \n",
       "SepalWidthCm    150    NaN        NaN  NaN    3.054  0.433594    2  2.8     3   \n",
       "PetalLengthCm   150    NaN        NaN  NaN  3.75867   1.76442    1  1.6  4.35   \n",
       "PetalWidthCm    150    NaN        NaN  NaN  1.19867  0.763161  0.1  0.3   1.3   \n",
       "Cluster         150      8  Cluster 0   27      NaN       NaN  NaN  NaN   NaN   \n",
       "\n",
       "               75%  max  \n",
       "SepalLengthCm  6.4  7.9  \n",
       "SepalWidthCm   3.3  4.4  \n",
       "PetalLengthCm  5.1  6.9  \n",
       "PetalWidthCm   1.8  2.5  \n",
       "Cluster        NaN  NaN  "
      ]
     },
     "execution_count": 60,
     "metadata": {},
     "output_type": "execute_result"
    }
   ],
   "source": [
    "tuned_kmeans_df.describe(include = 'all').T"
   ]
  },
  {
   "cell_type": "code",
   "execution_count": 58,
   "metadata": {},
   "outputs": [
    {
     "name": "stderr",
     "output_type": "stream",
     "text": [
      "INFO:logs:Initializing plot_model()\n",
      "INFO:logs:plot_model(model=KMeans(algorithm='auto', copy_x=True, init='k-means++', max_iter=300,\n",
      "       n_clusters=8, n_init=10, n_jobs=-1, precompute_distances='deprecated',\n",
      "       random_state=3653, tol=0.0001, verbose=0), plot=tsne, feature=None, label=False, save=False, system=True)\n",
      "INFO:logs:Checking exceptions\n",
      "INFO:logs:Importing libraries\n"
     ]
    },
    {
     "data": {
      "text/html": [
       "        <script type=\"text/javascript\">\n",
       "        window.PlotlyConfig = {MathJaxConfig: 'local'};\n",
       "        if (window.MathJax) {MathJax.Hub.Config({SVG: {font: \"STIX-Web\"}});}\n",
       "        if (typeof require !== 'undefined') {\n",
       "        require.undef(\"plotly\");\n",
       "        requirejs.config({\n",
       "            paths: {\n",
       "                'plotly': ['https://cdn.plot.ly/plotly-latest.min']\n",
       "            }\n",
       "        });\n",
       "        require(['plotly'], function(Plotly) {\n",
       "            window._Plotly = Plotly;\n",
       "        });\n",
       "        }\n",
       "        </script>\n",
       "        "
      ]
     },
     "metadata": {},
     "output_type": "display_data"
    },
    {
     "name": "stderr",
     "output_type": "stream",
     "text": [
      "INFO:logs:plot type: tsne\n",
      "INFO:logs:SubProcess assign_model() called ==================================\n",
      "INFO:logs:Initializing assign_model()\n",
      "INFO:logs:assign_model(model=KMeans(algorithm='auto', copy_x=True, init='k-means++', max_iter=300,\n",
      "       n_clusters=8, n_init=10, n_jobs=-1, precompute_distances='deprecated',\n",
      "       random_state=3653, tol=0.0001, verbose=0), transformation=True, verbose=False)\n",
      "INFO:logs:Checking exceptions\n",
      "INFO:logs:Preloading libraries\n",
      "INFO:logs:Copying data\n",
      "INFO:logs:Transformation param set to True. Assigned clusters are attached on transformed dataset.\n",
      "INFO:logs:Preparing display monitor\n",
      "INFO:logs:Determining Trained Model\n",
      "INFO:logs:Trained Model : K-Means Clustering\n",
      "INFO:logs:(150, 5)\n",
      "INFO:logs:assign_model() succesfully completed......................................\n",
      "INFO:logs:SubProcess assign_model() end ==================================\n",
      "INFO:logs:Fitting TSNE()\n",
      "INFO:logs:Sorting dataframe\n",
      "INFO:logs:Rendering Visual\n"
     ]
    },
    {
     "data": {
      "application/vnd.plotly.v1+json": {
       "config": {
        "plotlyServerURL": "https://plot.ly"
       },
       "data": [
        {
         "customdata": [
          [
           5.1
          ],
          [
           5.4
          ],
          [
           5.1
          ],
          [
           5.1
          ],
          [
           5
          ],
          [
           5.2
          ],
          [
           5.2
          ],
          [
           5.1
          ],
          [
           5.4
          ],
          [
           5.5
          ],
          [
           5.5
          ],
          [
           5.3
          ],
          [
           5.1
          ],
          [
           5
          ],
          [
           5.1
          ],
          [
           5.2
          ],
          [
           5.7
          ],
          [
           5.1
          ],
          [
           5.4
          ],
          [
           5
          ],
          [
           5.4
          ],
          [
           5
          ],
          [
           5.1
          ],
          [
           5.4
          ],
          [
           5
          ],
          [
           5.7
          ],
          [
           5.8
          ]
         ],
         "hovertemplate": "Cluster=Cluster 0<br>0=%{x}<br>1=%{y}<br>2=%{z}<br>Feature=%{customdata[0]}<extra></extra>",
         "legendgroup": "Cluster 0",
         "marker": {
          "color": "#636efa",
          "opacity": 0.7,
          "symbol": "circle"
         },
         "mode": "markers",
         "name": "Cluster 0",
         "scene": "scene",
         "showlegend": true,
         "type": "scatter3d",
         "x": [
          -92.61211395263672,
          -51.780914306640625,
          -58.06247329711914,
          -21.596498489379883,
          -57.407203674316406,
          -89.36058044433594,
          -136.30091857910156,
          -71.67245483398438,
          76.5645980834961,
          -170.219482421875,
          32.44414138793945,
          43.69943618774414,
          -104.66159057617188,
          -114.25843048095703,
          -28.66189956665039,
          51.076881408691406,
          5.820346832275391,
          162.60826110839844,
          37.33812713623047,
          -75.57941436767578,
          -112.88984680175781,
          19.995830535888672,
          -66.51641082763672,
          -2.9421510696411133,
          -27.36833953857422,
          49.189231872558594,
          63.04401779174805
         ],
         "y": [
          94.01223754882812,
          -55.81196975708008,
          -99.08451843261719,
          93.33660888671875,
          67.43714904785156,
          -139.92324829101562,
          34.88919448852539,
          115.79916381835938,
          14.893218994140625,
          -12.91352367401123,
          -6.353115081787109,
          -20.661792755126953,
          65.28360748291016,
          52.95753860473633,
          97.77086639404297,
          -66.28015899658203,
          -113.85970306396484,
          -77.30113983154297,
          -58.817054748535156,
          18.960018157958984,
          102.6102066040039,
          -14.938297271728516,
          62.933956146240234,
          -64.3740234375,
          -88.12627410888672,
          -119.42321014404297,
          -98.84901428222656
         ],
         "z": [
          106.98268127441406,
          140.99899291992188,
          102.76042938232422,
          88.95699310302734,
          79.41900634765625,
          20.650859832763672,
          87.06539154052734,
          54.23725891113281,
          -160.55535888671875,
          6.719496726989746,
          161.3283233642578,
          111.88367462158203,
          69.7451400756836,
          130.16265869140625,
          142.7734375,
          89.67249298095703,
          117.24333953857422,
          -25.860414505004883,
          147.050048828125,
          148.0003204345703,
          12.570283889770508,
          -161.12060546875,
          130.44688415527344,
          118.6203842163086,
          61.834510803222656,
          84.56608581542969,
          131.16383361816406
         ]
        },
        {
         "customdata": [
          [
           5.7
          ],
          [
           6.3
          ],
          [
           5.8
          ],
          [
           6
          ],
          [
           5.9
          ],
          [
           6.3
          ],
          [
           5.8
          ],
          [
           6
          ],
          [
           5.6
          ],
          [
           6.3
          ],
          [
           6
          ],
          [
           6.4
          ],
          [
           6.1
          ],
          [
           6.3
          ],
          [
           6.2
          ],
          [
           6.1
          ],
          [
           5.8
          ],
          [
           5.9
          ]
         ],
         "hovertemplate": "Cluster=Cluster 1<br>0=%{x}<br>1=%{y}<br>2=%{z}<br>Feature=%{customdata[0]}<extra></extra>",
         "legendgroup": "Cluster 1",
         "marker": {
          "color": "#EF553B",
          "opacity": 0.7,
          "symbol": "circle"
         },
         "mode": "markers",
         "name": "Cluster 1",
         "scene": "scene",
         "showlegend": true,
         "type": "scatter3d",
         "x": [
          78.75609588623047,
          35.801509857177734,
          -93.94891357421875,
          -25.152048110961914,
          -27.118364334106445,
          17.44588851928711,
          -65.95008087158203,
          22.129623413085938,
          -4.989310264587402,
          -136.24058532714844,
          85.90716552734375,
          75.36749267578125,
          -124.67198181152344,
          -23.45060920715332,
          -60.11716842651367,
          62.68925094604492,
          -94.74800872802734,
          7.389825344085693
         ],
         "y": [
          -135.1100616455078,
          37.00100326538086,
          -83.96637725830078,
          80.19052124023438,
          75.71700286865234,
          18.236440658569336,
          37.424842834472656,
          68.54984283447266,
          25.19163703918457,
          -35.753631591796875,
          43.35216522216797,
          46.86844253540039,
          -67.11295318603516,
          18.431320190429688,
          95.97162628173828,
          93.3596420288086,
          -23.033294677734375,
          60.69617462158203
         ],
         "z": [
          5.070943355560303,
          -107.47116088867188,
          29.843456268310547,
          -11.950087547302246,
          -60.782840728759766,
          -68.16143035888672,
          -29.54926109313965,
          -73.33103942871094,
          -5.42351770401001,
          -51.17621612548828,
          106.41783142089844,
          -77.08682250976562,
          -6.673366069793701,
          -48.66133117675781,
          -34.67243957519531,
          -104.31053924560547,
          -14.37808609008789,
          -31.196626663208008
         ]
        },
        {
         "customdata": [
          [
           5.9
          ],
          [
           5.5
          ],
          [
           5.8
          ],
          [
           5.4
          ],
          [
           6.1
          ],
          [
           5.6
          ],
          [
           5.6
          ],
          [
           5.5
          ],
          [
           5.8
          ],
          [
           5.6
          ],
          [
           5.5
          ],
          [
           5.6
          ],
          [
           5.8
          ],
          [
           6
          ],
          [
           5.5
          ],
          [
           5.7
          ],
          [
           5.2
          ],
          [
           5.6
          ],
          [
           5.5
          ],
          [
           5.7
          ],
          [
           4.9
          ],
          [
           5.7
          ],
          [
           5.7
          ],
          [
           5.7
          ]
         ],
         "hovertemplate": "Cluster=Cluster 2<br>0=%{x}<br>1=%{y}<br>2=%{z}<br>Feature=%{customdata[0]}<extra></extra>",
         "legendgroup": "Cluster 2",
         "marker": {
          "color": "#00cc96",
          "opacity": 0.7,
          "symbol": "circle"
         },
         "mode": "markers",
         "name": "Cluster 2",
         "scene": "scene",
         "showlegend": true,
         "type": "scatter3d",
         "x": [
          40.56831741333008,
          -70.68852233886719,
          -9.481795310974121,
          24.443716049194336,
          11.594517707824707,
          -37.3400764465332,
          -164.31068420410156,
          8.655759811401367,
          22.974517822265625,
          -82.86907958984375,
          -76.94609069824219,
          -35.46475601196289,
          -34.37021255493164,
          2.007319688796997,
          -49.399227142333984,
          -22.11248207092285,
          -5.70793342590332,
          -81.76236724853516,
          -45.2594108581543,
          15.490281105041504,
          -28.375335693359375,
          -3.925631523132324,
          -41.23996353149414,
          -51.943973541259766
         ],
         "y": [
          -78.52081298828125,
          -77.6395263671875,
          -118.01497650146484,
          -155.22943115234375,
          -94.44279479980469,
          -43.83634948730469,
          -37.26417922973633,
          196.9389190673828,
          -103.35514068603516,
          71.39583587646484,
          -71.9721450805664,
          -54.400325775146484,
          -96.27079772949219,
          -101.13874816894531,
          -119.3309326171875,
          -66.09916687011719,
          -151.13795471191406,
          -114.10094451904297,
          -144.23324584960938,
          -48.82231140136719,
          -172.76419067382812,
          -68.53820037841797,
          -87.23792266845703,
          -27.830869674682617
         ],
         "z": [
          -30.48333740234375,
          -103.07261657714844,
          -21.055374145507812,
          -34.76729202270508,
          -58.913902282714844,
          -28.91138458251953,
          59.22077941894531,
          -44.34444808959961,
          14.712017059326172,
          -89.24542999267578,
          -44.058326721191406,
          -79.12743377685547,
          -57.14009475708008,
          -103.48328399658203,
          -101.64106750488281,
          -121.47333526611328,
          -86.74651336669922,
          -51.990966796875,
          -59.24879455566406,
          11.930216789245605,
          -15.354148864746094,
          -21.267711639404297,
          -5.379659175872803,
          -132.2230682373047
         ]
        },
        {
         "customdata": [
          [
           7.1
          ],
          [
           7.6
          ],
          [
           7.3
          ],
          [
           7.2
          ],
          [
           7.2
          ],
          [
           7.4
          ],
          [
           7.7
          ],
          [
           7.7
          ],
          [
           7.7
          ],
          [
           7.9
          ],
          [
           7.2
          ],
          [
           7.7
          ]
         ],
         "hovertemplate": "Cluster=Cluster 3<br>0=%{x}<br>1=%{y}<br>2=%{z}<br>Feature=%{customdata[0]}<extra></extra>",
         "legendgroup": "Cluster 3",
         "marker": {
          "color": "#ab63fa",
          "opacity": 0.7,
          "symbol": "circle"
         },
         "mode": "markers",
         "name": "Cluster 3",
         "scene": "scene",
         "showlegend": true,
         "type": "scatter3d",
         "x": [
          -110.46055603027344,
          27.03322410583496,
          42.49054718017578,
          126.16557312011719,
          163.12322998046875,
          -153.02403259277344,
          5.37523889541626,
          57.8258056640625,
          123.35490417480469,
          2.1451056003570557,
          66.62586975097656,
          66.47911071777344
         ],
         "y": [
          -25.082782745361328,
          161.31126403808594,
          139.97503662109375,
          120.98237609863281,
          18.812286376953125,
          -10.021985054016113,
          125.61621856689453,
          128.3295135498047,
          85.15351104736328,
          167.78211975097656,
          150.001953125,
          166.79156494140625
         ],
         "z": [
          177.5420379638672,
          55.895484924316406,
          -6.115849018096924,
          46.15711975097656,
          37.583343505859375,
          -107.61735534667969,
          28.347318649291992,
          69.74010467529297,
          -117.74601745605469,
          11.215864181518555,
          -47.61857604980469,
          27.45604705810547
         ]
        },
        {
         "customdata": [
          [
           6.7
          ],
          [
           6.7
          ],
          [
           6.5
          ],
          [
           6.7
          ],
          [
           6.5
          ],
          [
           6.3
          ],
          [
           6.4
          ],
          [
           6.3
          ],
          [
           6.8
          ],
          [
           6.4
          ],
          [
           6.5
          ],
          [
           6.8
          ],
          [
           6.7
          ],
          [
           6.9
          ],
          [
           6.9
          ],
          [
           6.4
          ],
          [
           6.4
          ],
          [
           6.9
          ],
          [
           6.3
          ],
          [
           6.7
          ],
          [
           6.2
          ],
          [
           6.5
          ]
         ],
         "hovertemplate": "Cluster=Cluster 4<br>0=%{x}<br>1=%{y}<br>2=%{z}<br>Feature=%{customdata[0]}<extra></extra>",
         "legendgroup": "Cluster 4",
         "marker": {
          "color": "#FFA15A",
          "opacity": 0.7,
          "symbol": "circle"
         },
         "mode": "markers",
         "name": "Cluster 4",
         "scene": "scene",
         "showlegend": true,
         "type": "scatter3d",
         "x": [
          97.389404296875,
          160.36143493652344,
          65.05609893798828,
          57.39936447143555,
          117.93626403808594,
          134.69143676757812,
          161.32318115234375,
          119.07208251953125,
          166.51907348632812,
          120.09909057617188,
          120.012451171875,
          125.49284362792969,
          -161.5593719482422,
          105.73836517333984,
          132.419921875,
          -23.6617488861084,
          106.32665252685547,
          140.34950256347656,
          80.60624694824219,
          98.67711639404297,
          56.257869720458984,
          -117.38528442382812
         ],
         "y": [
          116.14291381835938,
          51.75914764404297,
          36.98651123046875,
          58.310455322265625,
          90.6507339477539,
          -39.82685089111328,
          16.05374526977539,
          152.5291290283203,
          73.62906646728516,
          10.720730781555176,
          -10.739546775817871,
          61.90449905395508,
          58.34915542602539,
          27.27889633178711,
          54.26816177368164,
          -15.971287727355957,
          21.41737937927246,
          105.90544128417969,
          102.02532196044922,
          73.88348388671875,
          90.76190948486328,
          40.916080474853516
         ],
         "z": [
          -18.962621688842773,
          -73.94589233398438,
          -30.68062400817871,
          13.37539005279541,
          -56.43974304199219,
          49.75719451904297,
          -33.4759521484375,
          -1.5624710321426392,
          1.669360637664795,
          -91.18022918701172,
          97.09530639648438,
          30.38207244873047,
          -15.379793167114258,
          6.335307598114014,
          -23.890830993652344,
          192.7642059326172,
          -46.556236267089844,
          -10.035371780395508,
          24.92580795288086,
          -6.873927593231201,
          -30.8370304107666,
          -54.7813606262207
         ]
        },
        {
         "customdata": [
          [
           4.4
          ],
          [
           4.6
          ],
          [
           4.8
          ],
          [
           4.3
          ],
          [
           5
          ],
          [
           4.5
          ],
          [
           4.8
          ],
          [
           4.6
          ],
          [
           4.4
          ],
          [
           5
          ],
          [
           4.9
          ],
          [
           4.8
          ],
          [
           4.8
          ],
          [
           4.4
          ],
          [
           4.7
          ],
          [
           4.9
          ],
          [
           4.6
          ],
          [
           4.9
          ],
          [
           5
          ],
          [
           4.9
          ],
          [
           4.6
          ],
          [
           4.7
          ],
          [
           4.8
          ]
         ],
         "hovertemplate": "Cluster=Cluster 5<br>0=%{x}<br>1=%{y}<br>2=%{z}<br>Feature=%{customdata[0]}<extra></extra>",
         "legendgroup": "Cluster 5",
         "marker": {
          "color": "#19d3f3",
          "opacity": 0.7,
          "symbol": "circle"
         },
         "mode": "markers",
         "name": "Cluster 5",
         "scene": "scene",
         "showlegend": true,
         "type": "scatter3d",
         "x": [
          27.601436614990234,
          -24.5362548828125,
          -0.6308984756469727,
          -114.75980377197266,
          -17.527143478393555,
          -120.6962890625,
          12.072568893432617,
          -36.270755767822266,
          -69.09603118896484,
          -86.77828979492188,
          -51.86521530151367,
          -33.89603042602539,
          51.72105026245117,
          -12.71809196472168,
          -26.20018768310547,
          -103.82711029052734,
          -69.27252197265625,
          -60.58525848388672,
          -98.9974594116211,
          -1.5440112352371216,
          -18.419172286987305,
          -74.62875366210938,
          -19.50716209411621
         ],
         "y": [
          56.13095474243164,
          -150.3267364501953,
          -42.60018539428711,
          26.61507225036621,
          -9.61108112335205,
          -69.76387023925781,
          34.971954345703125,
          -31.235490798950195,
          47.4490852355957,
          28.13916778564453,
          -21.809200286865234,
          27.580957412719727,
          -58.0396728515625,
          -89.7651138305664,
          12.36596965789795,
          -3.672983169555664,
          -2.6943538188934326,
          11.114182472229004,
          -16.423940658569336,
          5.199933052062988,
          56.1504020690918,
          -41.656158447265625,
          32.729522705078125
         ],
         "z": [
          68.15865325927734,
          64.47941589355469,
          69.33561706542969,
          17.69047737121582,
          119.59839630126953,
          91.49739837646484,
          108.60621643066406,
          36.69277572631836,
          25.785551071166992,
          99.06259155273438,
          94.71495819091797,
          95.99679565429688,
          -149.81967163085938,
          175.77525329589844,
          37.51224899291992,
          62.86676788330078,
          23.724916458129883,
          66.7681655883789,
          112.02952575683594,
          74.32046508789062,
          45.949737548828125,
          59.36804962158203,
          143.17271423339844
         ]
        },
        {
         "customdata": [
          [
           6.2
          ],
          [
           6.7
          ],
          [
           7
          ],
          [
           6.4
          ],
          [
           6.9
          ],
          [
           6.5
          ],
          [
           6.3
          ],
          [
           6.6
          ],
          [
           6.1
          ],
          [
           6.2
          ],
          [
           6.4
          ],
          [
           6.6
          ],
          [
           6.8
          ],
          [
           6.7
          ],
          [
           6
          ],
          [
           6
          ],
          [
           6.7
          ],
          [
           6.3
          ],
          [
           6.1
          ],
          [
           6.1
          ]
         ],
         "hovertemplate": "Cluster=Cluster 6<br>0=%{x}<br>1=%{y}<br>2=%{z}<br>Feature=%{customdata[0]}<extra></extra>",
         "legendgroup": "Cluster 6",
         "marker": {
          "color": "#FF6692",
          "opacity": 0.7,
          "symbol": "circle"
         },
         "mode": "markers",
         "name": "Cluster 6",
         "scene": "scene",
         "showlegend": true,
         "type": "scatter3d",
         "x": [
          -17.202974319458008,
          -37.712303161621094,
          82.91362762451172,
          52.36252975463867,
          92.76287841796875,
          47.39631652832031,
          -26.5123233795166,
          89.46904754638672,
          62.29408645629883,
          -16.564489364624023,
          50.592430114746094,
          68.92633056640625,
          112.88787078857422,
          128.68569946289062,
          10.719229698181152,
          72.00667572021484,
          4.801726341247559,
          -43.61066818237305,
          -88.94483184814453,
          26.797016143798828
         ],
         "y": [
          30.308349609375,
          84.442138671875,
          -19.269542694091797,
          -17.436725616455078,
          0.8669277429580688,
          2.7691609859466553,
          124.79088592529297,
          -67.19548034667969,
          -47.36122512817383,
          -1.1005159616470337,
          -63.5797233581543,
          -30.29176902770996,
          -50.651485443115234,
          -23.063051223754883,
          -36.781593322753906,
          -113.04185485839844,
          103.24174499511719,
          27.188772201538086,
          4.017343044281006,
          -17.453126907348633
         ],
         "z": [
          -141.46063232421875,
          -132.597900390625,
          -11.187764167785645,
          -99.041015625,
          46.6869010925293,
          16.040029525756836,
          -76.214599609375,
          -14.522811889648438,
          30.2935791015625,
          -97.5037612915039,
          -83.34375762939453,
          -56.66445541381836,
          -53.00309753417969,
          -7.469372749328613,
          -61.51954650878906,
          -70.88319396972656,
          -117.16289520263672,
          -96.58484649658203,
          -112.84861755371094,
          -24.420944213867188
         ]
        },
        {
         "customdata": [
          [
           5.1
          ],
          [
           5
          ],
          [
           4.9
          ],
          [
           5
          ]
         ],
         "hovertemplate": "Cluster=Cluster 7<br>0=%{x}<br>1=%{y}<br>2=%{z}<br>Feature=%{customdata[0]}<extra></extra>",
         "legendgroup": "Cluster 7",
         "marker": {
          "color": "#B6E880",
          "opacity": 0.7,
          "symbol": "circle"
         },
         "mode": "markers",
         "name": "Cluster 7",
         "scene": "scene",
         "showlegend": true,
         "type": "scatter3d",
         "x": [
          -24.340919494628906,
          -80.25334930419922,
          -43.34882736206055,
          -71.7820816040039
         ],
         "y": [
          -109.58253479003906,
          -27.755970001220703,
          -70.73420715332031,
          -99.28022003173828
         ],
         "z": [
          -153.11972045898438,
          -73.07518005371094,
          -170.36984252929688,
          -147.54116821289062
         ]
        }
       ],
       "layout": {
        "height": 800,
        "legend": {
         "title": {
          "text": "Cluster"
         },
         "tracegroupgap": 0
        },
        "scene": {
         "domain": {
          "x": [
           0,
           1
          ],
          "y": [
           0,
           1
          ]
         },
         "xaxis": {
          "title": {
           "text": "0"
          }
         },
         "yaxis": {
          "title": {
           "text": "1"
          }
         },
         "zaxis": {
          "title": {
           "text": "2"
          }
         }
        },
        "template": {
         "data": {
          "bar": [
           {
            "error_x": {
             "color": "#2a3f5f"
            },
            "error_y": {
             "color": "#2a3f5f"
            },
            "marker": {
             "line": {
              "color": "#E5ECF6",
              "width": 0.5
             }
            },
            "type": "bar"
           }
          ],
          "barpolar": [
           {
            "marker": {
             "line": {
              "color": "#E5ECF6",
              "width": 0.5
             }
            },
            "type": "barpolar"
           }
          ],
          "carpet": [
           {
            "aaxis": {
             "endlinecolor": "#2a3f5f",
             "gridcolor": "white",
             "linecolor": "white",
             "minorgridcolor": "white",
             "startlinecolor": "#2a3f5f"
            },
            "baxis": {
             "endlinecolor": "#2a3f5f",
             "gridcolor": "white",
             "linecolor": "white",
             "minorgridcolor": "white",
             "startlinecolor": "#2a3f5f"
            },
            "type": "carpet"
           }
          ],
          "choropleth": [
           {
            "colorbar": {
             "outlinewidth": 0,
             "ticks": ""
            },
            "type": "choropleth"
           }
          ],
          "contour": [
           {
            "colorbar": {
             "outlinewidth": 0,
             "ticks": ""
            },
            "colorscale": [
             [
              0,
              "#0d0887"
             ],
             [
              0.1111111111111111,
              "#46039f"
             ],
             [
              0.2222222222222222,
              "#7201a8"
             ],
             [
              0.3333333333333333,
              "#9c179e"
             ],
             [
              0.4444444444444444,
              "#bd3786"
             ],
             [
              0.5555555555555556,
              "#d8576b"
             ],
             [
              0.6666666666666666,
              "#ed7953"
             ],
             [
              0.7777777777777778,
              "#fb9f3a"
             ],
             [
              0.8888888888888888,
              "#fdca26"
             ],
             [
              1,
              "#f0f921"
             ]
            ],
            "type": "contour"
           }
          ],
          "contourcarpet": [
           {
            "colorbar": {
             "outlinewidth": 0,
             "ticks": ""
            },
            "type": "contourcarpet"
           }
          ],
          "heatmap": [
           {
            "colorbar": {
             "outlinewidth": 0,
             "ticks": ""
            },
            "colorscale": [
             [
              0,
              "#0d0887"
             ],
             [
              0.1111111111111111,
              "#46039f"
             ],
             [
              0.2222222222222222,
              "#7201a8"
             ],
             [
              0.3333333333333333,
              "#9c179e"
             ],
             [
              0.4444444444444444,
              "#bd3786"
             ],
             [
              0.5555555555555556,
              "#d8576b"
             ],
             [
              0.6666666666666666,
              "#ed7953"
             ],
             [
              0.7777777777777778,
              "#fb9f3a"
             ],
             [
              0.8888888888888888,
              "#fdca26"
             ],
             [
              1,
              "#f0f921"
             ]
            ],
            "type": "heatmap"
           }
          ],
          "heatmapgl": [
           {
            "colorbar": {
             "outlinewidth": 0,
             "ticks": ""
            },
            "colorscale": [
             [
              0,
              "#0d0887"
             ],
             [
              0.1111111111111111,
              "#46039f"
             ],
             [
              0.2222222222222222,
              "#7201a8"
             ],
             [
              0.3333333333333333,
              "#9c179e"
             ],
             [
              0.4444444444444444,
              "#bd3786"
             ],
             [
              0.5555555555555556,
              "#d8576b"
             ],
             [
              0.6666666666666666,
              "#ed7953"
             ],
             [
              0.7777777777777778,
              "#fb9f3a"
             ],
             [
              0.8888888888888888,
              "#fdca26"
             ],
             [
              1,
              "#f0f921"
             ]
            ],
            "type": "heatmapgl"
           }
          ],
          "histogram": [
           {
            "marker": {
             "colorbar": {
              "outlinewidth": 0,
              "ticks": ""
             }
            },
            "type": "histogram"
           }
          ],
          "histogram2d": [
           {
            "colorbar": {
             "outlinewidth": 0,
             "ticks": ""
            },
            "colorscale": [
             [
              0,
              "#0d0887"
             ],
             [
              0.1111111111111111,
              "#46039f"
             ],
             [
              0.2222222222222222,
              "#7201a8"
             ],
             [
              0.3333333333333333,
              "#9c179e"
             ],
             [
              0.4444444444444444,
              "#bd3786"
             ],
             [
              0.5555555555555556,
              "#d8576b"
             ],
             [
              0.6666666666666666,
              "#ed7953"
             ],
             [
              0.7777777777777778,
              "#fb9f3a"
             ],
             [
              0.8888888888888888,
              "#fdca26"
             ],
             [
              1,
              "#f0f921"
             ]
            ],
            "type": "histogram2d"
           }
          ],
          "histogram2dcontour": [
           {
            "colorbar": {
             "outlinewidth": 0,
             "ticks": ""
            },
            "colorscale": [
             [
              0,
              "#0d0887"
             ],
             [
              0.1111111111111111,
              "#46039f"
             ],
             [
              0.2222222222222222,
              "#7201a8"
             ],
             [
              0.3333333333333333,
              "#9c179e"
             ],
             [
              0.4444444444444444,
              "#bd3786"
             ],
             [
              0.5555555555555556,
              "#d8576b"
             ],
             [
              0.6666666666666666,
              "#ed7953"
             ],
             [
              0.7777777777777778,
              "#fb9f3a"
             ],
             [
              0.8888888888888888,
              "#fdca26"
             ],
             [
              1,
              "#f0f921"
             ]
            ],
            "type": "histogram2dcontour"
           }
          ],
          "mesh3d": [
           {
            "colorbar": {
             "outlinewidth": 0,
             "ticks": ""
            },
            "type": "mesh3d"
           }
          ],
          "parcoords": [
           {
            "line": {
             "colorbar": {
              "outlinewidth": 0,
              "ticks": ""
             }
            },
            "type": "parcoords"
           }
          ],
          "pie": [
           {
            "automargin": true,
            "type": "pie"
           }
          ],
          "scatter": [
           {
            "marker": {
             "colorbar": {
              "outlinewidth": 0,
              "ticks": ""
             }
            },
            "type": "scatter"
           }
          ],
          "scatter3d": [
           {
            "line": {
             "colorbar": {
              "outlinewidth": 0,
              "ticks": ""
             }
            },
            "marker": {
             "colorbar": {
              "outlinewidth": 0,
              "ticks": ""
             }
            },
            "type": "scatter3d"
           }
          ],
          "scattercarpet": [
           {
            "marker": {
             "colorbar": {
              "outlinewidth": 0,
              "ticks": ""
             }
            },
            "type": "scattercarpet"
           }
          ],
          "scattergeo": [
           {
            "marker": {
             "colorbar": {
              "outlinewidth": 0,
              "ticks": ""
             }
            },
            "type": "scattergeo"
           }
          ],
          "scattergl": [
           {
            "marker": {
             "colorbar": {
              "outlinewidth": 0,
              "ticks": ""
             }
            },
            "type": "scattergl"
           }
          ],
          "scattermapbox": [
           {
            "marker": {
             "colorbar": {
              "outlinewidth": 0,
              "ticks": ""
             }
            },
            "type": "scattermapbox"
           }
          ],
          "scatterpolar": [
           {
            "marker": {
             "colorbar": {
              "outlinewidth": 0,
              "ticks": ""
             }
            },
            "type": "scatterpolar"
           }
          ],
          "scatterpolargl": [
           {
            "marker": {
             "colorbar": {
              "outlinewidth": 0,
              "ticks": ""
             }
            },
            "type": "scatterpolargl"
           }
          ],
          "scatterternary": [
           {
            "marker": {
             "colorbar": {
              "outlinewidth": 0,
              "ticks": ""
             }
            },
            "type": "scatterternary"
           }
          ],
          "surface": [
           {
            "colorbar": {
             "outlinewidth": 0,
             "ticks": ""
            },
            "colorscale": [
             [
              0,
              "#0d0887"
             ],
             [
              0.1111111111111111,
              "#46039f"
             ],
             [
              0.2222222222222222,
              "#7201a8"
             ],
             [
              0.3333333333333333,
              "#9c179e"
             ],
             [
              0.4444444444444444,
              "#bd3786"
             ],
             [
              0.5555555555555556,
              "#d8576b"
             ],
             [
              0.6666666666666666,
              "#ed7953"
             ],
             [
              0.7777777777777778,
              "#fb9f3a"
             ],
             [
              0.8888888888888888,
              "#fdca26"
             ],
             [
              1,
              "#f0f921"
             ]
            ],
            "type": "surface"
           }
          ],
          "table": [
           {
            "cells": {
             "fill": {
              "color": "#EBF0F8"
             },
             "line": {
              "color": "white"
             }
            },
            "header": {
             "fill": {
              "color": "#C8D4E3"
             },
             "line": {
              "color": "white"
             }
            },
            "type": "table"
           }
          ]
         },
         "layout": {
          "annotationdefaults": {
           "arrowcolor": "#2a3f5f",
           "arrowhead": 0,
           "arrowwidth": 1
          },
          "coloraxis": {
           "colorbar": {
            "outlinewidth": 0,
            "ticks": ""
           }
          },
          "colorscale": {
           "diverging": [
            [
             0,
             "#8e0152"
            ],
            [
             0.1,
             "#c51b7d"
            ],
            [
             0.2,
             "#de77ae"
            ],
            [
             0.3,
             "#f1b6da"
            ],
            [
             0.4,
             "#fde0ef"
            ],
            [
             0.5,
             "#f7f7f7"
            ],
            [
             0.6,
             "#e6f5d0"
            ],
            [
             0.7,
             "#b8e186"
            ],
            [
             0.8,
             "#7fbc41"
            ],
            [
             0.9,
             "#4d9221"
            ],
            [
             1,
             "#276419"
            ]
           ],
           "sequential": [
            [
             0,
             "#0d0887"
            ],
            [
             0.1111111111111111,
             "#46039f"
            ],
            [
             0.2222222222222222,
             "#7201a8"
            ],
            [
             0.3333333333333333,
             "#9c179e"
            ],
            [
             0.4444444444444444,
             "#bd3786"
            ],
            [
             0.5555555555555556,
             "#d8576b"
            ],
            [
             0.6666666666666666,
             "#ed7953"
            ],
            [
             0.7777777777777778,
             "#fb9f3a"
            ],
            [
             0.8888888888888888,
             "#fdca26"
            ],
            [
             1,
             "#f0f921"
            ]
           ],
           "sequentialminus": [
            [
             0,
             "#0d0887"
            ],
            [
             0.1111111111111111,
             "#46039f"
            ],
            [
             0.2222222222222222,
             "#7201a8"
            ],
            [
             0.3333333333333333,
             "#9c179e"
            ],
            [
             0.4444444444444444,
             "#bd3786"
            ],
            [
             0.5555555555555556,
             "#d8576b"
            ],
            [
             0.6666666666666666,
             "#ed7953"
            ],
            [
             0.7777777777777778,
             "#fb9f3a"
            ],
            [
             0.8888888888888888,
             "#fdca26"
            ],
            [
             1,
             "#f0f921"
            ]
           ]
          },
          "colorway": [
           "#636efa",
           "#EF553B",
           "#00cc96",
           "#ab63fa",
           "#FFA15A",
           "#19d3f3",
           "#FF6692",
           "#B6E880",
           "#FF97FF",
           "#FECB52"
          ],
          "font": {
           "color": "#2a3f5f"
          },
          "geo": {
           "bgcolor": "white",
           "lakecolor": "white",
           "landcolor": "#E5ECF6",
           "showlakes": true,
           "showland": true,
           "subunitcolor": "white"
          },
          "hoverlabel": {
           "align": "left"
          },
          "hovermode": "closest",
          "mapbox": {
           "style": "light"
          },
          "paper_bgcolor": "white",
          "plot_bgcolor": "#E5ECF6",
          "polar": {
           "angularaxis": {
            "gridcolor": "white",
            "linecolor": "white",
            "ticks": ""
           },
           "bgcolor": "#E5ECF6",
           "radialaxis": {
            "gridcolor": "white",
            "linecolor": "white",
            "ticks": ""
           }
          },
          "scene": {
           "xaxis": {
            "backgroundcolor": "#E5ECF6",
            "gridcolor": "white",
            "gridwidth": 2,
            "linecolor": "white",
            "showbackground": true,
            "ticks": "",
            "zerolinecolor": "white"
           },
           "yaxis": {
            "backgroundcolor": "#E5ECF6",
            "gridcolor": "white",
            "gridwidth": 2,
            "linecolor": "white",
            "showbackground": true,
            "ticks": "",
            "zerolinecolor": "white"
           },
           "zaxis": {
            "backgroundcolor": "#E5ECF6",
            "gridcolor": "white",
            "gridwidth": 2,
            "linecolor": "white",
            "showbackground": true,
            "ticks": "",
            "zerolinecolor": "white"
           }
          },
          "shapedefaults": {
           "line": {
            "color": "#2a3f5f"
           }
          },
          "ternary": {
           "aaxis": {
            "gridcolor": "white",
            "linecolor": "white",
            "ticks": ""
           },
           "baxis": {
            "gridcolor": "white",
            "linecolor": "white",
            "ticks": ""
           },
           "bgcolor": "#E5ECF6",
           "caxis": {
            "gridcolor": "white",
            "linecolor": "white",
            "ticks": ""
           }
          },
          "title": {
           "x": 0.05
          },
          "xaxis": {
           "automargin": true,
           "gridcolor": "white",
           "linecolor": "white",
           "ticks": "",
           "title": {
            "standoff": 15
           },
           "zerolinecolor": "white",
           "zerolinewidth": 2
          },
          "yaxis": {
           "automargin": true,
           "gridcolor": "white",
           "linecolor": "white",
           "ticks": "",
           "title": {
            "standoff": 15
           },
           "zerolinecolor": "white",
           "zerolinewidth": 2
          }
         }
        },
        "title": {
         "text": "3d TSNE Plot for Clusters"
        },
        "width": 900
       }
      },
      "text/html": [
       "<div>                            <div id=\"2dca1139-1ea2-4436-afc8-86841680a5c4\" class=\"plotly-graph-div\" style=\"height:800px; width:900px;\"></div>            <script type=\"text/javascript\">                require([\"plotly\"], function(Plotly) {                    window.PLOTLYENV=window.PLOTLYENV || {};                                    if (document.getElementById(\"2dca1139-1ea2-4436-afc8-86841680a5c4\")) {                    Plotly.newPlot(                        \"2dca1139-1ea2-4436-afc8-86841680a5c4\",                        [{\"customdata\": [[5.1], [5.4], [5.1], [5.1], [5.0], [5.2], [5.2], [5.1], [5.4], [5.5], [5.5], [5.3], [5.1], [5.0], [5.1], [5.2], [5.7], [5.1], [5.4], [5.0], [5.4], [5.0], [5.1], [5.4], [5.0], [5.7], [5.8]], \"hovertemplate\": \"Cluster=Cluster 0<br>0=%{x}<br>1=%{y}<br>2=%{z}<br>Feature=%{customdata[0]}<extra></extra>\", \"legendgroup\": \"Cluster 0\", \"marker\": {\"color\": \"#636efa\", \"opacity\": 0.7, \"symbol\": \"circle\"}, \"mode\": \"markers\", \"name\": \"Cluster 0\", \"scene\": \"scene\", \"showlegend\": true, \"type\": \"scatter3d\", \"x\": [-92.61211395263672, -51.780914306640625, -58.06247329711914, -21.596498489379883, -57.407203674316406, -89.36058044433594, -136.30091857910156, -71.67245483398438, 76.5645980834961, -170.219482421875, 32.44414138793945, 43.69943618774414, -104.66159057617188, -114.25843048095703, -28.66189956665039, 51.076881408691406, 5.820346832275391, 162.60826110839844, 37.33812713623047, -75.57941436767578, -112.88984680175781, 19.995830535888672, -66.51641082763672, -2.9421510696411133, -27.36833953857422, 49.189231872558594, 63.04401779174805], \"y\": [94.01223754882812, -55.81196975708008, -99.08451843261719, 93.33660888671875, 67.43714904785156, -139.92324829101562, 34.88919448852539, 115.79916381835938, 14.893218994140625, -12.91352367401123, -6.353115081787109, -20.661792755126953, 65.28360748291016, 52.95753860473633, 97.77086639404297, -66.28015899658203, -113.85970306396484, -77.30113983154297, -58.817054748535156, 18.960018157958984, 102.6102066040039, -14.938297271728516, 62.933956146240234, -64.3740234375, -88.12627410888672, -119.42321014404297, -98.84901428222656], \"z\": [106.98268127441406, 140.99899291992188, 102.76042938232422, 88.95699310302734, 79.41900634765625, 20.650859832763672, 87.06539154052734, 54.23725891113281, -160.55535888671875, 6.719496726989746, 161.3283233642578, 111.88367462158203, 69.7451400756836, 130.16265869140625, 142.7734375, 89.67249298095703, 117.24333953857422, -25.860414505004883, 147.050048828125, 148.0003204345703, 12.570283889770508, -161.12060546875, 130.44688415527344, 118.6203842163086, 61.834510803222656, 84.56608581542969, 131.16383361816406]}, {\"customdata\": [[5.7], [6.3], [5.8], [6.0], [5.9], [6.3], [5.8], [6.0], [5.6], [6.3], [6.0], [6.4], [6.1], [6.3], [6.2], [6.1], [5.8], [5.9]], \"hovertemplate\": \"Cluster=Cluster 1<br>0=%{x}<br>1=%{y}<br>2=%{z}<br>Feature=%{customdata[0]}<extra></extra>\", \"legendgroup\": \"Cluster 1\", \"marker\": {\"color\": \"#EF553B\", \"opacity\": 0.7, \"symbol\": \"circle\"}, \"mode\": \"markers\", \"name\": \"Cluster 1\", \"scene\": \"scene\", \"showlegend\": true, \"type\": \"scatter3d\", \"x\": [78.75609588623047, 35.801509857177734, -93.94891357421875, -25.152048110961914, -27.118364334106445, 17.44588851928711, -65.95008087158203, 22.129623413085938, -4.989310264587402, -136.24058532714844, 85.90716552734375, 75.36749267578125, -124.67198181152344, -23.45060920715332, -60.11716842651367, 62.68925094604492, -94.74800872802734, 7.389825344085693], \"y\": [-135.1100616455078, 37.00100326538086, -83.96637725830078, 80.19052124023438, 75.71700286865234, 18.236440658569336, 37.424842834472656, 68.54984283447266, 25.19163703918457, -35.753631591796875, 43.35216522216797, 46.86844253540039, -67.11295318603516, 18.431320190429688, 95.97162628173828, 93.3596420288086, -23.033294677734375, 60.69617462158203], \"z\": [5.070943355560303, -107.47116088867188, 29.843456268310547, -11.950087547302246, -60.782840728759766, -68.16143035888672, -29.54926109313965, -73.33103942871094, -5.42351770401001, -51.17621612548828, 106.41783142089844, -77.08682250976562, -6.673366069793701, -48.66133117675781, -34.67243957519531, -104.31053924560547, -14.37808609008789, -31.196626663208008]}, {\"customdata\": [[5.9], [5.5], [5.8], [5.4], [6.1], [5.6], [5.6], [5.5], [5.8], [5.6], [5.5], [5.6], [5.8], [6.0], [5.5], [5.7], [5.2], [5.6], [5.5], [5.7], [4.9], [5.7], [5.7], [5.7]], \"hovertemplate\": \"Cluster=Cluster 2<br>0=%{x}<br>1=%{y}<br>2=%{z}<br>Feature=%{customdata[0]}<extra></extra>\", \"legendgroup\": \"Cluster 2\", \"marker\": {\"color\": \"#00cc96\", \"opacity\": 0.7, \"symbol\": \"circle\"}, \"mode\": \"markers\", \"name\": \"Cluster 2\", \"scene\": \"scene\", \"showlegend\": true, \"type\": \"scatter3d\", \"x\": [40.56831741333008, -70.68852233886719, -9.481795310974121, 24.443716049194336, 11.594517707824707, -37.3400764465332, -164.31068420410156, 8.655759811401367, 22.974517822265625, -82.86907958984375, -76.94609069824219, -35.46475601196289, -34.37021255493164, 2.007319688796997, -49.399227142333984, -22.11248207092285, -5.70793342590332, -81.76236724853516, -45.2594108581543, 15.490281105041504, -28.375335693359375, -3.925631523132324, -41.23996353149414, -51.943973541259766], \"y\": [-78.52081298828125, -77.6395263671875, -118.01497650146484, -155.22943115234375, -94.44279479980469, -43.83634948730469, -37.26417922973633, 196.9389190673828, -103.35514068603516, 71.39583587646484, -71.9721450805664, -54.400325775146484, -96.27079772949219, -101.13874816894531, -119.3309326171875, -66.09916687011719, -151.13795471191406, -114.10094451904297, -144.23324584960938, -48.82231140136719, -172.76419067382812, -68.53820037841797, -87.23792266845703, -27.830869674682617], \"z\": [-30.48333740234375, -103.07261657714844, -21.055374145507812, -34.76729202270508, -58.913902282714844, -28.91138458251953, 59.22077941894531, -44.34444808959961, 14.712017059326172, -89.24542999267578, -44.058326721191406, -79.12743377685547, -57.14009475708008, -103.48328399658203, -101.64106750488281, -121.47333526611328, -86.74651336669922, -51.990966796875, -59.24879455566406, 11.930216789245605, -15.354148864746094, -21.267711639404297, -5.379659175872803, -132.2230682373047]}, {\"customdata\": [[7.1], [7.6], [7.3], [7.2], [7.2], [7.4], [7.7], [7.7], [7.7], [7.9], [7.2], [7.7]], \"hovertemplate\": \"Cluster=Cluster 3<br>0=%{x}<br>1=%{y}<br>2=%{z}<br>Feature=%{customdata[0]}<extra></extra>\", \"legendgroup\": \"Cluster 3\", \"marker\": {\"color\": \"#ab63fa\", \"opacity\": 0.7, \"symbol\": \"circle\"}, \"mode\": \"markers\", \"name\": \"Cluster 3\", \"scene\": \"scene\", \"showlegend\": true, \"type\": \"scatter3d\", \"x\": [-110.46055603027344, 27.03322410583496, 42.49054718017578, 126.16557312011719, 163.12322998046875, -153.02403259277344, 5.37523889541626, 57.8258056640625, 123.35490417480469, 2.1451056003570557, 66.62586975097656, 66.47911071777344], \"y\": [-25.082782745361328, 161.31126403808594, 139.97503662109375, 120.98237609863281, 18.812286376953125, -10.021985054016113, 125.61621856689453, 128.3295135498047, 85.15351104736328, 167.78211975097656, 150.001953125, 166.79156494140625], \"z\": [177.5420379638672, 55.895484924316406, -6.115849018096924, 46.15711975097656, 37.583343505859375, -107.61735534667969, 28.347318649291992, 69.74010467529297, -117.74601745605469, 11.215864181518555, -47.61857604980469, 27.45604705810547]}, {\"customdata\": [[6.7], [6.7], [6.5], [6.7], [6.5], [6.3], [6.4], [6.3], [6.8], [6.4], [6.5], [6.8], [6.7], [6.9], [6.9], [6.4], [6.4], [6.9], [6.3], [6.7], [6.2], [6.5]], \"hovertemplate\": \"Cluster=Cluster 4<br>0=%{x}<br>1=%{y}<br>2=%{z}<br>Feature=%{customdata[0]}<extra></extra>\", \"legendgroup\": \"Cluster 4\", \"marker\": {\"color\": \"#FFA15A\", \"opacity\": 0.7, \"symbol\": \"circle\"}, \"mode\": \"markers\", \"name\": \"Cluster 4\", \"scene\": \"scene\", \"showlegend\": true, \"type\": \"scatter3d\", \"x\": [97.389404296875, 160.36143493652344, 65.05609893798828, 57.39936447143555, 117.93626403808594, 134.69143676757812, 161.32318115234375, 119.07208251953125, 166.51907348632812, 120.09909057617188, 120.012451171875, 125.49284362792969, -161.5593719482422, 105.73836517333984, 132.419921875, -23.6617488861084, 106.32665252685547, 140.34950256347656, 80.60624694824219, 98.67711639404297, 56.257869720458984, -117.38528442382812], \"y\": [116.14291381835938, 51.75914764404297, 36.98651123046875, 58.310455322265625, 90.6507339477539, -39.82685089111328, 16.05374526977539, 152.5291290283203, 73.62906646728516, 10.720730781555176, -10.739546775817871, 61.90449905395508, 58.34915542602539, 27.27889633178711, 54.26816177368164, -15.971287727355957, 21.41737937927246, 105.90544128417969, 102.02532196044922, 73.88348388671875, 90.76190948486328, 40.916080474853516], \"z\": [-18.962621688842773, -73.94589233398438, -30.68062400817871, 13.37539005279541, -56.43974304199219, 49.75719451904297, -33.4759521484375, -1.5624710321426392, 1.669360637664795, -91.18022918701172, 97.09530639648438, 30.38207244873047, -15.379793167114258, 6.335307598114014, -23.890830993652344, 192.7642059326172, -46.556236267089844, -10.035371780395508, 24.92580795288086, -6.873927593231201, -30.8370304107666, -54.7813606262207]}, {\"customdata\": [[4.4], [4.6], [4.8], [4.3], [5.0], [4.5], [4.8], [4.6], [4.4], [5.0], [4.9], [4.8], [4.8], [4.4], [4.7], [4.9], [4.6], [4.9], [5.0], [4.9], [4.6], [4.7], [4.8]], \"hovertemplate\": \"Cluster=Cluster 5<br>0=%{x}<br>1=%{y}<br>2=%{z}<br>Feature=%{customdata[0]}<extra></extra>\", \"legendgroup\": \"Cluster 5\", \"marker\": {\"color\": \"#19d3f3\", \"opacity\": 0.7, \"symbol\": \"circle\"}, \"mode\": \"markers\", \"name\": \"Cluster 5\", \"scene\": \"scene\", \"showlegend\": true, \"type\": \"scatter3d\", \"x\": [27.601436614990234, -24.5362548828125, -0.6308984756469727, -114.75980377197266, -17.527143478393555, -120.6962890625, 12.072568893432617, -36.270755767822266, -69.09603118896484, -86.77828979492188, -51.86521530151367, -33.89603042602539, 51.72105026245117, -12.71809196472168, -26.20018768310547, -103.82711029052734, -69.27252197265625, -60.58525848388672, -98.9974594116211, -1.5440112352371216, -18.419172286987305, -74.62875366210938, -19.50716209411621], \"y\": [56.13095474243164, -150.3267364501953, -42.60018539428711, 26.61507225036621, -9.61108112335205, -69.76387023925781, 34.971954345703125, -31.235490798950195, 47.4490852355957, 28.13916778564453, -21.809200286865234, 27.580957412719727, -58.0396728515625, -89.7651138305664, 12.36596965789795, -3.672983169555664, -2.6943538188934326, 11.114182472229004, -16.423940658569336, 5.199933052062988, 56.1504020690918, -41.656158447265625, 32.729522705078125], \"z\": [68.15865325927734, 64.47941589355469, 69.33561706542969, 17.69047737121582, 119.59839630126953, 91.49739837646484, 108.60621643066406, 36.69277572631836, 25.785551071166992, 99.06259155273438, 94.71495819091797, 95.99679565429688, -149.81967163085938, 175.77525329589844, 37.51224899291992, 62.86676788330078, 23.724916458129883, 66.7681655883789, 112.02952575683594, 74.32046508789062, 45.949737548828125, 59.36804962158203, 143.17271423339844]}, {\"customdata\": [[6.2], [6.7], [7.0], [6.4], [6.9], [6.5], [6.3], [6.6], [6.1], [6.2], [6.4], [6.6], [6.8], [6.7], [6.0], [6.0], [6.7], [6.3], [6.1], [6.1]], \"hovertemplate\": \"Cluster=Cluster 6<br>0=%{x}<br>1=%{y}<br>2=%{z}<br>Feature=%{customdata[0]}<extra></extra>\", \"legendgroup\": \"Cluster 6\", \"marker\": {\"color\": \"#FF6692\", \"opacity\": 0.7, \"symbol\": \"circle\"}, \"mode\": \"markers\", \"name\": \"Cluster 6\", \"scene\": \"scene\", \"showlegend\": true, \"type\": \"scatter3d\", \"x\": [-17.202974319458008, -37.712303161621094, 82.91362762451172, 52.36252975463867, 92.76287841796875, 47.39631652832031, -26.5123233795166, 89.46904754638672, 62.29408645629883, -16.564489364624023, 50.592430114746094, 68.92633056640625, 112.88787078857422, 128.68569946289062, 10.719229698181152, 72.00667572021484, 4.801726341247559, -43.61066818237305, -88.94483184814453, 26.797016143798828], \"y\": [30.308349609375, 84.442138671875, -19.269542694091797, -17.436725616455078, 0.8669277429580688, 2.7691609859466553, 124.79088592529297, -67.19548034667969, -47.36122512817383, -1.1005159616470337, -63.5797233581543, -30.29176902770996, -50.651485443115234, -23.063051223754883, -36.781593322753906, -113.04185485839844, 103.24174499511719, 27.188772201538086, 4.017343044281006, -17.453126907348633], \"z\": [-141.46063232421875, -132.597900390625, -11.187764167785645, -99.041015625, 46.6869010925293, 16.040029525756836, -76.214599609375, -14.522811889648438, 30.2935791015625, -97.5037612915039, -83.34375762939453, -56.66445541381836, -53.00309753417969, -7.469372749328613, -61.51954650878906, -70.88319396972656, -117.16289520263672, -96.58484649658203, -112.84861755371094, -24.420944213867188]}, {\"customdata\": [[5.1], [5.0], [4.9], [5.0]], \"hovertemplate\": \"Cluster=Cluster 7<br>0=%{x}<br>1=%{y}<br>2=%{z}<br>Feature=%{customdata[0]}<extra></extra>\", \"legendgroup\": \"Cluster 7\", \"marker\": {\"color\": \"#B6E880\", \"opacity\": 0.7, \"symbol\": \"circle\"}, \"mode\": \"markers\", \"name\": \"Cluster 7\", \"scene\": \"scene\", \"showlegend\": true, \"type\": \"scatter3d\", \"x\": [-24.340919494628906, -80.25334930419922, -43.34882736206055, -71.7820816040039], \"y\": [-109.58253479003906, -27.755970001220703, -70.73420715332031, -99.28022003173828], \"z\": [-153.11972045898438, -73.07518005371094, -170.36984252929688, -147.54116821289062]}],                        {\"height\": 800, \"legend\": {\"title\": {\"text\": \"Cluster\"}, \"tracegroupgap\": 0}, \"scene\": {\"domain\": {\"x\": [0.0, 1.0], \"y\": [0.0, 1.0]}, \"xaxis\": {\"title\": {\"text\": \"0\"}}, \"yaxis\": {\"title\": {\"text\": \"1\"}}, \"zaxis\": {\"title\": {\"text\": \"2\"}}}, \"template\": {\"data\": {\"bar\": [{\"error_x\": {\"color\": \"#2a3f5f\"}, \"error_y\": {\"color\": \"#2a3f5f\"}, \"marker\": {\"line\": {\"color\": \"#E5ECF6\", \"width\": 0.5}}, \"type\": \"bar\"}], \"barpolar\": [{\"marker\": {\"line\": {\"color\": \"#E5ECF6\", \"width\": 0.5}}, \"type\": \"barpolar\"}], \"carpet\": [{\"aaxis\": {\"endlinecolor\": \"#2a3f5f\", \"gridcolor\": \"white\", \"linecolor\": \"white\", \"minorgridcolor\": \"white\", \"startlinecolor\": \"#2a3f5f\"}, \"baxis\": {\"endlinecolor\": \"#2a3f5f\", \"gridcolor\": \"white\", \"linecolor\": \"white\", \"minorgridcolor\": \"white\", \"startlinecolor\": \"#2a3f5f\"}, \"type\": \"carpet\"}], \"choropleth\": [{\"colorbar\": {\"outlinewidth\": 0, \"ticks\": \"\"}, \"type\": \"choropleth\"}], \"contour\": [{\"colorbar\": {\"outlinewidth\": 0, \"ticks\": \"\"}, \"colorscale\": [[0.0, \"#0d0887\"], [0.1111111111111111, \"#46039f\"], [0.2222222222222222, \"#7201a8\"], [0.3333333333333333, \"#9c179e\"], [0.4444444444444444, \"#bd3786\"], [0.5555555555555556, \"#d8576b\"], [0.6666666666666666, \"#ed7953\"], [0.7777777777777778, \"#fb9f3a\"], [0.8888888888888888, \"#fdca26\"], [1.0, \"#f0f921\"]], \"type\": \"contour\"}], \"contourcarpet\": [{\"colorbar\": {\"outlinewidth\": 0, \"ticks\": \"\"}, \"type\": \"contourcarpet\"}], \"heatmap\": [{\"colorbar\": {\"outlinewidth\": 0, \"ticks\": \"\"}, \"colorscale\": [[0.0, \"#0d0887\"], [0.1111111111111111, \"#46039f\"], [0.2222222222222222, \"#7201a8\"], [0.3333333333333333, \"#9c179e\"], [0.4444444444444444, \"#bd3786\"], [0.5555555555555556, \"#d8576b\"], [0.6666666666666666, \"#ed7953\"], [0.7777777777777778, \"#fb9f3a\"], [0.8888888888888888, \"#fdca26\"], [1.0, \"#f0f921\"]], \"type\": \"heatmap\"}], \"heatmapgl\": [{\"colorbar\": {\"outlinewidth\": 0, \"ticks\": \"\"}, \"colorscale\": [[0.0, \"#0d0887\"], [0.1111111111111111, \"#46039f\"], [0.2222222222222222, \"#7201a8\"], [0.3333333333333333, \"#9c179e\"], [0.4444444444444444, \"#bd3786\"], [0.5555555555555556, \"#d8576b\"], [0.6666666666666666, \"#ed7953\"], [0.7777777777777778, \"#fb9f3a\"], [0.8888888888888888, \"#fdca26\"], [1.0, \"#f0f921\"]], \"type\": \"heatmapgl\"}], \"histogram\": [{\"marker\": {\"colorbar\": {\"outlinewidth\": 0, \"ticks\": \"\"}}, \"type\": \"histogram\"}], \"histogram2d\": [{\"colorbar\": {\"outlinewidth\": 0, \"ticks\": \"\"}, \"colorscale\": [[0.0, \"#0d0887\"], [0.1111111111111111, \"#46039f\"], [0.2222222222222222, \"#7201a8\"], [0.3333333333333333, \"#9c179e\"], [0.4444444444444444, \"#bd3786\"], [0.5555555555555556, \"#d8576b\"], [0.6666666666666666, \"#ed7953\"], [0.7777777777777778, \"#fb9f3a\"], [0.8888888888888888, \"#fdca26\"], [1.0, \"#f0f921\"]], \"type\": \"histogram2d\"}], \"histogram2dcontour\": [{\"colorbar\": {\"outlinewidth\": 0, \"ticks\": \"\"}, \"colorscale\": [[0.0, \"#0d0887\"], [0.1111111111111111, \"#46039f\"], [0.2222222222222222, \"#7201a8\"], [0.3333333333333333, \"#9c179e\"], [0.4444444444444444, \"#bd3786\"], [0.5555555555555556, \"#d8576b\"], [0.6666666666666666, \"#ed7953\"], [0.7777777777777778, \"#fb9f3a\"], [0.8888888888888888, \"#fdca26\"], [1.0, \"#f0f921\"]], \"type\": \"histogram2dcontour\"}], \"mesh3d\": [{\"colorbar\": {\"outlinewidth\": 0, \"ticks\": \"\"}, \"type\": \"mesh3d\"}], \"parcoords\": [{\"line\": {\"colorbar\": {\"outlinewidth\": 0, \"ticks\": \"\"}}, \"type\": \"parcoords\"}], \"pie\": [{\"automargin\": true, \"type\": \"pie\"}], \"scatter\": [{\"marker\": {\"colorbar\": {\"outlinewidth\": 0, \"ticks\": \"\"}}, \"type\": \"scatter\"}], \"scatter3d\": [{\"line\": {\"colorbar\": {\"outlinewidth\": 0, \"ticks\": \"\"}}, \"marker\": {\"colorbar\": {\"outlinewidth\": 0, \"ticks\": \"\"}}, \"type\": \"scatter3d\"}], \"scattercarpet\": [{\"marker\": {\"colorbar\": {\"outlinewidth\": 0, \"ticks\": \"\"}}, \"type\": \"scattercarpet\"}], \"scattergeo\": [{\"marker\": {\"colorbar\": {\"outlinewidth\": 0, \"ticks\": \"\"}}, \"type\": \"scattergeo\"}], \"scattergl\": [{\"marker\": {\"colorbar\": {\"outlinewidth\": 0, \"ticks\": \"\"}}, \"type\": \"scattergl\"}], \"scattermapbox\": [{\"marker\": {\"colorbar\": {\"outlinewidth\": 0, \"ticks\": \"\"}}, \"type\": \"scattermapbox\"}], \"scatterpolar\": [{\"marker\": {\"colorbar\": {\"outlinewidth\": 0, \"ticks\": \"\"}}, \"type\": \"scatterpolar\"}], \"scatterpolargl\": [{\"marker\": {\"colorbar\": {\"outlinewidth\": 0, \"ticks\": \"\"}}, \"type\": \"scatterpolargl\"}], \"scatterternary\": [{\"marker\": {\"colorbar\": {\"outlinewidth\": 0, \"ticks\": \"\"}}, \"type\": \"scatterternary\"}], \"surface\": [{\"colorbar\": {\"outlinewidth\": 0, \"ticks\": \"\"}, \"colorscale\": [[0.0, \"#0d0887\"], [0.1111111111111111, \"#46039f\"], [0.2222222222222222, \"#7201a8\"], [0.3333333333333333, \"#9c179e\"], [0.4444444444444444, \"#bd3786\"], [0.5555555555555556, \"#d8576b\"], [0.6666666666666666, \"#ed7953\"], [0.7777777777777778, \"#fb9f3a\"], [0.8888888888888888, \"#fdca26\"], [1.0, \"#f0f921\"]], \"type\": \"surface\"}], \"table\": [{\"cells\": {\"fill\": {\"color\": \"#EBF0F8\"}, \"line\": {\"color\": \"white\"}}, \"header\": {\"fill\": {\"color\": \"#C8D4E3\"}, \"line\": {\"color\": \"white\"}}, \"type\": \"table\"}]}, \"layout\": {\"annotationdefaults\": {\"arrowcolor\": \"#2a3f5f\", \"arrowhead\": 0, \"arrowwidth\": 1}, \"coloraxis\": {\"colorbar\": {\"outlinewidth\": 0, \"ticks\": \"\"}}, \"colorscale\": {\"diverging\": [[0, \"#8e0152\"], [0.1, \"#c51b7d\"], [0.2, \"#de77ae\"], [0.3, \"#f1b6da\"], [0.4, \"#fde0ef\"], [0.5, \"#f7f7f7\"], [0.6, \"#e6f5d0\"], [0.7, \"#b8e186\"], [0.8, \"#7fbc41\"], [0.9, \"#4d9221\"], [1, \"#276419\"]], \"sequential\": [[0.0, \"#0d0887\"], [0.1111111111111111, \"#46039f\"], [0.2222222222222222, \"#7201a8\"], [0.3333333333333333, \"#9c179e\"], [0.4444444444444444, \"#bd3786\"], [0.5555555555555556, \"#d8576b\"], [0.6666666666666666, \"#ed7953\"], [0.7777777777777778, \"#fb9f3a\"], [0.8888888888888888, \"#fdca26\"], [1.0, \"#f0f921\"]], \"sequentialminus\": [[0.0, \"#0d0887\"], [0.1111111111111111, \"#46039f\"], [0.2222222222222222, \"#7201a8\"], [0.3333333333333333, \"#9c179e\"], [0.4444444444444444, \"#bd3786\"], [0.5555555555555556, \"#d8576b\"], [0.6666666666666666, \"#ed7953\"], [0.7777777777777778, \"#fb9f3a\"], [0.8888888888888888, \"#fdca26\"], [1.0, \"#f0f921\"]]}, \"colorway\": [\"#636efa\", \"#EF553B\", \"#00cc96\", \"#ab63fa\", \"#FFA15A\", \"#19d3f3\", \"#FF6692\", \"#B6E880\", \"#FF97FF\", \"#FECB52\"], \"font\": {\"color\": \"#2a3f5f\"}, \"geo\": {\"bgcolor\": \"white\", \"lakecolor\": \"white\", \"landcolor\": \"#E5ECF6\", \"showlakes\": true, \"showland\": true, \"subunitcolor\": \"white\"}, \"hoverlabel\": {\"align\": \"left\"}, \"hovermode\": \"closest\", \"mapbox\": {\"style\": \"light\"}, \"paper_bgcolor\": \"white\", \"plot_bgcolor\": \"#E5ECF6\", \"polar\": {\"angularaxis\": {\"gridcolor\": \"white\", \"linecolor\": \"white\", \"ticks\": \"\"}, \"bgcolor\": \"#E5ECF6\", \"radialaxis\": {\"gridcolor\": \"white\", \"linecolor\": \"white\", \"ticks\": \"\"}}, \"scene\": {\"xaxis\": {\"backgroundcolor\": \"#E5ECF6\", \"gridcolor\": \"white\", \"gridwidth\": 2, \"linecolor\": \"white\", \"showbackground\": true, \"ticks\": \"\", \"zerolinecolor\": \"white\"}, \"yaxis\": {\"backgroundcolor\": \"#E5ECF6\", \"gridcolor\": \"white\", \"gridwidth\": 2, \"linecolor\": \"white\", \"showbackground\": true, \"ticks\": \"\", \"zerolinecolor\": \"white\"}, \"zaxis\": {\"backgroundcolor\": \"#E5ECF6\", \"gridcolor\": \"white\", \"gridwidth\": 2, \"linecolor\": \"white\", \"showbackground\": true, \"ticks\": \"\", \"zerolinecolor\": \"white\"}}, \"shapedefaults\": {\"line\": {\"color\": \"#2a3f5f\"}}, \"ternary\": {\"aaxis\": {\"gridcolor\": \"white\", \"linecolor\": \"white\", \"ticks\": \"\"}, \"baxis\": {\"gridcolor\": \"white\", \"linecolor\": \"white\", \"ticks\": \"\"}, \"bgcolor\": \"#E5ECF6\", \"caxis\": {\"gridcolor\": \"white\", \"linecolor\": \"white\", \"ticks\": \"\"}}, \"title\": {\"x\": 0.05}, \"xaxis\": {\"automargin\": true, \"gridcolor\": \"white\", \"linecolor\": \"white\", \"ticks\": \"\", \"title\": {\"standoff\": 15}, \"zerolinecolor\": \"white\", \"zerolinewidth\": 2}, \"yaxis\": {\"automargin\": true, \"gridcolor\": \"white\", \"linecolor\": \"white\", \"ticks\": \"\", \"title\": {\"standoff\": 15}, \"zerolinecolor\": \"white\", \"zerolinewidth\": 2}}}, \"title\": {\"text\": \"3d TSNE Plot for Clusters\"}, \"width\": 900},                        {\"responsive\": true}                    ).then(function(){\n",
       "                            \n",
       "var gd = document.getElementById('2dca1139-1ea2-4436-afc8-86841680a5c4');\n",
       "var x = new MutationObserver(function (mutations, observer) {{\n",
       "        var display = window.getComputedStyle(gd).display;\n",
       "        if (!display || display === 'none') {{\n",
       "            console.log([gd, 'removed!']);\n",
       "            Plotly.purge(gd);\n",
       "            observer.disconnect();\n",
       "        }}\n",
       "}});\n",
       "\n",
       "// Listen for the removal of the full notebook cells\n",
       "var notebookContainer = gd.closest('#notebook-container');\n",
       "if (notebookContainer) {{\n",
       "    x.observe(notebookContainer, {childList: true});\n",
       "}}\n",
       "\n",
       "// Listen for the clearing of the current output cell\n",
       "var outputEl = gd.closest('.output');\n",
       "if (outputEl) {{\n",
       "    x.observe(outputEl, {childList: true});\n",
       "}}\n",
       "\n",
       "                        })                };                });            </script>        </div>"
      ]
     },
     "metadata": {},
     "output_type": "display_data"
    },
    {
     "name": "stderr",
     "output_type": "stream",
     "text": [
      "INFO:logs:Visual Rendered Successfully\n",
      "INFO:logs:plot_model() succesfully completed......................................\n"
     ]
    }
   ],
   "source": [
    "plot_model(tuned_kmeans,'tsne')"
   ]
  },
  {
   "cell_type": "code",
   "execution_count": null,
   "metadata": {},
   "outputs": [],
   "source": []
  }
 ],
 "metadata": {
  "kernelspec": {
   "display_name": "python3.7",
   "language": "python",
   "name": "python3.7"
  },
  "language_info": {
   "codemirror_mode": {
    "name": "ipython",
    "version": 3
   },
   "file_extension": ".py",
   "mimetype": "text/x-python",
   "name": "python",
   "nbconvert_exporter": "python",
   "pygments_lexer": "ipython3",
   "version": "3.7.6"
  }
 },
 "nbformat": 4,
 "nbformat_minor": 4
}
